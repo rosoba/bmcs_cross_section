{
 "cells": [
  {
   "cell_type": "code",
   "execution_count": null,
   "metadata": {},
   "outputs": [],
   "source": [
    "%matplotlib widget\n",
    "from bmcs_cross_section.api import MKappa, EC2\n",
    "import sympy as sp\n",
    "import numpy as np\n",
    "import matplotlib.pyplot as plt"
   ]
  },
  {
   "cell_type": "code",
   "execution_count": null,
   "metadata": {},
   "outputs": [],
   "source": [
    "sig_c1, sig_c2, sig_c3, eps_cu1, b, c, d, A_f, f_fu, E_f = \\\n",
    " sp.symbols('sigma_c1 sigma_c2 sigma_c3, varepsilon_cu1, b, c, d, A_f, f_{fu}, E_f', real=True, nonnegative=True)\n",
    "eps_cy, eps_cu, eps, E_cc, f_cm = \\\n",
    "sp.symbols('varepsilon_cy, varepsilon_cu, varepsilon, E_cc, f_cm', real=True, nonnegative=True)"
   ]
  },
  {
   "cell_type": "code",
   "execution_count": null,
   "metadata": {},
   "outputs": [],
   "source": [
    "E_cc_1 = f_cm / eps_cy\n",
    "\n",
    "sig_c_eps_1 = sp.Piecewise(\n",
    "        (E_cc_1 * eps, eps < eps_cy),\n",
    "         (f_cm, eps < eps_cu),\n",
    "        (0, True)\n",
    ")\n",
    "\n",
    "sig_c_eps_1"
   ]
  },
  {
   "cell_type": "code",
   "execution_count": null,
   "metadata": {},
   "outputs": [],
   "source": [
    "# EC2, eq. (3.14)\n",
    "\n",
    "k = 1.05 * E_cc * eps_cy / f_cm\n",
    "eta = eps / eps_cy\n",
    "sig_c = f_cm * (k*eta - eta**2)/(1+eta*(k-2))\n",
    "\n",
    "sig_c_eps_2 = sp.Piecewise(\n",
    "        (0, eps > eps_cu),\n",
    "        (sig_c, eps > 0),\n",
    "        (0, True)\n",
    ")\n",
    "sig_c_eps_2"
   ]
  },
  {
   "cell_type": "code",
   "execution_count": null,
   "metadata": {},
   "outputs": [],
   "source": [
    "fig, ax = plt.subplots()\n",
    "f_cms = np.array([ 20.,  24.,  28.,  33.,  38.,  43.,  48.,  53.,  58.,  63.,  68., 78.,  88.,  98., 108.])\n",
    "\n",
    "for f_cm_ in f_cms: # f_cms:\n",
    "    eps_cy_ = EC2.get_eps_c3(f_cm_ - 8)\n",
    "    eps_cu_ = EC2.get_eps_cu3(f_cm_ - 8)\n",
    "    sig_c_eps = sig_c_eps_1.subs({eps_cy:eps_cy_, f_cm:f_cm_, eps_cu:eps_cu_})\n",
    "    get_sig = sp.lambdify(eps, sig_c_eps, 'numpy')\n",
    "    eps_1 = np.linspace(0, eps_cu_, 300)\n",
    "    sig_1 = get_sig(eps_1)\n",
    "    \n",
    "    eps_cy_ = EC2.get_eps_c1(f_cm_ - 8)\n",
    "    eps_cu_ = EC2.get_eps_cu1(f_cm_ - 8)\n",
    "    sig_c_eps2 = sig_c_eps_2.subs({E_cc:EC2.get_E_cm(f_cm_ - 8), eps_cy:eps_cy_, \n",
    "                                f_cm:EC2.get_f_cm(f_cm_ - 8), eps_cu:eps_cu_})\n",
    "    get_sig2 = sp.lambdify(eps, sig_c_eps2, 'numpy')\n",
    "    eps_2 = np.linspace(0, eps_cu_, 300)\n",
    "    sig_2 = get_sig2(eps_2)\n",
    "    \n",
    "    area_1 = np.trapz(y=sig_1, x=eps_1)\n",
    "    area_2 = np.trapz(y=sig_2, x=eps_2)\n",
    "#     print('area_1=', area_1)\n",
    "#     print('area_2=', area_2)\n",
    "    print('area_diff [%]=', np.round((area_2 - area_1) * 100 / area_2, 2))\n",
    "    \n",
    "    ax.plot(eps_1, sig_1)\n",
    "    ax.plot(eps_2, sig_2)\n",
    "    \n",
    "# fig.show()"
   ]
  },
  {
   "cell_type": "markdown",
   "metadata": {},
   "source": [
    "## Deriving $\\psi_c, M_n$ equations for the linearized curve"
   ]
  },
  {
   "cell_type": "code",
   "execution_count": null,
   "metadata": {},
   "outputs": [],
   "source": [
    "substitute_E_cc_and_eps_cy = False\n",
    "\n",
    "if substitute_E_cc_and_eps_cy:\n",
    "    eps_c3 = sp.Piecewise(\n",
    "            (1.75 + 0.55 * ((f_ck - 50) / 40), f_ck > 50),\n",
    "            (1.75, True)\n",
    "    )\n",
    "else:\n",
    "    eps_c3 = eps_cy\n",
    "\n",
    "sig_line = sp.Line(sp.Point(0, 0), sp.Point(eps_c3, f_cm))\n",
    "\n",
    "sig_eq_ = sig_line.equation(x=eps, y=sig_c1)\n",
    "sig_eq = sp.solve(sig_eq_, sig_c1)[0]\n",
    "sig_eq"
   ]
  },
  {
   "cell_type": "code",
   "execution_count": null,
   "metadata": {},
   "outputs": [],
   "source": [
    "sig_eq_area_up_to_eps = sp.integrate(sp.simplify(sig_eq), eps)\n",
    "sig_eq_area_up_to_eps"
   ]
  },
  {
   "cell_type": "code",
   "execution_count": null,
   "metadata": {},
   "outputs": [],
   "source": [
    "# Compare F_t = A_f * f_fu with F_c_1, if F_t <= F_c_1, then use psi_c formula, otherwise psi_c = 1\n",
    "eps_fu = f_fu/E_f\n",
    "c_1 = d * (eps_c3 / (eps_c3 + eps_fu))\n",
    "F_c_1 = sig_eq_area_up_to_eps.subs({eps:eps_c3}) * (c_1 / eps_c3) * b\n",
    "F_c_1 = sp.simplify(F_c_1)\n",
    "F_c_1"
   ]
  },
  {
   "cell_type": "code",
   "execution_count": null,
   "metadata": {},
   "outputs": [],
   "source": [
    "sp.N(F_c_1.subs({f_cm:50, b:400, d:180, f_fu:2500, E_f:200000, A_f:20, E_cc:EC2.get_E_cm(50-8), eps_cy:EC2.get_eps_c1(50-8)}))"
   ]
  },
  {
   "cell_type": "code",
   "execution_count": null,
   "metadata": {},
   "outputs": [],
   "source": [
    "# Solving eps top for part 1\n",
    "def get_eps_top_solved():\n",
    "    c = d * eps/(eps + eps_fu)\n",
    "    F_t = A_f * f_fu\n",
    "    sig_z_area = sig_eq_area_up_to_eps * (c / eps)\n",
    "    F_c = sig_z_area * b\n",
    "    eps_top_solved = sp.solve(F_t - F_c, eps)[1] # TODO, this the positive solution, make sure you don't want the negative\n",
    "    eps_top_solved = sp.simplify(eps_top_solved)\n",
    "    return eps_top_solved"
   ]
  },
  {
   "cell_type": "code",
   "execution_count": null,
   "metadata": {},
   "outputs": [],
   "source": [
    "eps_part_1 = get_eps_top_solved()\n",
    "eps_part_1"
   ]
  },
  {
   "cell_type": "code",
   "execution_count": null,
   "metadata": {},
   "outputs": [],
   "source": [
    "def get_psi():\n",
    "    eps_top_solved = get_eps_top_solved()\n",
    "    sig_c_max = sig_eq.subs({eps: eps_top_solved})\n",
    "    psi_c = sig_c_max / f_cm\n",
    "    psi_c = sp.simplify(psi_c)\n",
    "    return psi_c"
   ]
  },
  {
   "cell_type": "code",
   "execution_count": null,
   "metadata": {},
   "outputs": [],
   "source": [
    "psi_c = get_psi()\n",
    "psi_c"
   ]
  },
  {
   "cell_type": "code",
   "execution_count": null,
   "metadata": {},
   "outputs": [],
   "source": [
    "psi_c_reduced = sp.cse(psi_c)\n",
    "psi_c_reduced[-1][0]"
   ]
  },
  {
   "cell_type": "code",
   "execution_count": null,
   "metadata": {},
   "outputs": [],
   "source": [
    "sp.N(psi_c.subs({f_cm:50, b:400, d:180, f_fu:2500, E_f:200000, A_f:20, E_cc:EC2.get_E_cm(50-8), eps_cy:EC2.get_eps_c1(50-8)}))"
   ]
  },
  {
   "cell_type": "code",
   "execution_count": null,
   "metadata": {},
   "outputs": [],
   "source": [
    "# Because first part is triangle, the center of it is\n",
    "c = d * eps/(eps + eps_fu)\n",
    "ce1 = c.subs({eps: eps_part_1}) / 3\n",
    "ce1 = sp.simplify(ce1)\n",
    "ce1"
   ]
  },
  {
   "cell_type": "code",
   "execution_count": null,
   "metadata": {},
   "outputs": [],
   "source": [
    "# Valid for f_cm > 88\n",
    "M_n_1 = sp.simplify(A_f * f_fu * (d - ce1))\n",
    "M_n_1\n",
    "# packaging common terms\n",
    "# sp.cse(M_n)"
   ]
  },
  {
   "cell_type": "code",
   "execution_count": null,
   "metadata": {},
   "outputs": [],
   "source": [
    "sp.N(M_n_1.subs({f_cm:50, b:400, d:180, f_fu:2500, E_f:200000, A_f:20, E_cc:EC2.get_E_cm(50-8), eps_cy:EC2.get_eps_c1(50-8)}) / 1e6)"
   ]
  }
 ],
 "metadata": {
  "kernelspec": {
   "display_name": "Python 3 (ipykernel)",
   "language": "python",
   "name": "python3"
  },
  "language_info": {
   "codemirror_mode": {
    "name": "ipython",
    "version": 3
   },
   "file_extension": ".py",
   "mimetype": "text/x-python",
   "name": "python",
   "nbconvert_exporter": "python",
   "pygments_lexer": "ipython3"
  }
 },
 "nbformat": 4,
 "nbformat_minor": 4
}
