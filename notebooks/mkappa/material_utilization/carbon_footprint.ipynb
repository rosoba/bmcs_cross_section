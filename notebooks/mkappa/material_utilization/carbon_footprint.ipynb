{
 "cells": [
  {
   "cell_type": "markdown",
   "metadata": {},
   "source": [
    "# Analytical model of carbon footprint for reinforced beams"
   ]
  },
  {
   "cell_type": "markdown",
   "metadata": {},
   "source": [
    "## General concept"
   ]
  },
  {
   "cell_type": "markdown",
   "metadata": {},
   "source": [
    "In this notebook, we introduce the environmental impact represented by the global warming potential (GWP) of a design as a function of the required performance represented by a living unit of a standard comfort. Our definition of comfort includes the statical aspects enabling the living unit. Thus, the required performance considered here considers the structural design, that guarantees the function via meeting the limit state requirements of safety and serviceability."
   ]
  },
  {
   "cell_type": "markdown",
   "metadata": {},
   "source": [
    "For simplicity, let us consider a brittle system of two components linked in series. This means that the failure of either component means an ultimate failure. Such structure describes the failure mechanism behind the flexural failure of carbon-reinforced concrete in a simply supported beam. "
   ]
  },
  {
   "cell_type": "markdown",
   "metadata": {},
   "source": [
    "In this system, full utilization of both components is provided if they fail simultaneously. Based on this condition, we can require that for concrete\n",
    "$$\n",
    "  f_\\mathrm{R,c} = \\sigma_\\mathrm{E,c}(q_\\mathrm{E}, g_\\mathrm{E}(\\mathcal{C}, \\mathcal{S}); \\mathcal{C}, \\mathcal{S})\n",
    "$$\n",
    "and, at the same time for the reinforcement\n",
    "$$\n",
    "  f_\\mathrm{R,r} = \\sigma_\\mathrm{E,r}(q_{\\mathrm{E}}, g_\\mathrm{E}(\\mathcal{C}, \\mathcal{S}); \\mathcal{C}, \\mathcal{S})\n",
    "$$\n",
    "where $f_\\mathrm{R,c}$ and $f_\\mathrm{R,r}$ represent the strength of concrete and reinforcement, respectively. The corresponding stresses are denoted as $\\sigma_\\mathrm{R,c}$ \n",
    "and $\\sigma_\\mathrm{R,r}$. The required performance is represented by the prescribed service load $q_\\mathrm{E}$, and the design configuration is represented by the cross-sectional parameters $\\mathcal{C}$ and the structural parameters $\\mathcal{S}$. An example of cross sectional parameters included in $\\mathcal{C}$ is the width and depth of a rectangular beam or the flange and web dimensions of a T-beam. An example of a structural parameter included in the vector $\\mathcal{S}$ is for example the length of a simply supported beam. Note that the above stress functions also implicitly consider the self-weight of the structure depending on the dimensions and material density. "
   ]
  },
  {
   "cell_type": "markdown",
   "metadata": {},
   "source": [
    "Let us summarize these condition in a set of utilization constraints\n",
    "$$\n",
    "\\mathcal{U}_i := \\sigma^{\\mathrm{E}}_i (q_\\mathrm{E}; \\mathcal{C}, \\mathcal{S}) - f^\\mathrm{R}_i = 0, \\;\\; i \\in 1\\ldots N_\\mathcal{U}\n",
    "$$"
   ]
  },
  {
   "cell_type": "markdown",
   "metadata": {},
   "source": [
    "or in terms of the utilization ratios, we require\n",
    "$$\n",
    "\\eta_i = \\frac{\\sigma^{\\mathrm{E}}_i (q_\\mathrm{E}; \\mathcal{C}, \\mathcal{S})}{f^\\mathrm{R}_i} = 1, \\;\\; i \\in 1\\ldots N_\\mathcal{U}\n",
    "$$"
   ]
  },
  {
   "cell_type": "markdown",
   "metadata": {},
   "source": [
    "## Parameterization of the free design space"
   ]
  },
  {
   "cell_type": "markdown",
   "metadata": {},
   "source": [
    "The free parameters of the design can include cross-sectional parameters, e.g. width, depth, flange, web parameters, or a distance of ribs or even their spatial layout.\n",
    "In case of a reinfrced rectangular beam, let us consider the tree parameters\n",
    "$$\n",
    " \\mathcal{C} = [b, d, \\rho]\n",
    "$$ "
   ]
  },
  {
   "cell_type": "markdown",
   "metadata": {},
   "source": [
    "The conditions of full utilization can be applied to reduce the dimension of the design space. The choice of constrained variables and of the primary design variables is arbitrary. Given $N_\\mathcal{C}$ number of design variables and $N_\\mathcal{U}$ number of utilization constraints, where $N_\\mathcal{C} > N_\\mathcal{U}$   \n",
    "$$\n",
    "  \\mathcal{C}^\\mathcal{U}_i \\subset \\mathcal{C}, \\;\\; i \\in 1 \\ldots N_\\mathcal{U},\n",
    "$$  \n",
    "the free, or primary design parameters represent the complementary set\n",
    "$$\n",
    " \\mathcal{C}^\\mathrm{d} = \\mathcal{C} \\setminus \\mathcal{C}^\\mathrm{U}.\n",
    "$$\n"
   ]
  },
  {
   "cell_type": "markdown",
   "metadata": {},
   "source": [
    "The variables constrained by utilization requirement $\\mathcal{C}^\\mathcal{U}$ can then be resolved to obtain explicit values\n",
    "$$\n",
    " \\mathcal{C}^\\mathcal{U}_i = \\mathcal{U}_i(q_\\mathrm{E}, f^\\mathrm{R}_i, \\mathcal{C}^\\mathrm{d}, \\mathcal{S}), \\;\\; \n",
    " i = 1 \\ldots N_\\mathcal{U}\n",
    "$$"
   ]
  },
  {
   "cell_type": "markdown",
   "metadata": {},
   "source": [
    "The structural dimensions and the boundary conditions $\\mathcal{S}$ are prescribed, as they are also part of the function unit. For example, they influence the usage parameters of the room below the beam. Thus, the above equation delivers fully utilized designs for specified primary design variables $\\mathcal{C}^\\mathrm{d}$."
   ]
  },
  {
   "cell_type": "markdown",
   "metadata": {},
   "source": [
    "## Constrained reinforcement ratio\n",
    "\n",
    "To deliver a closed form solution, let us express the reinforcement ratio with the help of the utilization of constraint for the reinforcement, i.e.\n",
    "$$\n",
    "\\rho = \\mathcal{R}( f_\\mathrm{R,r}, q_{\\mathrm{E}}, g_\\mathrm{E}(b, d, \\mathcal{S}); b, d, \\mathcal{S})\n",
    "$$"
   ]
  },
  {
   "cell_type": "markdown",
   "metadata": {},
   "source": [
    "**Remark:** Note that the self-weight $g_\\mathrm{E}(b, d, \\rho)$ also depends on the reinforcement ratio. In a general framework the constrained reinforcement ratio might be more difficult to resolve than in the present case. In order to construct a closed-form link, let us proceed with the weight of the reinforcement neglected."
   ]
  },
  {
   "cell_type": "markdown",
   "metadata": {},
   "source": [
    "**Remark:** Note that for rectangular cross sections and for $\\mathcal{S} = {L}$, the reinforcement ratio only depends on the aspect ratio of the cross-sectional dimensions $b, d$. This result has been derived analytically in a previous paper~\\cite{spartali_2023}."
   ]
  },
  {
   "cell_type": "markdown",
   "metadata": {},
   "source": [
    "The utilization criterion can be introduced for each material component separately as done above. Alternatively, in case of a weakest-link system, it is possible to require "
   ]
  },
  {
   "cell_type": "markdown",
   "metadata": {},
   "source": [
    "Then the utilization of the concrete matrix can be used to derive an explicit relation for the width of the beam, given its depth as\n",
    "$$\n",
    "  b = \\mathcal{B}( f_\\mathrm{R,c}, q_\\mathrm{E}, g_\\mathrm{E}(d, \\mathcal{S}); d, \\mathcal{S})\n",
    "$$"
   ]
  },
  {
   "cell_type": "markdown",
   "metadata": {},
   "source": [
    "**Remark:** This is essencially the logic applied in the cited paper applied at the level of a critical cross-section. Here, we include the self-weight and also the structural dimension and the boundary conditions. In such a case, an implicit set of functions defining the constraints will be obtained that will be solved numerically. Still, in order to present the concept of reducing the design space by employing the utilization constraints let us continue with this simple example and include the global warming potential into the mathematical formulation."
   ]
  },
  {
   "cell_type": "markdown",
   "metadata": {},
   "source": [
    "## Global warming potential function "
   ]
  },
  {
   "cell_type": "markdown",
   "metadata": {},
   "source": [
    "With the utilized design constraint we can refine the quantification of the environmental impact by inserting the above condition into the volume calculation "
   ]
  },
  {
   "cell_type": "markdown",
   "metadata": {},
   "source": [
    "The design parameters $\\mathcal{C} = \\mathcal{C}^\\mathcal{U} + \\mathcal{C}^\\mathrm{d}$ and $\\mathcal{S}$ are directly linked to material consumption by evaluating the volume of each material component as\n",
    "$$\n",
    " V_\\mathrm{i} = \\mathcal{V}_i(\\mathcal{S}, \\mathcal{C}^\\mathcal{U}(q_\\mathrm{E}, f^\\mathrm{R}_i, \\mathcal{C}^\\mathrm{d}, \\mathcal{S}), \\mathcal{C}^\\mathrm{d}).\n",
    "$$  \n",
    "The total equivalent carbon footprint is then obtained as\n",
    "$$\n",
    " \\epsilon = \\sum_i e_i(f^\\mathrm{R}_i) g_i = \\sum_i e_i(f^\\mathrm{R}_i) \\rho_i V_i,\n",
    "$$\n",
    "where $e_i$, $g_i$, and $\\rho_i$ denote the carbon footprint per unit mass, weight, and material density, respectively."
   ]
  },
  {
   "cell_type": "markdown",
   "metadata": {},
   "source": [
    "In abbreviated form, we obtained an equation for GWP in a form\n",
    "$$\n",
    " e = \\mathcal{E}( q_\\mathrm{E}, f^\\mathrm{R}_i, \\mathcal{C}^\\mathrm{d}, \\mathcal{S})\n",
    "$$"
   ]
  },
  {
   "cell_type": "markdown",
   "metadata": {},
   "source": [
    "## GWP of fully utilized design "
   ]
  },
  {
   "cell_type": "markdown",
   "metadata": {},
   "source": [
    "Using the above values of a resolved systems with the reinforcement ratio $\\rho$ and the beam width $b$ defined as functions of the beam depth, we can express the global warming potential directly as\n",
    "$$\n",
    " e = \\mathcal{E}( q_\\mathrm{E}, f^\\mathrm{R}_i, d, \\mathcal{S})\n",
    "$$ "
   ]
  },
  {
   "cell_type": "markdown",
   "metadata": {},
   "source": [
    "Let us remind that this representation neglects the self weight. Still, it introduces a link between a function and the environmental impact. Therefore, we can introduce the minimization problem \n",
    "$$\n",
    " \\min_{d} \\mathcal{E}( q_\\mathrm{E}, f^\\mathrm{R}_i, d, \\mathcal{S}) \\rightarrow d\n",
    "$$\n",
    "This equation can be solved analytically to obtain\n",
    "$$\n",
    " d = \\mathcal{D}( q_\\mathrm{E}, f^\\mathrm{R}_i, \\mathcal{S} )\n",
    "$$"
   ]
  },
  {
   "cell_type": "markdown",
   "metadata": {},
   "source": [
    "**Conclusion:** We can derive an eplicit equation for the free design parameters of a rectangular cross-section represented by $\\mathcal{C} = [b, d, \\rho]$ which directly renders the design with minimum GWP. "
   ]
  },
  {
   "cell_type": "markdown",
   "metadata": {},
   "source": [
    "In this way, we obtain the GWP function within the design space.\n",
    "\n",
    " - Is the full utilization implicitly a sustainability criterion?\n",
    " - What is the environmental penalty for not utilizing the material?"
   ]
  },
  {
   "cell_type": "markdown",
   "metadata": {},
   "source": [
    "# Uniaxial tension of two-component system"
   ]
  },
  {
   "cell_type": "code",
   "execution_count": null,
   "metadata": {},
   "outputs": [],
   "source": [
    "%matplotlib widget\n",
    "from matplotlib import rc\n",
    "rc('font',**{'family':'serif','serif':['Palatino']})\n",
    "rc('text', usetex=True)\n",
    "import matplotlib.pyplot as plt\n",
    "import numpy as np\n",
    "import sympy as sp\n",
    "from bmcs_utils.api import Cymbol\n",
    "sp.init_printing()"
   ]
  },
  {
   "cell_type": "markdown",
   "metadata": {},
   "source": [
    "## Design variables"
   ]
  },
  {
   "cell_type": "code",
   "execution_count": null,
   "metadata": {},
   "outputs": [],
   "source": [
    "# specific equivalent CO2 footprint of reinforcement\n",
    "e_r = Cymbol(r'e_\\mathrm{r}', codename='e_r') \n",
    "# material density of reinforcement\n",
    "rho_r = Cymbol(r'\\varrho_{\\mathrm{r}}', codename='rho_r')\n",
    "# reinforcement strength\n",
    "f_r = Cymbol(r'f_\\mathrm{r}', codename='f_r')\n",
    "# specific equivalent C02 footprint of the matrix\n",
    "e_c = Cymbol(r'e_\\mathrm{c}', codename='e_c') \n",
    "# material density of concrete\n",
    "rho_c = Cymbol(r'\\varrho_{\\mathrm{c}}', codename='rho_c')\n",
    "a  = Cymbol(r'a')\n",
    "# reinforcement ratio \n",
    "rho = Cymbol(r'\\rho', codename='rho')\n",
    "A_c = Cymbol(r'A_\\mathrm{c}')\n",
    "A_r = Cymbol(r'A_\\mathrm{r}')"
   ]
  },
  {
   "cell_type": "markdown",
   "metadata": {},
   "source": [
    "Prescribed force $F$ specifying to be carried by the reinforcement."
   ]
  },
  {
   "cell_type": "code",
   "execution_count": null,
   "metadata": {},
   "outputs": [],
   "source": [
    "F = Cymbol(r'F') "
   ]
  },
  {
   "cell_type": "markdown",
   "metadata": {},
   "source": [
    "Carbon footprint per function would tell us how high is the equivalent CO$_2$ emission needed to achieve a certain performance. This would allow us to compare traditional solutions with existing ones.\n",
    "$$\n",
    "    e_\\mathrm{crc}(F)\n",
    "$$\n",
    "On the other hand function per carbon footprint would tell us what performance can be achieved with a particular material given a specified level of CO$_2$ emission.\n",
    "$$\n",
    "    F(e_\\mathrm{crc})\n",
    "$$"
   ]
  },
  {
   "cell_type": "markdown",
   "metadata": {},
   "source": [
    "The former relation can be obtained by expressing the former equation as\n",
    "$$\n",
    "    e_\\mathrm{crc} = A_\\mathrm{c}(F) e_\\mathrm{c} \\rho_\\mathrm{c} + A_\\mathrm{r}(F) e_\\mathrm{r} \\rho_\\mathrm{r}\n",
    "$$"
   ]
  },
  {
   "cell_type": "code",
   "execution_count": null,
   "metadata": {},
   "outputs": [],
   "source": [
    "e_crc_ = sp.simplify(A_c * e_c * rho_c + A_r * e_r * rho_r) / a\n",
    "e_crc_"
   ]
  },
  {
   "cell_type": "markdown",
   "metadata": {},
   "source": [
    "Expressing the concrete area using the reinforcement ratio $\\rho$\n",
    "$$\n",
    "    A_\\mathrm{c} = A_\\mathrm{r}(\\frac{1}{\\rho} - 1)\n",
    "$$"
   ]
  },
  {
   "cell_type": "code",
   "execution_count": null,
   "metadata": {},
   "outputs": [],
   "source": [
    "rho_eq = sp.Eq(rho, A_r / (A_r + A_c))\n",
    "A_c_solved = sp.collect(sp.solve(rho_eq, A_c)[0], A_r)\n",
    "A_c_solved"
   ]
  },
  {
   "cell_type": "markdown",
   "metadata": {},
   "source": [
    "After substitution, the above relation reads\n",
    "$$\n",
    "    e_\\mathrm{crc} = A_\\mathrm{r} \\left(\\frac{1}{\\rho} - 1\\right) e_\\mathrm{c} + A_\\mathrm{r}(F) e_\\mathrm{r}\n",
    "$$"
   ]
  },
  {
   "cell_type": "markdown",
   "metadata": {},
   "source": [
    "This simplifies to\n",
    "$$\n",
    "    e_\\mathrm{crc} = A_\\mathrm{r}(F) \\left[\\left(\\frac{1}{\\rho} - 1\\right) e_\\mathrm{c} + e_\\mathrm{r}\n",
    "    \\right]\n",
    "$$"
   ]
  },
  {
   "cell_type": "code",
   "execution_count": null,
   "metadata": {},
   "outputs": [],
   "source": [
    "e_crc_A_r_ = sp.collect(e_crc_.subs(A_c, A_c_solved), A_r)\n",
    "e_crc_A_r_"
   ]
  },
  {
   "cell_type": "markdown",
   "metadata": {},
   "source": [
    "The expression $A_\\mathrm{r}(F)$ represents the required amount of reinforcement to transfer the load $F$. Given the strength $f_\\mathrm{r}$, we require full utilization\n",
    "$$\n",
    "   F = f_\\mathrm{r} A_\\mathrm{r}\n",
    "$$\n",
    "which resolves to \n",
    "$$\n",
    "   A_\\mathrm{r} = \\frac{F}{f_\\mathrm{r}}\n",
    "$$\n",
    "This renders the expression\n",
    "$$\n",
    "    e_\\mathrm{crc} = \\frac{F}{a f_\\mathrm{r}} \\left[\\left(\\frac{1}{\\rho} - 1\\right) e_\\mathrm{c} + e_\\mathrm{r}\n",
    "    \\right]\n",
    "$$"
   ]
  },
  {
   "cell_type": "code",
   "execution_count": null,
   "metadata": {},
   "outputs": [],
   "source": [
    "e_crc_F_ = sp.simplify(e_crc_A_r_.subs(A_r, F/f_r))\n",
    "e_crc_F_"
   ]
  },
  {
   "cell_type": "code",
   "execution_count": null,
   "metadata": {},
   "outputs": [],
   "source": [
    "get_e_crc = sp.lambdify((F, rho, rho_c, rho_r, e_r, e_c, f_r, a), e_crc_F_)"
   ]
  },
  {
   "cell_type": "code",
   "execution_count": null,
   "metadata": {},
   "outputs": [],
   "source": [
    "e_src = get_e_crc(F=1000, rho=0.1, rho_c=2400, rho_r=7850, e_r=2, e_c=0.12, f_r=500, a=1 )\n",
    "e_crc = get_e_crc(F=1000, rho=0.1, rho_c=2400, rho_r=2000, e_r=19, e_c=0.12, f_r=3000, a=3 )\n",
    "e_src, e_crc, e_src / e_crc"
   ]
  },
  {
   "cell_type": "code",
   "execution_count": null,
   "metadata": {},
   "outputs": [],
   "source": [
    "get_e_r_crc = sp.lambdify((F, rho, rho_c, rho_r, e_r, e_c, f_r, a), e_crc_F_.subs(e_c,0))\n",
    "e_src = get_e_r_crc(F=1000, rho=0.01, rho_c=2400, rho_r=7850, e_r=2, e_c=0.12, f_r=500, a=1 )\n",
    "e_crc = get_e_r_crc(F=1000, rho=0.01, rho_c=2400, rho_r=2000, e_r=19, e_c=0.12, f_r=3000, a=3 )\n",
    "e_src, e_crc, e_src / e_crc"
   ]
  },
  {
   "cell_type": "code",
   "execution_count": null,
   "metadata": {},
   "outputs": [],
   "source": [
    "fig, ax = plt.subplots(1,1)\n",
    "ax_right = ax.twinx()\n",
    "rho_range = np.linspace(0.001, 0.04, 100)\n",
    "src_params = dict(F=10, rho_c=2400, rho_r=7850, e_r=2, e_c=0.12, f_r=500, a=1)\n",
    "crc_params = dict(F=10, rho_c=2400, rho_r=2000, e_r=19, e_c=0.12, f_r=3000, a=3)\n",
    "e_src_range = get_e_crc(rho=rho_range, **src_params)\n",
    "e_crc_range = get_e_crc(rho=rho_range, **crc_params)\n",
    "ax.plot(rho_range, e_src_range, label='SRC')\n",
    "ax.plot(rho_range, e_crc_range, label='CRC')\n",
    "ax_right.plot(rho_range, e_src_range / e_crc_range, color='green', label='ratio')\n",
    "ax.set_ylabel(r'$e$ [equiv CO$_2$ kg/(mm a)]')\n",
    "ax.set_xlabel(r'$\\rho$ [-]')\n",
    "ax_right.set_ylabel(r'$e_\\mathrm{SRC} / e_\\mathrm{CRC}$')\n",
    "ax.legend()"
   ]
  },
  {
   "cell_type": "markdown",
   "metadata": {},
   "source": [
    "## Flexural capacity versus GWP"
   ]
  },
  {
   "cell_type": "code",
   "execution_count": null,
   "metadata": {},
   "outputs": [],
   "source": [
    "b = Cymbol('b', real=True, nonnegative=True)\n",
    "d = Cymbol('d', real=True, nonnegative=True)\n",
    "zeta = Cymbol(r'\\zeta', codename='zeta', real=True, nonnegative=True)\n",
    "sig_b = Cymbol(r'\\sigma_\\mathrm{b}', codename='sig_b', real=True, nonnegative=True)\n",
    "rho_b = Cymbol(r'\\rho_\\mathrm{b}', codename='rho_b', real=True, nonnegative=True)\n",
    "c_nom = Cymbol(r'c_\\mathrm{nom}', codename='c_nom', real=True, nonnegative=True)\n",
    "c_nom = 0\n",
    "A_r = Cymbol(r'A_\\mathrm{r}', codename=A_r)\n",
    "A_c = Cymbol(r'A_\\mathrm{c}', codename=A_c)\n",
    "M_E = Cymbol(r'M_\\mathrm{E}', codename='M_E', real=True, nonnegative=True)"
   ]
  },
  {
   "cell_type": "code",
   "execution_count": null,
   "metadata": {},
   "outputs": [],
   "source": [
    "A_r_ = rho_b * b * d\n",
    "A_c_ = b * (d + c_nom) - A_r_\n",
    "{A_r:A_r_, A_c: A_c_}"
   ]
  },
  {
   "cell_type": "code",
   "execution_count": null,
   "metadata": {},
   "outputs": [],
   "source": [
    "W_ = (b*d**2) / 6\n",
    "W_"
   ]
  },
  {
   "cell_type": "code",
   "execution_count": null,
   "metadata": {},
   "outputs": [],
   "source": [
    "M_R_b_ = sig_b * W_\n",
    "M_R_b_"
   ]
  },
  {
   "cell_type": "code",
   "execution_count": null,
   "metadata": {},
   "outputs": [],
   "source": [
    "d_solved = sp.solve(sp.Eq(M_E, M_R_b_), d)[1]\n",
    "d_solved"
   ]
  },
  {
   "cell_type": "code",
   "execution_count": null,
   "metadata": {},
   "outputs": [],
   "source": [
    "b_solved = sp.solve(sp.Eq(M_E, M_R_b_), b)[0]\n",
    "b_solved"
   ]
  },
  {
   "cell_type": "code",
   "execution_count": null,
   "metadata": {},
   "outputs": [],
   "source": [
    "e_crc_bd_ = e_crc_.subs(A_c, A_c_).subs(A_r, rho_b * b * d)\n",
    "e_crc_bd_"
   ]
  },
  {
   "cell_type": "code",
   "execution_count": null,
   "metadata": {},
   "outputs": [],
   "source": [
    "e_crc_d_ = sp.simplify(e_crc_bd_.subs(b, b_solved))\n",
    "e_crc_d_"
   ]
  },
  {
   "cell_type": "code",
   "execution_count": null,
   "metadata": {},
   "outputs": [],
   "source": [
    "e_crc_b_ = sp.simplify(e_crc_bd_.subs(d, d_solved))\n",
    "e_crc_b_"
   ]
  },
  {
   "cell_type": "code",
   "execution_count": null,
   "metadata": {},
   "outputs": [],
   "source": [
    "kg, m, co2kg, N = sp.symbols('kg, m, co2kg, N')\n",
    "kg, m, co2kg, N "
   ]
  },
  {
   "cell_type": "code",
   "execution_count": null,
   "metadata": {},
   "outputs": [],
   "source": [
    "unit = e_crc_b_.subs({M_E: N*m, b:m, sig_b:N/m**2, rho_b:1, rho_c:kg/m**3, rho_r:kg/m**3, e_c:co2kg/kg, e_r:co2kg/kg, a:1})\n",
    "sp.simplify(unit)"
   ]
  },
  {
   "cell_type": "code",
   "execution_count": null,
   "metadata": {},
   "outputs": [],
   "source": [
    "unit = e_crc_d_.subs({M_E: N*m, d:m, sig_b:N/m**2, rho_b:1, rho_c:kg/m**3, rho_r:kg/m**3, e_c:co2kg/kg, e_r:co2kg/kg, a:1})\n",
    "sp.simplify(unit)"
   ]
  },
  {
   "cell_type": "markdown",
   "metadata": {},
   "source": [
    "### Balanced reinforcement ratio for CRC rectangular section\n",
    "\n",
    "Formulas delivering $\\rho_\\mathrm{b}$ and $\\sigma_\\mathrm{b}$ \n",
    "derived in the paper \"Closed-form design equations ...\". \n",
    "See [deriving_rho_fb_and_M_n_with_2_lines_approx.ipynb](deriving_rho_fb_and_M_n_with_2_lines_approx.ipynb) notebook."
   ]
  },
  {
   "cell_type": "code",
   "execution_count": null,
   "metadata": {},
   "outputs": [],
   "source": [
    "sig_c1 = Cymbol(r'\\sigma_c1', codename='sig_c1')\n",
    "sig_c2 = Cymbol(r'\\sigma_c2', codename='sig_c2')\n",
    "sig_c3 = Cymbol(r'\\sigma_c3', codename='sig_c3')\n",
    "sigma_cy = Cymbol(r'\\sigma_{cy}', codename='sigma_cy')\n",
    "sigma_cu = Cymbol(r'\\sigma_{cu}', codename='sigma_cu')\n",
    "eps_cu1 = Cymbol(r'\\varepsilon_\\mathrm{cu1}', codename='eps_cu1')\n",
    "A_f = Cymbol(r'A_\\mathrm{f}', codename='A_f')\n",
    "f_fu = Cymbol(r'f_\\mathrm{fu}', codename='f_fu')\n",
    "E_f = Cymbol(r'E_\\mathrm{f}', codename='E_f')\n",
    "rho_f = Cymbol(r'\\rho_\\mathrm{f}', codename='rho_f')\n",
    "sigma_f = Cymbol(r'\\sigma_\\mathrm{f}', codename='sigma_f')\n",
    "eps_cy = Cymbol(r'\\varepsilon_\\mathrm{cy}', codename='eps_cy')\n",
    "eps_cu = Cymbol(r'\\varepsilon_\\mathrm{cu}', codename='eps_cu')\n",
    "eps = Cymbol(r'\\varepsilon', codename='eps')\n",
    "E_cc = Cymbol(r'E_\\mathrm{cc}', codename='E_cc')\n",
    "f_cm = Cymbol(r'f_\\mathrm{cm}', codename='f_cm')\n",
    "eps_1 = Cymbol(r'\\varepsilon_\\mathrm{1}', codename='eps_1')"
   ]
  },
  {
   "cell_type": "code",
   "execution_count": null,
   "metadata": {},
   "outputs": [],
   "source": [
    "from bmcs_cross_section.api import EC2\n",
    "from labellines import labelLine, labelLines\n",
    "\n",
    "sigma_cy_cu_vals = {sigma_cy: f_cm*(1.43762037986179 - 0.00278582241716739*f_cm), \n",
    "                    sigma_cu: f_cm*(0.00822753426311965*f_cm + 0.0955313938528226)}\n",
    "\n",
    "rho_b_eq = (E_f*(sigma_cu*eps_cu - sigma_cu*eps_cy + sigma_cy*eps_cu)/\n",
    "            (2*f_fu*(E_f*eps_cu + f_fu)))\n",
    "\n",
    "M_R_b_eq = (E_f*b*d**2*(2*E_f*sigma_cu*eps_cu**2 - E_f*sigma_cu*eps_cu*eps_cy - \n",
    "            E_f*sigma_cu*eps_cy**2 + E_f*sigma_cy*eps_cu**2 + \n",
    "            E_f*sigma_cy*eps_cu*eps_cy + 3*sigma_cu*eps_cu*f_fu - \n",
    "            3*sigma_cu*eps_cy*f_fu + 3*sigma_cy*eps_cu*f_fu)/\n",
    "            (6*(E_f**2*eps_cu**2 + 2*E_f*eps_cu*f_fu + f_fu**2))\n",
    "            )\n",
    "\n",
    "sig_b_eq = 6 * M_R_b_eq / (b*d**2)\n",
    "sig_b_eq"
   ]
  },
  {
   "cell_type": "markdown",
   "metadata": {},
   "source": [
    "### GWP per unit beam length\n",
    "\n",
    "Quantify the embodied energy in the fully utilized cross section per unit length given the imposed load, cross-sectional dimensions and material properties"
   ]
  },
  {
   "cell_type": "code",
   "execution_count": null,
   "metadata": {},
   "outputs": [],
   "source": [
    "# sig_b and rho_b depend only on material properties\n",
    "get_sig_b = sp.lambdify((E_f, f_fu, f_cm, eps_cy, eps_cu), sig_b_eq.subs(sigma_cy_cu_vals))\n",
    "get_rho_b = sp.lambdify((E_f, f_fu, f_cm, eps_cy, eps_cu), rho_b_eq.subs(sigma_cy_cu_vals))\n",
    "get_e_crc_b = sp.lambdify((b, M_E, rho_b, sig_b, rho_r, rho_c, e_r, e_c, a),\n",
    "                          e_crc_b_)\n",
    "get_d_b = sp.lambdify((b, M_E, rho_b, sig_b, rho_r, rho_c, e_r, e_c, a), d_solved)\n",
    "\n",
    "rho_r_val = 1.5 * 0.001 / 1000 # g/cm^3 -> kg/mm^3\n",
    "rho_c_val = 2.4 * 0.001 / 1000 # g/cm^3 -> kg/mm^3\n",
    "f_cm_val = 48\n",
    "\n",
    "material_data = dict(E_f=158000, f_fu=2500, f_cm=f_cm_val, \n",
    "                     eps_cy=EC2.get_eps_c1(f_cm_val-8), eps_cu=EC2.get_eps_cu1(f_cm_val-8))\n"
   ]
  },
  {
   "cell_type": "markdown",
   "metadata": {},
   "source": [
    "## Parametric study for variable loads and designs "
   ]
  },
  {
   "cell_type": "markdown",
   "metadata": {},
   "source": [
    "Using the derived formulas, perform a parametric study of the carbon footprint for a unit length of a beam which corresponds to a 1 m strip of a one-way slab. Take the embodied energy of the components from\n",
    "(Preinstorfer 2023)\n",
    "$e_\\mathrm{r}$ = 19 kg CO2 e / kg and , $e_\\mathrm{c}$ = 0.12 kg CO2 e/ kg."
   ]
  },
  {
   "cell_type": "code",
   "execution_count": null,
   "metadata": {},
   "outputs": [],
   "source": [
    "b_range = np.linspace(20, 700, 100)\n",
    "rho_b_val = get_rho_b(**material_data)\n",
    "sig_b_val = get_sig_b(**material_data)\n",
    "params = dict(rho_b=rho_b_val, sig_b=sig_b_val,\n",
    "              rho_c=rho_c_val , rho_r=rho_r_val , e_r=19,\n",
    "              e_c=0.12, a=1) \n",
    "\n",
    "M_E_range = np.array([5, 10, 20], dtype=np.float_)*1e6\n",
    "e_crc_Mb = get_e_crc_b(b_range[np.newaxis,:], M_E=M_E_range[:,np.newaxis], **params)\n",
    "d_Mb = get_d_b(b_range[np.newaxis,:], M_E=M_E_range[:,np.newaxis], **params)\n"
   ]
  },
  {
   "cell_type": "markdown",
   "metadata": {},
   "source": [
    "Plot the diagram showing the correspondence between load, geometrical parameter of the cross section, and its aspect ratio and the corresponding carbon footprint."
   ]
  },
  {
   "cell_type": "code",
   "execution_count": null,
   "metadata": {},
   "outputs": [],
   "source": [
    "def draw_rectangle(ax, b, d, lw=2, opacity=0.5, fill_color='lightgray'):\n",
    "    rectangle = plt.Rectangle((0, 0), b, d, linewidth=lw, edgecolor='black', facecolor=fill_color, alpha=opacity)\n",
    "    ax.add_patch(rectangle)\n",
    "\n",
    "def add_annotation(ax, xy_arrow, xy_box, text, box_color='white', arrow_color='black'):\n",
    "    ax.annotate(text, xy=xy_arrow, xytext=xy_box,\n",
    "                bbox=dict(boxstyle=\"square,pad=0.3\", fc=box_color, lw=0.5),\n",
    "                arrowprops=dict(arrowstyle='->', color=arrow_color, lw=0.5),\n",
    "                size=10, ha='left')\n",
    "\n",
    "\n",
    "fig, ax_left = plt.subplots(1,1, figsize=(5,3))\n",
    "fig.canvas.header_visible=False\n",
    "ax_left.set_title('Given: ' + r'$(f_\\mathrm{cm}, f_\\mathrm{fu}, E_\\mathrm{f})$' + ' and ' +\n",
    "                  r' $\\rho= \\rho_\\mathrm{fb}$')\n",
    "ax_left.set_xlabel(r'$b$ / mm');\n",
    "ax_left.set_ylabel(r'$d$ / mm')\n",
    "dim_ticks = [100,200,300,400,500,600,700]\n",
    "ax_left.set_yticks(dim_ticks)\n",
    "ax_left.set_xticks(dim_ticks)\n",
    "\n",
    "b1 = 50\n",
    "d1 = get_d_b(b1, M_E_range[1], **params)\n",
    "draw_rectangle(ax_left, b1, d1, opacity=0.2)\n",
    "add_annotation(ax_left, xy_arrow=(b1, d1), xy_box=(b1+50, d1+50),\n",
    "               text='$b$ = {:.0f}\\n$d$ = {:.0f}'.format(b1, d1))\n",
    "b2 = 600\n",
    "d2 = get_d_b(b2, M_E_range[1], **params)\n",
    "draw_rectangle(ax_left, b2, d2, opacity=0.2)\n",
    "\n",
    "add_annotation(ax_left, xy_arrow=(b2, d2), xy_box=(b2+50, d2+50),\n",
    "               text='$b$ = {:.0f}\\n$d$ = {:.0f}'.format(b2, d2))\n",
    "\n",
    "# Plot all lines with a single command\n",
    "ax_left.plot(b_range, d_Mb.T, ls='dashed')\n",
    "ax_left.set_xlim(xmin=0)\n",
    "ax_left.set_ylim(ymin=0)\n",
    "ax_left.set_aspect('equal')\n",
    "\n",
    "fig.add_axes(ax_left.get_position(), frame_on=False)\n",
    "ax_right = fig.get_axes()[-1]\n",
    "ax_right.yaxis.tick_right()\n",
    "ax_right.yaxis.set_label_position('right')\n",
    "ax_right.yaxis.set_offset_position('right')\n",
    "ax_right.tick_params(right=True)\n",
    "ax_right.set_xticks([])\n",
    "ax_right.set_xticklabels([])\n",
    "\n",
    "\n",
    "# # Plot all lines with a single command\n",
    "lines = ax_right.plot(b_range, e_crc_Mb.T * 1000)\n",
    "\n",
    "ax_right.set_ylabel(r'$e$ / equiv CO$_2$ kg m$^{-1}$');\n",
    "\n",
    "# Set labels for each line\n",
    "for line, M_E_val in zip(lines, M_E_range):\n",
    "    line.set_label(r'$M_\\mathrm{E} = $' + str(M_E_val/1e6) + ' kNm')\n",
    "\n",
    "ax_right.set_xbound(ax_left.get_xbound())\n",
    "\n",
    "labelLines(ax_right.get_lines(), align=True, fontsize=12, zorder=12.5);\n",
    "fig.savefig('equiv_CO2_m.pdf')"
   ]
  },
  {
   "cell_type": "markdown",
   "metadata": {},
   "source": [
    "### GWP per m for a specified beam span"
   ]
  },
  {
   "cell_type": "code",
   "execution_count": null,
   "metadata": {},
   "outputs": [],
   "source": [
    "# partial safety factor - permanent load\n",
    "gamma_G = Cymbol(r'\\gamma_\\mathrm{G}', codename='gamma_G') \n",
    "# partial safety factor - variable load\n",
    "gamma_Q = Cymbol(r'\\gamma_\\mathrm{Q}', codename='gamma_Q') "
   ]
  },
  {
   "cell_type": "code",
   "execution_count": null,
   "metadata": {},
   "outputs": [],
   "source": [
    "L = Cymbol(r'L', codename='L') # span of the beam\n",
    "q = Cymbol(r'q', codename='q') # variable service load / m\n",
    "g = Cymbol(r'g', codename='g') # permanent dead self weight / m"
   ]
  },
  {
   "cell_type": "code",
   "execution_count": null,
   "metadata": {},
   "outputs": [],
   "source": [
    "g_ = b * d * rho_c\n",
    "get_g = sp.lambdify((b,d,rho_c), g_)\n",
    "g_params = dict()"
   ]
  },
  {
   "cell_type": "code",
   "execution_count": null,
   "metadata": {},
   "outputs": [],
   "source": [
    "M_q_E = (gamma_G * g + gamma_Q * q) * L**2 / 8\n",
    "get_M_q_E = sp.lambdify((L, gamma_Q, q, gamma_G, g), M_q_E)\n",
    "load_params = dict(gamma_G=1.35, g=0.8, q=2.50, gamma_Q=1.5, L=6)\n",
    "get_M_q_E(**load_params)"
   ]
  },
  {
   "cell_type": "code",
   "execution_count": null,
   "metadata": {},
   "outputs": [],
   "source": [
    "28.22 / 1.61"
   ]
  },
  {
   "cell_type": "code",
   "execution_count": null,
   "metadata": {},
   "outputs": [],
   "source": []
  },
  {
   "cell_type": "code",
   "execution_count": null,
   "metadata": {},
   "outputs": [],
   "source": []
  }
 ],
 "metadata": {
  "kernelspec": {
   "display_name": "Python 3 (ipykernel)",
   "language": "python",
   "name": "python3"
  },
  "language_info": {
   "codemirror_mode": {
    "name": "ipython",
    "version": 3
   },
   "file_extension": ".py",
   "mimetype": "text/x-python",
   "name": "python",
   "nbconvert_exporter": "python",
   "pygments_lexer": "ipython3"
  },
  "toc": {
   "base_numbering": 1,
   "nav_menu": {},
   "number_sections": true,
   "sideBar": true,
   "skip_h1_title": false,
   "title_cell": "Table of Contents",
   "title_sidebar": "Contents",
   "toc_cell": false,
   "toc_position": {},
   "toc_section_display": true,
   "toc_window_display": false
  }
 },
 "nbformat": 4,
 "nbformat_minor": 2
}
