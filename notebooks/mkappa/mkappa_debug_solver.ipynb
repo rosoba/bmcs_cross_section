{
 "cells": [
  {
   "cell_type": "markdown",
   "id": "513a80a3",
   "metadata": {},
   "source": [
    "# Debuging the MKappa solver"
   ]
  },
  {
   "cell_type": "code",
   "execution_count": null,
   "id": "b29073bc",
   "metadata": {},
   "outputs": [],
   "source": [
    "from bmcs_cross_section.mkappa.mkappa import MKappa\n",
    "from bmcs_utils.api import InteractiveWindow\n",
    "from bmcs_cross_section.cs_design.cs_shape import TShape\n",
    "import matplotlib.pyplot as plt\n",
    "from os.path import join\n",
    "import numpy as np\n",
    "import sympy as sp\n",
    "import pandas as pd\n",
    "sp.init_printing()"
   ]
  },
  {
   "cell_type": "markdown",
   "id": "51483b7a",
   "metadata": {},
   "source": [
    "- In our implementation `k = - d(eps_z)/dz = (eps_bot - eps_top / h)` which gives positive kappa for simply supported beam.\n",
    "- In the original moment_curvature.py file the constraints where \\\n",
    "`kappa = sp.Symbol('kappa', real=True, nonpositive=True)\n",
    "eps_top = sp.symbols('varepsilon_top', real=True, nonpositive=True )\n",
    "eps_bot = sp.symbols('varepsilon_bot', real=True, nonnegative=True )` \\\n",
    "But kappa was `k = + d(eps_z)/dz = (eps_top - eps_bot / h)` which gives negative kappa for simply supported beam.\n",
    "\n",
    "\n",
    "- What happens when we change the constraints:\n",
    "    - When \n",
    "    `kappa = sp.Symbol('kappa', real=True, nonpositive=True)\n",
    "    eps_top = sp.symbols('varepsilon_top', real=True, nonpositive=True)\n",
    "    eps_bot = sp.symbols('varepsilon_bot', real=True, nonnegative=True)`\n",
    "    Then changing E_cc doesn't have effect, (E_ct replaces E_cc too!)"
   ]
  },
  {
   "cell_type": "code",
   "execution_count": null,
   "id": "91c7b65b",
   "metadata": {},
   "outputs": [],
   "source": [
    "def plot(mc):\n",
    "    fig, (ax1, ax2) = plt.subplots(1, 2, figsize=(10, 5))\n",
    "    mc.plot_mk_and_stress_profile(ax1, ax2)\n",
    "    plt.show()\n",
    "\n",
    "def plot_mk_ver(mc, ver_data):\n",
    "    fig, (ax1, ax2) = plt.subplots(1, 2, figsize=(10, 5))\n",
    "    mc.plot_mk_and_stress_profile(ax1, ax2)\n",
    "    k = ver_data[0]\n",
    "    m = ver_data[1]\n",
    "    ax1.plot(k, m, c= 'red', label= 'Experiment')\n",
    "    ax1.legend()\n",
    "    plt.show()"
   ]
  },
  {
   "cell_type": "code",
   "execution_count": null,
   "id": "cb3fb16d",
   "metadata": {},
   "outputs": [],
   "source": [
    "def map_and_assign_params_for_rectangular_section(\n",
    "        mc, # MKappa instance for which the params should be applied\n",
    "        b, h, E, E_s, f_sy, eps_cr, rho, beta_tu, v_f, omega, psi, mu, alpha, lambda_cu):\n",
    "    \"\"\"This function map the params of the rectangular section from the type of the paper\n",
    "    to the type of the model and assigns the values\"\"\"\n",
    "    mc.cross_section_shape_.B=b\n",
    "    mc.cross_section_shape_.H=h\n",
    "    mc.E_cc= E\n",
    "    mc.E_ct=E # SUPPOSED equal to E_cc!!\n",
    "    mc.mu=mu\n",
    "    mc.eps_cr=eps_cr\n",
    "    mc.eps_cy=omega * (-eps_cr)\n",
    "    mc.eps_cu=lambda_cu * (-eps_cr)\n",
    "    mc.eps_tu=beta_tu * eps_cr\n",
    "    mc.eps_sy_j=[f_sy / E_s] # or eps_sy_j=psi * eps_cr,\n",
    "    mc.E_j=[E_s]\n",
    "    mc.z_j=[h * (1 - alpha)]\n",
    "    mc.A_j=[rho * b * h]"
   ]
  },
  {
   "cell_type": "code",
   "execution_count": null,
   "id": "5d831265",
   "metadata": {},
   "outputs": [],
   "source": [
    "%matplotlib widget\n",
    "\n",
    "# Curvature values in the Jao_Mobasher_2020 are 10*the source of the experiment (Yang_2010) \n",
    "excel_file = join('./verification_data/yao20_yao_mobasher', 'figure_12', 'yan10.xlsx')\n",
    "data = pd.read_excel(excel_file, engine='openpyxl')\n",
    "k= data['rho_06_exp_k'] * 1e-5; m= data['rho_06_exp_m']; ver_data = [k, m]\n",
    "k1= data['rho_06_sim_k'] * 1e-5; m1= data['rho_06_sim_m']; ver_data1 = [k1, m1]\n",
    "# plt.plot(k, m, '--', label='rho_06 exp')\n",
    "# plt.plot(k1, m1,  label='rho_06 sim')\n",
    "# plt.legend();\n",
    "\n",
    "# rho_06\n",
    "mc = MKappa(n_m=100, n_kappa = 100)\n",
    "mc.kappa_slider = 0.00001\n",
    "mc.low_kappa = -0.00005\n",
    "mc.high_kappa = 0.00005\n",
    "for high_kappa in [0.00005, 0.0002]:\n",
    "# for n_kappa in [10, 100]:\n",
    "# for E_cc in [20000, 50000]:\n",
    "    mc.high_kappa = high_kappa\n",
    "    map_and_assign_params_for_rectangular_section(mc,\n",
    "        beta_tu = 21,  # Not sure where this is from, all other values match the paper\n",
    "            b = 180, # 180 is the original, Saeed used b = 190\n",
    "            h = 270,\n",
    "            E = 46418, # according to Yang paper, according to Mobasher 46700\n",
    "            E_s = 200000,\n",
    "            f_sy = 600,\n",
    "            eps_cr = 0.000384,\n",
    "            rho = 0.0055,\n",
    "            v_f = 0.02,\n",
    "            omega = 10.7,\n",
    "            psi = 7.8,\n",
    "            mu = 0.55,\n",
    "            alpha = 0.87,\n",
    "            lambda_cu = 11.7,)\n",
    "    \n",
    "    plot_mk_ver(mc, ver_data)"
   ]
  },
  {
   "cell_type": "code",
   "execution_count": null,
   "id": "4542b01b",
   "metadata": {},
   "outputs": [],
   "source": [
    "mc.E_cc"
   ]
  },
  {
   "cell_type": "code",
   "execution_count": null,
   "id": "12cb6242",
   "metadata": {},
   "outputs": [],
   "source": [
    "kappa1, eps_bot1, z1 = 0.000125, 0.029, 270.0\n",
    "print(mc.get_sig_c_z(np.array([kappa1]), np.array([eps_bot1]), np.array([z1])))"
   ]
  },
  {
   "cell_type": "code",
   "execution_count": null,
   "id": "b363a121",
   "metadata": {},
   "outputs": [],
   "source": [
    "eps_z1 = mc.symb.get_eps_z(np.array([kappa1]), np.array([eps_bot1]), np.array([z1]))\n",
    "eps_z1"
   ]
  },
  {
   "cell_type": "code",
   "execution_count": null,
   "id": "0ac28fdd",
   "metadata": {},
   "outputs": [],
   "source": [
    "mc.symb.get_sig_c_eps(eps_z1)"
   ]
  },
  {
   "cell_type": "code",
   "execution_count": null,
   "id": "d20965ee",
   "metadata": {},
   "outputs": [],
   "source": [
    "_, ax = plt.subplots(1,1)\n",
    "eps_range = np.linspace(-0.007,0.01,100)\n",
    "mc.trait_set(E_cc=40000, E_ct=10000 )\n",
    "ax.plot( eps_range, mc.symb.get_sig_c_eps(eps_range) )\n",
    "mc.trait_set(E_cc = 60000, E_ct=10000 )\n",
    "ax.plot( eps_range, mc.symb.get_sig_c_eps(eps_range) )\n",
    "# ax.plot( eps_z1, mc.symb.get_sig_c_eps(eps_z1), 'o' )\n",
    "# ax.plot( eps_z1, mc.symb.get_sig_c_z(np.array([kappa1]), np.array([eps_bot1]), np.array([z1])), 'o')"
   ]
  },
  {
   "cell_type": "code",
   "execution_count": null,
   "id": "53112617",
   "metadata": {},
   "outputs": [],
   "source": [
    "kappa_range = np.array([0.001])\n",
    "eps_bot_range = np.array([-0.0025])\n",
    "mc.get_N_c_t(kappa_range, eps_bot_range)"
   ]
  },
  {
   "cell_type": "code",
   "execution_count": null,
   "id": "3e932c87",
   "metadata": {},
   "outputs": [],
   "source": []
  }
 ],
 "metadata": {
  "kernelspec": {
   "display_name": "Python 3 (ipykernel)",
   "language": "python",
   "name": "python3"
  },
  "language_info": {
   "codemirror_mode": {
    "name": "ipython",
    "version": 3
   },
   "file_extension": ".py",
   "mimetype": "text/x-python",
   "name": "python",
   "nbconvert_exporter": "python",
   "pygments_lexer": "ipython3"
  },
  "toc": {
   "base_numbering": 1,
   "nav_menu": {},
   "number_sections": true,
   "sideBar": true,
   "skip_h1_title": false,
   "title_cell": "Table of Contents",
   "title_sidebar": "Contents",
   "toc_cell": false,
   "toc_position": {},
   "toc_section_display": true,
   "toc_window_display": false
  }
 },
 "nbformat": 4,
 "nbformat_minor": 5
}
