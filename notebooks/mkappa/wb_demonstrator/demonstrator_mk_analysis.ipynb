{
 "cells": [
  {
   "cell_type": "markdown",
   "id": "7659d557-df4f-41f2-9950-8d5bb82d72da",
   "metadata": {},
   "source": [
    "# Demonstrator $M-\\kappa$ analysis"
   ]
  },
  {
   "cell_type": "markdown",
   "id": "e322d279-b6ce-4b52-9b4b-278b75b4f54c",
   "metadata": {},
   "source": [
    "First estimate of the flexural capacity of critical cross section OriSheG - used as a demonstrator object in TRR\n",
    "\n",
    " - For an estimated cross sectional height evaluate the flexural capacity\n",
    " - "
   ]
  },
  {
   "cell_type": "code",
   "execution_count": null,
   "id": "32780f06-3310-49bb-bc89-13b28fa0c01d",
   "metadata": {},
   "outputs": [],
   "source": []
  },
  {
   "cell_type": "markdown",
   "id": "d0845a0c-7aea-4561-927d-bcb4a22b852b",
   "metadata": {},
   "source": [
    "## Folded section #1"
   ]
  },
  {
   "cell_type": "code",
   "execution_count": null,
   "id": "6ca1e418-ad59-4bd4-889e-4f3bf9e801cc",
   "metadata": {},
   "outputs": [],
   "source": [
    "%matplotlib widget\n",
    "import numpy as np\n",
    "from bmcs_cross_section.api import ReinfLayer, BarLayer, MKappa, TShape\n",
    "mc = MKappa(low_kappa=0, high_kappa=0.0001)\n",
    "mc.cs_design.cross_section_shape_.trait_set(H=800, B=300)\n",
    "mc.cs_design.concrete.compression = 'EC2 with plateau'"
   ]
  },
  {
   "cell_type": "code",
   "execution_count": null,
   "id": "cf11b8b0-3013-4d1e-aed5-979100d65fd2",
   "metadata": {},
   "outputs": [],
   "source": [
    "mc.cs_design.cross_section_shape = 'custom'\n",
    "thickness = 15 # mm\n",
    "H = 125 # mm\n",
    "B_lower = 71.5 # mm\n",
    "B_upper = 300 # 250 + B_lower # mm\n",
    "theta = np.pi / 2 * 1 / 2"
   ]
  },
  {
   "cell_type": "code",
   "execution_count": null,
   "id": "0d7ae402-77f8-461f-9384-fbb36e1a23e8",
   "metadata": {},
   "outputs": [],
   "source": [
    "gamma = (np.pi - theta) / 2\n",
    "B_lower_top = B_lower - thickness / np.tan(gamma)"
   ]
  },
  {
   "cell_type": "code",
   "execution_count": null,
   "id": "f019b8f7-2a32-419c-b156-c78b51acfe89",
   "metadata": {},
   "outputs": [],
   "source": [
    "mc.cs_design.cross_section_shape_.cs_points = np.array([\n",
    "    [B_lower_top, thickness],\n",
    "    [0, thickness],\n",
    "    [0, 0],\n",
    "    [B_lower, 0],\n",
    "    [B_lower + (H - thickness) / np.tan(theta), H - thickness ], \n",
    "    [B_lower + (H - thickness) / np.tan(theta) + B_upper, H - thickness ], \n",
    "    [B_lower + (H - thickness) / np.tan(theta) + B_upper, H ], \n",
    "    [B_lower_top + + (H - thickness) / np.tan(theta), H], \n",
    "])"
   ]
  },
  {
   "cell_type": "code",
   "execution_count": null,
   "id": "e0081b08-e49b-42f2-8f9b-c4a2a354b9f7",
   "metadata": {},
   "outputs": [],
   "source": [
    "mc.cs_design.cross_section_shape_.interact()"
   ]
  },
  {
   "cell_type": "code",
   "execution_count": null,
   "id": "5254cb10-2d51-406d-8ce4-02804972df59",
   "metadata": {},
   "outputs": [],
   "source": [
    "mc.cs_design.concrete.compression_.trait_set(\n",
    "    f_c = 67, eps_cy=-0.0035, eps_cu=-0.0038, E_cc=25000\n",
    ")"
   ]
  },
  {
   "cell_type": "code",
   "execution_count": null,
   "id": "6dde9c4f",
   "metadata": {},
   "outputs": [],
   "source": [
    "mc.cs_design.concrete.compression_.interact()"
   ]
  },
  {
   "cell_type": "code",
   "execution_count": null,
   "id": "609e7dbc-0f00-4a3a-8159-cbf019520b9e",
   "metadata": {},
   "outputs": [],
   "source": [
    "A_roving = 1.95 # 3.62 # [mm**2] \n",
    "spacing = 16 # [mm] \n",
    "width = B_lower # [mm] \n",
    "E_carbon = 220000 # [MPa] \n",
    "n_rovings = width / spacing\n",
    "A_layer = n_rovings * A_roving\n",
    "n_rovings, A_layer"
   ]
  },
  {
   "cell_type": "code",
   "execution_count": null,
   "id": "4dc9f6c2-7ede-4867-9b4c-1d0397296029",
   "metadata": {},
   "outputs": [],
   "source": [
    "_f_t = 1200\n",
    "bl1 = ReinfLayer(name='carbon 1', matmod='carbon', z=5, A=A_layer)\n",
    "bl1.matmod_.trait_set(f_t = _f_t, E=E_carbon)\n",
    "bl2 = ReinfLayer(name='carbon 2', matmod='carbon', z=10, A=A_layer)\n",
    "bl2.matmod_.trait_set(f_t = _f_t, E=E_carbon)"
   ]
  },
  {
   "cell_type": "code",
   "execution_count": null,
   "id": "f6a9e33e-c0c1-47cf-9c70-5e296559795a",
   "metadata": {
    "tags": []
   },
   "outputs": [],
   "source": [
    "mc.cross_section_layout.add_layer(bl1)\n",
    "mc.cross_section_layout.add_layer(bl2)"
   ]
  },
  {
   "cell_type": "code",
   "execution_count": null,
   "id": "ca4d1e97-8c9a-4a21-bc06-65d34792d6a9",
   "metadata": {},
   "outputs": [],
   "source": [
    "mc.high_kappa=0.0003\n",
    "mc.interact()"
   ]
  },
  {
   "cell_type": "code",
   "execution_count": null,
   "id": "be5a202d",
   "metadata": {},
   "outputs": [],
   "source": [
    "M_test = 1 /4 * 0.571 * 30\n",
    "M_test"
   ]
  },
  {
   "cell_type": "code",
   "execution_count": null,
   "id": "26ee1bf5",
   "metadata": {},
   "outputs": [],
   "source": [
    "4 * 4.28 * 2 / 0.571"
   ]
  },
  {
   "cell_type": "markdown",
   "id": "a30002a8-32b5-40a4-98ca-d011782449ac",
   "metadata": {},
   "source": [
    "# Self weight"
   ]
  },
  {
   "cell_type": "code",
   "execution_count": null,
   "id": "cbf46d3f-77ac-4dc6-850c-03cdd07a239a",
   "metadata": {},
   "outputs": [],
   "source": [
    "L_m = 3.8 # m\n",
    "rho_ton_m3 = 2.400 # t / m3  \n",
    "rho_kN_m3 = rho_ton_m3 * 10\n",
    "rho_kN_m3"
   ]
  },
  {
   "cell_type": "code",
   "execution_count": null,
   "id": "6ef18fdf-3f9b-4c90-8462-96b51d819b71",
   "metadata": {},
   "outputs": [],
   "source": [
    "A_c_mm2 = mc.cs_design.cross_section_shape_.get_cs_area()\n",
    "A_c_m2 = A_c_mm2 / (1000**2)\n",
    "A_c_m2"
   ]
  },
  {
   "cell_type": "code",
   "execution_count": null,
   "id": "5a8eb1c8-07fb-49f1-8c65-31fbdb19d763",
   "metadata": {},
   "outputs": [],
   "source": [
    "V_m = A_c_m2 * L_m\n",
    "m_kN = rho_kN_m3 * V_m * 2 # two interlocked layers\n",
    "m_kN, rho_kN_m3 * A_c_m2"
   ]
  },
  {
   "cell_type": "code",
   "execution_count": null,
   "id": "31c18567",
   "metadata": {},
   "outputs": [],
   "source": [
    "0.2**2 * L_m / 8"
   ]
  },
  {
   "cell_type": "code",
   "execution_count": null,
   "id": "51e572ad-086b-4217-9506-e3b06f9fe382",
   "metadata": {},
   "outputs": [],
   "source": [
    "M_mu_kNm = 4.28 # kNm"
   ]
  },
  {
   "cell_type": "markdown",
   "id": "88e5c461-fa42-4dc1-b826-6b2698a2c7a4",
   "metadata": {},
   "source": [
    "$$\n",
    " R = \\frac{F}{2} \\\\\n",
    " M = R \\frac{L}{2} \\\\\n",
    " M = \\frac{1}{4} FL \\\\\n",
    " F = 4 \\frac{M}{L}\n",
    "$$"
   ]
  },
  {
   "cell_type": "code",
   "execution_count": null,
   "id": "50fb7331-2d94-4b21-ace0-cc2c283d1b40",
   "metadata": {},
   "outputs": [],
   "source": [
    "F_mu_kN = 4 * M_mu_kNm / L_m\n",
    "F_mu_kN"
   ]
  },
  {
   "cell_type": "code",
   "execution_count": null,
   "id": "0fef9338-9205-438a-8477-3670f73920e7",
   "metadata": {},
   "outputs": [],
   "source": [
    "F_mu_kN / m_kN"
   ]
  },
  {
   "cell_type": "markdown",
   "id": "13572b49-72a6-429c-a514-7139c4522b0f",
   "metadata": {},
   "source": [
    "# Rectangular cross section"
   ]
  },
  {
   "cell_type": "code",
   "execution_count": null,
   "id": "da82e620-30e4-4806-9275-4003f4b089c6",
   "metadata": {},
   "outputs": [],
   "source": [
    "%matplotlib widget\n",
    "import numpy as np\n",
    "from bmcs_cross_section.api import ReinfLayer, BarLayer, MKappa, TShape\n",
    "mc_steel = MKappa(low_kappa=0, high_kappa=0.00006)\n",
    "mc_steel.cs_design.cross_section_shape_.trait_set(H=150, B=2250)\n",
    "mc_steel.cs_design.concrete.compression = 'EC2 with plateau'"
   ]
  },
  {
   "cell_type": "code",
   "execution_count": null,
   "id": "a10fd91d",
   "metadata": {},
   "outputs": [],
   "source": [
    "mc_steel.cs_design.concrete.compression_.trait_set(\n",
    "    f_c = 30.8, eps_cy=-0.0035, eps_cu=-0.006, E_cc=35000\n",
    ")\n",
    "mc_steel.cs_design.concrete.tension_.trait_set(mu=0)\n",
    "bl1 = BarLayer(name='steel 1', z=30, count=2270 // 100, ds=8)\n",
    "bl1.matmod_.trait_set(f_sy = 435, f_st = 435)"
   ]
  },
  {
   "cell_type": "code",
   "execution_count": null,
   "id": "38634265-7638-4d67-b413-7ce5cf88bc6d",
   "metadata": {},
   "outputs": [],
   "source": [
    "\n",
    "mc_steel.cross_section_layout.add_layer(bl1)\n",
    "mc_steel.interact()"
   ]
  },
  {
   "cell_type": "code",
   "execution_count": null,
   "id": "dc72bb13-1247-489b-9f94-12a7689ccc15",
   "metadata": {},
   "outputs": [],
   "source": []
  }
 ],
 "metadata": {
  "kernelspec": {
   "display_name": "bmcs_env2",
   "language": "python",
   "name": "python3"
  },
  "language_info": {
   "codemirror_mode": {
    "name": "ipython",
    "version": 3
   },
   "file_extension": ".py",
   "mimetype": "text/x-python",
   "name": "python",
   "nbconvert_exporter": "python",
   "pygments_lexer": "ipython3"
  }
 },
 "nbformat": 4,
 "nbformat_minor": 5
}
