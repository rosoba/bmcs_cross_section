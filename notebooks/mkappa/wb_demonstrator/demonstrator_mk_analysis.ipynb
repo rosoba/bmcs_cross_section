{
 "cells": [
  {
   "cell_type": "markdown",
   "id": "7659d557-df4f-41f2-9950-8d5bb82d72da",
   "metadata": {},
   "source": [
    "# Demonstrator $M-\\kappa$ analysis"
   ]
  },
  {
   "cell_type": "markdown",
   "id": "e322d279-b6ce-4b52-9b4b-278b75b4f54c",
   "metadata": {},
   "source": [
    "First estimate of the flexural capacity of critical cross section OriSheG - used as a demonstrator object in TRR\n",
    "\n",
    " - For an estimated cross sectional height evaluate the flexural capacity"
   ]
  },
  {
   "cell_type": "markdown",
   "id": "d0845a0c-7aea-4561-927d-bcb4a22b852b",
   "metadata": {},
   "source": [
    "## Folded section #1"
   ]
  },
  {
   "cell_type": "code",
   "execution_count": 1,
   "id": "6ca1e418-ad59-4bd4-889e-4f3bf9e801cc",
   "metadata": {},
   "outputs": [],
   "source": [
    "%matplotlib widget\n",
    "import numpy as np\n",
    "from bmcs_cross_section.api import ReinfLayer, BarLayer, MKappa, TShape\n",
    "mc = MKappa(low_kappa=0, high_kappa=0.0001)\n",
    "mc.cs_design.cross_section_shape_.trait_set(H=800, B=300)\n",
    "mc.cs_design.concrete.compression = 'EC2 with plateau'"
   ]
  },
  {
   "cell_type": "code",
   "execution_count": 2,
   "id": "cf11b8b0-3013-4d1e-aed5-979100d65fd2",
   "metadata": {},
   "outputs": [],
   "source": [
    "mc.cs_design.cross_section_shape = 'custom'\n",
    "thickness = 15 # mm\n",
    "H = 125 # mm\n",
    "B_lower = 71.5 # mm\n",
    "B_upper = 321.5 # 250 + B_lower # mm\n",
    "#theta = np.pi / 2 * 1 / 2\n",
    "theta = np.deg2rad(39.13)"
   ]
  },
  {
   "cell_type": "code",
   "execution_count": 3,
   "id": "0d7ae402-77f8-461f-9384-fbb36e1a23e8",
   "metadata": {},
   "outputs": [],
   "source": [
    "gamma = (np.pi - theta) / 2\n",
    "B_lower_top = B_lower - thickness / np.tan(gamma)"
   ]
  },
  {
   "cell_type": "code",
   "execution_count": 4,
   "id": "f019b8f7-2a32-419c-b156-c78b51acfe89",
   "metadata": {},
   "outputs": [],
   "source": [
    "mc.cs_design.cross_section_shape_.cs_points = np.array([\n",
    "    [B_lower_top, thickness],\n",
    "    [0, thickness],\n",
    "    [0, 0],\n",
    "    [B_lower, 0],\n",
    "    [B_lower + (H - thickness) / np.tan(theta), H - thickness ], \n",
    "    [B_lower + (H - thickness) / np.tan(theta) + B_upper, H - thickness ], \n",
    "    [B_lower + (H - thickness) / np.tan(theta) + B_upper, H ], \n",
    "    [B_lower_top + + (H - thickness) / np.tan(theta), H], \n",
    "])"
   ]
  },
  {
   "cell_type": "code",
   "execution_count": 5,
   "id": "e0081b08-e49b-42f2-8f9b-c4a2a354b9f7",
   "metadata": {},
   "outputs": [
    {
     "data": {
      "application/vnd.jupyter.widget-view+json": {
       "model_id": "a8a20e3aca62414d99e8d101fdbdb874",
       "version_major": 2,
       "version_minor": 0
      },
      "text/plain": [
       "Output()"
      ]
     },
     "metadata": {},
     "output_type": "display_data"
    },
    {
     "data": {
      "application/vnd.jupyter.widget-view+json": {
       "model_id": "d6067c070d244766b9b505833ff59e0b",
       "version_major": 2,
       "version_minor": 0
      },
      "text/plain": [
       "VBox(children=(HBox(children=(VBox(children=(Tree(layout=Layout(align_items='stretch', border_bottom='solid 1p…"
      ]
     },
     "metadata": {},
     "output_type": "display_data"
    }
   ],
   "source": [
    "mc.cs_design.cross_section_shape_.interact()"
   ]
  },
  {
   "cell_type": "code",
   "execution_count": 6,
   "id": "5254cb10-2d51-406d-8ce4-02804972df59",
   "metadata": {},
   "outputs": [
    {
     "data": {
      "text/plain": [
       "<bmcs_cross_section.matmod.concrete.concrete_compression_ec2_plateau.ConcreteCompressionEC2Plateau at 0x1ec9060b830>"
      ]
     },
     "execution_count": 6,
     "metadata": {},
     "output_type": "execute_result"
    }
   ],
   "source": [
    "mc.cs_design.concrete.compression_.trait_set(\n",
    "    f_c = 68.2, eps_cy=-0.0035, eps_cu=-0.0038, E_cc=24805\n",
    ")"
   ]
  },
  {
   "cell_type": "code",
   "execution_count": 7,
   "id": "6dde9c4f",
   "metadata": {},
   "outputs": [
    {
     "data": {
      "application/vnd.jupyter.widget-view+json": {
       "model_id": "30d980a58fe14739abc9345ce06aa19f",
       "version_major": 2,
       "version_minor": 0
      },
      "text/plain": [
       "Output()"
      ]
     },
     "metadata": {},
     "output_type": "display_data"
    },
    {
     "data": {
      "application/vnd.jupyter.widget-view+json": {
       "model_id": "5775859348fa451d80cc4c8d5ca6fa52",
       "version_major": 2,
       "version_minor": 0
      },
      "text/plain": [
       "VBox(children=(HBox(children=(VBox(children=(Tree(layout=Layout(align_items='stretch', border_bottom='solid 1p…"
      ]
     },
     "metadata": {},
     "output_type": "display_data"
    }
   ],
   "source": [
    "mc.cs_design.concrete.compression_.interact()"
   ]
  },
  {
   "cell_type": "code",
   "execution_count": 8,
   "id": "609e7dbc-0f00-4a3a-8159-cbf019520b9e",
   "metadata": {},
   "outputs": [
    {
     "data": {
      "text/plain": [
       "(5.62992125984252, 10.556102362204726)"
      ]
     },
     "execution_count": 8,
     "metadata": {},
     "output_type": "execute_result"
    }
   ],
   "source": [
    "A_roving = (1.8+1.95)/2 # 3.62 # [mm**2] # Average of the range given on the catalogue\n",
    "spacing = 12.7 # [mm] \n",
    "width = B_lower # [mm] \n",
    "E_carbon = 200000 # [MPa] \n",
    "n_rovings = width / spacing\n",
    "A_layer = n_rovings * A_roving\n",
    "n_rovings, A_layer"
   ]
  },
  {
   "cell_type": "code",
   "execution_count": 9,
   "id": "4dc9f6c2-7ede-4867-9b4c-1d0397296029",
   "metadata": {},
   "outputs": [
    {
     "data": {
      "text/plain": [
       "<bmcs_cross_section.matmod.reinforcement.CarbonReinfMatMod at 0x1ec912cfa10>"
      ]
     },
     "execution_count": 9,
     "metadata": {},
     "output_type": "execute_result"
    }
   ],
   "source": [
    "_f_t = 1200\n",
    "bl1 = ReinfLayer(name='carbon 1', matmod='carbon', z=5, A=A_layer)\n",
    "bl1.matmod_.trait_set(f_t = _f_t, E=E_carbon)\n",
    "bl2 = ReinfLayer(name='carbon 2', matmod='carbon', z=10, A=A_layer)\n",
    "bl2.matmod_.trait_set(f_t = _f_t, E=E_carbon)"
   ]
  },
  {
   "cell_type": "code",
   "execution_count": 10,
   "id": "f6a9e33e-c0c1-47cf-9c70-5e296559795a",
   "metadata": {
    "tags": []
   },
   "outputs": [],
   "source": [
    "mc.cross_section_layout.add_layer(bl1)\n",
    "mc.cross_section_layout.add_layer(bl2)"
   ]
  },
  {
   "cell_type": "code",
   "execution_count": 11,
   "id": "ca4d1e97-8c9a-4a21-bc06-65d34792d6a9",
   "metadata": {},
   "outputs": [
    {
     "data": {
      "application/vnd.jupyter.widget-view+json": {
       "model_id": "d7d1776f28df47efb2df3c06b7370997",
       "version_major": 2,
       "version_minor": 0
      },
      "text/plain": [
       "Output()"
      ]
     },
     "metadata": {},
     "output_type": "display_data"
    },
    {
     "name": "stdout",
     "output_type": "stream",
     "text": [
      "in update plot 1e-07\n"
     ]
    },
    {
     "data": {
      "application/vnd.jupyter.widget-view+json": {
       "model_id": "7796428f5a9c4396b8f2d0b79983f8d5",
       "version_major": 2,
       "version_minor": 0
      },
      "text/plain": [
       "VBox(children=(HBox(children=(VBox(children=(Tree(layout=Layout(align_items='stretch', border_bottom='solid 1p…"
      ]
     },
     "metadata": {},
     "output_type": "display_data"
    }
   ],
   "source": [
    "mc.high_kappa=0.0003\n",
    "mc.interact()"
   ]
  },
  {
   "cell_type": "markdown",
   "id": "cd380f11",
   "metadata": {},
   "source": [
    "### Moment-capacity of a single CRC module based on the iterative design calculations"
   ]
  },
  {
   "cell_type": "code",
   "execution_count": 12,
   "id": "22cd8d1c",
   "metadata": {},
   "outputs": [
    {
     "data": {
      "text/plain": [
       "(5.688760919256367, 'kNm')"
      ]
     },
     "execution_count": 12,
     "metadata": {},
     "output_type": "execute_result"
    }
   ],
   "source": [
    "# Multiply it by 2 to get the moment for the whole cross section, as only the half is considered in the analysis\n",
    "M_R_kappa = abs(mc.M_t.max())*10**-6*2\n",
    "M_R_kappa, 'kNm'"
   ]
  },
  {
   "cell_type": "markdown",
   "id": "65e6da98",
   "metadata": {},
   "source": [
    "#### Moment-capacity of a single CRC waterbomb module from the experiments"
   ]
  },
  {
   "cell_type": "code",
   "execution_count": 13,
   "id": "be5a202d",
   "metadata": {},
   "outputs": [
    {
     "data": {
      "text/plain": [
       "(5.30688, 4.522595, 5.16868, 'kNm')"
      ]
     },
     "execution_count": 13,
     "metadata": {},
     "output_type": "execute_result"
    }
   ],
   "source": [
    "# Max load from the tests\n",
    "F_301 = 30.72 \n",
    "F_303 = 26.18\n",
    "F_304 = 29.92\n",
    "\n",
    "# Distance between supports from the test (span)\n",
    "L_support = 0.691\n",
    "\n",
    "# Moment from the load test\n",
    "M_301 = 1/4 * L_support * F_301 \n",
    "M_303 = 1/4 * L_support * F_303 \n",
    "M_304 =  1/4 * L_support* F_304 \n",
    "\n",
    "# Moment from self weight one waterbomb is too small and can be neglected\n",
    "M_301_weight = 1/8 * 0.691**2 * 0.2732 / 1.1085 # Area load to line load conversion\n",
    "\n",
    "M_301, M_303, M_304, 'kNm'"
   ]
  },
  {
   "cell_type": "markdown",
   "id": "3bd4e369",
   "metadata": {},
   "source": [
    "#### Load-capacity of an assembly of CRC waterbomb modules based usign the results from the iterative design calculations\n",
    "\n",
    "![title](demonstrator-oben.png)\n",
    "![title](demonstrator-beam.png)\n"
   ]
  },
  {
   "cell_type": "code",
   "execution_count": 14,
   "id": "a6282668",
   "metadata": {},
   "outputs": [
    {
     "data": {
      "text/plain": [
       "(1.2026923512747874, 1.0249507082152975, 1.17137223796034, 'ton')"
      ]
     },
     "execution_count": 14,
     "metadata": {},
     "output_type": "execute_result"
    }
   ],
   "source": [
    "# Without self weight\n",
    "\n",
    "# Demonstrator: Assembly with 4 modules on the sides and 3 on the middle\n",
    "\n",
    "L_assembly = 3.53 # m\n",
    "B_assembly = 2.98 # m\n",
    "F_1_assembly = 4 * M_301 / L_assembly * 2 / 10 # multiply by 2, there are two waterbomb elements on the cross-section of the assembly\n",
    "F_3_assembly = 4 * M_303 / L_assembly * 2 / 10\n",
    "F_4_assembly = 4 * M_304 / L_assembly * 2 / 10\n",
    "\n",
    "F_1_assembly, F_3_assembly, F_4_assembly, 'ton'"
   ]
  },
  {
   "cell_type": "markdown",
   "id": "a30002a8-32b5-40a4-98ca-d011782449ac",
   "metadata": {},
   "source": [
    "#### Self weight of the assembly"
   ]
  },
  {
   "cell_type": "code",
   "execution_count": 15,
   "id": "cbf46d3f-77ac-4dc6-850c-03cdd07a239a",
   "metadata": {},
   "outputs": [
    {
     "data": {
      "text/plain": [
       "(24.0, 'kN/m3')"
      ]
     },
     "execution_count": 15,
     "metadata": {},
     "output_type": "execute_result"
    }
   ],
   "source": [
    "# Concrete density\n",
    "rho_ton_m3 = 2.400 # t / m3  \n",
    "rho_kN_m3 = rho_ton_m3 * 10\n",
    "rho_kN_m3, 'kN/m3'"
   ]
  },
  {
   "cell_type": "code",
   "execution_count": 16,
   "id": "6ef18fdf-3f9b-4c90-8462-96b51d819b71",
   "metadata": {},
   "outputs": [
    {
     "data": {
      "text/plain": [
       "(0.01701911396171042, 0.03403822792342084, 'm2')"
      ]
     },
     "execution_count": 16,
     "metadata": {},
     "output_type": "execute_result"
    }
   ],
   "source": [
    "# Cross-section area\n",
    "A_c_mm2 = mc.cs_design.cross_section_shape_.get_cs_area()\n",
    "A_c_module_m2 = A_c_mm2 / (1000**2) * 2 # Multiply by 2 to consider the another half of the cross-section\n",
    "A_c_assembly_m2 = A_c_module_m2 * 2 # Multiply by 2, the cross-section of the assembly consists of two modules\n",
    "A_c_module_m2, A_c_assembly_m2, 'm2'"
   ]
  },
  {
   "cell_type": "code",
   "execution_count": 17,
   "id": "cc65530a",
   "metadata": {},
   "outputs": [
    {
     "data": {
      "text/plain": [
       "(4.42441296, 0.31748573760000004, 'kN', 0.8169174701621, 'kN/m')"
      ]
     },
     "execution_count": 17,
     "metadata": {},
     "output_type": "execute_result"
    }
   ],
   "source": [
    "V_rhino_assembly = 184350540 * 10**-9 # m3 # Volume of assembly from the rhino model considering web, openings and half elements on both sides\n",
    "V_rhino_element = 13228572.4 * 10**-9 # m3 # Volume of one element from the rhino model considering web, openings and half elements\n",
    "\n",
    "w_assembly = V_rhino_assembly * rho_kN_m3\n",
    "w_element = V_rhino_element * rho_kN_m3\n",
    "\n",
    "g_assembly = rho_kN_m3 * A_c_assembly_m2 \n",
    "# waterbomb elements on the cross-section of the assembly\n",
    "\n",
    "w_assembly, w_element,'kN', g_assembly, 'kN/m' # It matches the experimental value, the mass of a single waterbomb module is 27~30 kg"
   ]
  },
  {
   "cell_type": "code",
   "execution_count": 18,
   "id": "5a8eb1c8-07fb-49f1-8c65-31fbdb19d763",
   "metadata": {},
   "outputs": [],
   "source": [
    "## It underestimates the weight\n",
    "#V_m = A_c_m2 * L_assembly # considering ideal cross-section over the slab length\n",
    "#m_kN = rho_kN_m3 * V_m * 2 # two interlocked layers\n",
    "#m_kN, rho_kN_m3 * A_c_m2"
   ]
  },
  {
   "cell_type": "code",
   "execution_count": 19,
   "id": "31c18567",
   "metadata": {},
   "outputs": [
    {
     "data": {
      "text/plain": [
       "(1.2724408629928639, 'kNm')"
      ]
     },
     "execution_count": 19,
     "metadata": {},
     "output_type": "execute_result"
    }
   ],
   "source": [
    "# Moment from the self weight\n",
    "M_self_weight = g_assembly * L_assembly**2 / 8\n",
    "M_self_weight, 'kNm'"
   ]
  },
  {
   "cell_type": "code",
   "execution_count": 20,
   "id": "9edba48e",
   "metadata": {},
   "outputs": [
    {
     "data": {
      "text/plain": [
       "(1.6451336472747873, 1.4673920042152975, 1.6138135339603399, 'ton')"
      ]
     },
     "execution_count": 20,
     "metadata": {},
     "output_type": "execute_result"
    }
   ],
   "source": [
    "# Load capacity considering the self-weight\n",
    "w_assembly_ton = w_assembly / 10\n",
    "F_1_total = F_1_assembly + w_assembly_ton\n",
    "F_3_total = F_3_assembly + w_assembly_ton\n",
    "F_4_total = F_4_assembly + w_assembly_ton\n",
    "\n",
    "F_1_total, F_3_total, F_4_total, 'ton'"
   ]
  },
  {
   "cell_type": "code",
   "execution_count": 21,
   "id": "30fc9abc",
   "metadata": {},
   "outputs": [
    {
     "data": {
      "text/plain": [
       "(3.718309439349412, 3.316580114653894, 3.647520131033022)"
      ]
     },
     "execution_count": 21,
     "metadata": {},
     "output_type": "execute_result"
    }
   ],
   "source": [
    "# Load-capacity/weight ratio of the assembly\n",
    "F_1_total / w_assembly_ton, F_3_total / w_assembly_ton, F_4_total / w_assembly_ton"
   ]
  },
  {
   "cell_type": "code",
   "execution_count": 22,
   "id": "69a4f578",
   "metadata": {},
   "outputs": [
    {
     "data": {
      "text/plain": [
       "0.12404996389299505"
      ]
     },
     "execution_count": 22,
     "metadata": {},
     "output_type": "execute_result"
    }
   ],
   "source": [
    "# Reinforcement ratio of the waterbomb assembly\n",
    "\n",
    "reinf_ratio_assembly = A_layer*2*2*10**-4 / A_c_assembly_m2 # Multiply the reinforcement area by 2 to consider the two layers and by 2 to consider the two modules\n",
    "reinf_ratio_assembly"
   ]
  },
  {
   "cell_type": "code",
   "execution_count": 23,
   "id": "51e572ad-086b-4217-9506-e3b06f9fe382",
   "metadata": {},
   "outputs": [],
   "source": [
    "#M_mu_kNm = 4.28 # kNm"
   ]
  },
  {
   "cell_type": "markdown",
   "id": "88e5c461-fa42-4dc1-b826-6b2698a2c7a4",
   "metadata": {},
   "source": [
    "$$\n",
    " R = \\frac{F}{2} \\\\\n",
    " M = R \\frac{L}{2} \\\\\n",
    " M = \\frac{1}{4} FL \\\\\n",
    " F = 4 \\frac{M}{L}\n",
    "$$"
   ]
  },
  {
   "cell_type": "code",
   "execution_count": 24,
   "id": "50fb7331-2d94-4b21-ace0-cc2c283d1b40",
   "metadata": {},
   "outputs": [],
   "source": [
    "#F_mu_kN = 4 * M_mu_kNm / L_assembly\n",
    "#F_mu_kN"
   ]
  },
  {
   "cell_type": "code",
   "execution_count": 25,
   "id": "0fef9338-9205-438a-8477-3670f73920e7",
   "metadata": {},
   "outputs": [],
   "source": [
    "#F_mu_kN / m_kN"
   ]
  },
  {
   "cell_type": "markdown",
   "id": "13572b49-72a6-429c-a514-7139c4522b0f",
   "metadata": {},
   "source": [
    "# Rectangular cross section"
   ]
  },
  {
   "cell_type": "code",
   "execution_count": 26,
   "id": "da82e620-30e4-4806-9275-4003f4b089c6",
   "metadata": {},
   "outputs": [],
   "source": [
    "%matplotlib widget\n",
    "import numpy as np\n",
    "from bmcs_cross_section.api import ReinfLayer, BarLayer, MKappa, TShape\n",
    "mc_rec_carbon= MKappa(low_kappa=0, high_kappa=0.00002)\n",
    "mc_rec_carbon.cs_design.cross_section_shape_.trait_set(H=135, B=B_assembly*1000) # Convert from m to mm\n",
    "mc_rec_carbon.cs_design.concrete.compression = 'EC2 with plateau'"
   ]
  },
  {
   "cell_type": "code",
   "execution_count": 27,
   "id": "a1c44be5",
   "metadata": {},
   "outputs": [
    {
     "data": {
      "text/plain": [
       "(234.6456692913386, 439.9606299212599)"
      ]
     },
     "execution_count": 27,
     "metadata": {},
     "output_type": "execute_result"
    }
   ],
   "source": [
    "A_roving = (1.8+1.95)/2 # 3.62 # [mm**2] # Average of the range given on the catalogue\n",
    "spacing = 12.7 # [mm] \n",
    "width = B_assembly*1000 # [mm] \n",
    "E_carbon = 200000 # [MPa] \n",
    "n_rovings = width / spacing\n",
    "A_layer = n_rovings * A_roving\n",
    "n_rovings, A_layer"
   ]
  },
  {
   "cell_type": "code",
   "execution_count": 28,
   "id": "a10fd91d",
   "metadata": {},
   "outputs": [
    {
     "data": {
      "text/plain": [
       "439.9606299212599"
      ]
     },
     "execution_count": 28,
     "metadata": {},
     "output_type": "execute_result"
    }
   ],
   "source": [
    "mc_rec_carbon.cs_design.concrete.compression_.trait_set(\n",
    "    f_c = 68.2, eps_cy=-0.0035, eps_cu=-0.0038, E_cc=24805\n",
    ")\n",
    "_f_t = 1200\n",
    "bl1 = ReinfLayer(name='carbon 1', matmod='carbon', z=5, A=A_layer)\n",
    "bl1.matmod_.trait_set(f_t = _f_t, E=E_carbon)\n",
    "bl2 = ReinfLayer(name='carbon 2', matmod='carbon', z=10, A=A_layer)\n",
    "bl2.matmod_.trait_set(f_t = _f_t, E=E_carbon)\n",
    "A_layer"
   ]
  },
  {
   "cell_type": "code",
   "execution_count": 29,
   "id": "38634265-7638-4d67-b413-7ce5cf88bc6d",
   "metadata": {},
   "outputs": [
    {
     "data": {
      "application/vnd.jupyter.widget-view+json": {
       "model_id": "15dd899f6db54572a035a033e577fb5b",
       "version_major": 2,
       "version_minor": 0
      },
      "text/plain": [
       "Output()"
      ]
     },
     "metadata": {},
     "output_type": "display_data"
    },
    {
     "name": "stdout",
     "output_type": "stream",
     "text": [
      "in update plot 1e-07\n"
     ]
    },
    {
     "data": {
      "application/vnd.jupyter.widget-view+json": {
       "model_id": "55225137d878475095de5afa0273976c",
       "version_major": 2,
       "version_minor": 0
      },
      "text/plain": [
       "VBox(children=(HBox(children=(VBox(children=(Tree(layout=Layout(align_items='stretch', border_bottom='solid 1p…"
      ]
     },
     "metadata": {},
     "output_type": "display_data"
    }
   ],
   "source": [
    "\n",
    "mc_rec_carbon.cross_section_layout.add_layer(bl1)\n",
    "mc_rec_carbon.interact()"
   ]
  },
  {
   "cell_type": "code",
   "execution_count": 30,
   "id": "e2b4d610",
   "metadata": {},
   "outputs": [
    {
     "data": {
      "text/plain": [
       "(37.584624255033624, 'kNm')"
      ]
     },
     "execution_count": 30,
     "metadata": {},
     "output_type": "execute_result"
    }
   ],
   "source": [
    "# M_R from the carbon rectangular slab\n",
    "M_R_carbon_rec = abs(mc_rec_carbon.M_t.max())*10**-6\n",
    "M_R_carbon_rec, 'kNm'"
   ]
  },
  {
   "cell_type": "code",
   "execution_count": 31,
   "id": "dc72bb13-1247-489b-9f94-12a7689ccc15",
   "metadata": {},
   "outputs": [
    {
     "data": {
      "text/plain": [
       "(3.1558199999999994, 'ton', 0.125, 2.98, 3.53, 'm')"
      ]
     },
     "execution_count": 31,
     "metadata": {},
     "output_type": "execute_result"
    }
   ],
   "source": [
    "# Self weight from the carbon rectangular slab\n",
    "w_carbon_rec = rho_kN_m3 * H/1000 * B_assembly  * L_assembly/ 10\n",
    "w_carbon_rec, 'ton', H/1000, B_assembly, L_assembly,  'm'"
   ]
  },
  {
   "cell_type": "code",
   "execution_count": 32,
   "id": "36f384bf",
   "metadata": {},
   "outputs": [
    {
     "data": {
      "text/plain": [
       "(4.258880935414576, 'ton')"
      ]
     },
     "execution_count": 32,
     "metadata": {},
     "output_type": "execute_result"
    }
   ],
   "source": [
    "F_carbon_rec = 4 * M_R_carbon_rec / L_assembly / 10\n",
    "F_carbon_rec, 'ton'"
   ]
  },
  {
   "cell_type": "code",
   "execution_count": 33,
   "id": "5ce83c82",
   "metadata": {},
   "outputs": [
    {
     "data": {
      "text/plain": [
       "1.349532272250818"
      ]
     },
     "execution_count": 33,
     "metadata": {},
     "output_type": "execute_result"
    }
   ],
   "source": [
    "F_carbon_rec / w_carbon_rec"
   ]
  }
 ],
 "metadata": {
  "kernelspec": {
   "display_name": "bmcs_env",
   "language": "python",
   "name": "python3"
  },
  "language_info": {
   "codemirror_mode": {
    "name": "ipython",
    "version": 3
   },
   "file_extension": ".py",
   "mimetype": "text/x-python",
   "name": "python",
   "nbconvert_exporter": "python",
   "pygments_lexer": "ipython3",
   "version": "3.12.3"
  }
 },
 "nbformat": 4,
 "nbformat_minor": 5
}
