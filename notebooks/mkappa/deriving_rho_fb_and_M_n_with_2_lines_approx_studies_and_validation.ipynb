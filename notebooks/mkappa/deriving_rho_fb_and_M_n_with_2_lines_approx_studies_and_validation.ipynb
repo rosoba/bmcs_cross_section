{
 "cells": [
  {
   "cell_type": "code",
   "execution_count": null,
   "metadata": {},
   "outputs": [],
   "source": [
    "%matplotlib widget\n",
    "from bmcs_cross_section.api import MKappa, EC2, ACI440, AnaFRPBending, ReinfLayer\n",
    "import bmcs_utils.api as bu \n",
    "import sympy as sp\n",
    "import numpy as np\n",
    "import pandas as pd\n",
    "import matplotlib.pyplot as plt\n",
    "\n",
    "bu.set_latex_mpl_format()\n",
    "plot_colors = bu.plot_colors"
   ]
  },
  {
   "cell_type": "code",
   "execution_count": null,
   "metadata": {},
   "outputs": [],
   "source": [
    "def validation_data():\n",
    "    delimiter=';'\n",
    "    decimal=','\n",
    "    file_path = './verification_data/FRP_data_for_Ana_model_validation.csv'\n",
    "    df = pd.read_csv(file_path, \n",
    "                     delimiter=delimiter, \n",
    "                     decimal=decimal, \n",
    "                     encoding='latin-1', \n",
    "                     skiprows=[0, 2], \n",
    "                     skipfooter=3,\n",
    "                     usecols=[0, 1, 2, 3, 5, 6, 9, 10, 16, 17, 25, 26, 27, 28, 29, 30]\n",
    "                    )\n",
    "    \n",
    "    for i in range(len(df.index)):\n",
    "        b = df['b'][i]\n",
    "        d = df['d_eqv'][i]\n",
    "        f_cm = df['f_cm'][i]\n",
    "        A_f = df['A_f_eqv'][i]\n",
    "        E_f = df['E_f'][i]\n",
    "        f_fu = df['f_fu'][i]\n",
    "        Mu_test = df['test'][i]\n",
    "        \n",
    "        ana = AnaFRPBending(A_f=A_f, f_fu=f_fu, E_f=E_f, f_cm=f_cm, b=b, d=d)\n",
    "        df.loc[i, 'M_u_aci'] = ACI440.get_M_n(A_f=A_f, f_fu=f_fu, E_f=E_f, f_c=f_cm, b=b, d=d)\n",
    "        df.loc[i, 'M_u_sug'] = ana.M_u\n",
    "        df.loc[i, r'ACI2/Test'] = np.round(df.loc[i, 'M_u_aci'] / Mu_test, 3)\n",
    "        df.loc[i, r'Ana2/Test'] = np.round(df.loc[i, 'M_u_sug'] / Mu_test, 3)\n",
    "\n",
    "        df.loc[i, r'rho_fb_aci'] = np.round(ACI440.get_rho_balanced(f_c=f_cm, f_fu=f_fu, E_f=E_f)*100, 2)\n",
    "        df.loc[i, r'rho_fb_ana'] = np.round(ana.rho_fb*100, 2)\n",
    "        df.loc[i, r'rho_f'] = ana.rho_f\n",
    "        \n",
    "    \n",
    "#     pd.DataFrame(data_new).to_csv('./verification_data/FRP_data_for_Ana_model_validation_calculated.csv', \n",
    "#                                   sep=delimiter, decimal=decimal, header=False, index=False)\n",
    "    return df\n",
    "\n",
    "df = validation_data()\n",
    "# df.drop(columns=['Ana'])\n",
    "df"
   ]
  },
  {
   "cell_type": "code",
   "execution_count": null,
   "metadata": {},
   "outputs": [],
   "source": [
    "df.round({'A_f_eqv': 1})"
   ]
  },
  {
   "cell_type": "code",
   "execution_count": null,
   "metadata": {},
   "outputs": [],
   "source": [
    "avg_ana = np.average(df['Ana2/Test'])\n",
    "# Coefficient of variance CV\n",
    "cv_ana = np.std(df['Ana2/Test']) / avg_ana\n",
    "avg_ana, cv_ana"
   ]
  },
  {
   "cell_type": "code",
   "execution_count": null,
   "metadata": {},
   "outputs": [],
   "source": [
    "avg_aci = np.average(df['ACI2/Test'])\n",
    "# Coefficient of variance CV\n",
    "cv_aci = np.std(df['ACI2/Test']) / avg_aci\n",
    "avg_aci, cv_aci"
   ]
  },
  {
   "cell_type": "code",
   "execution_count": null,
   "metadata": {},
   "outputs": [],
   "source": [
    "# ax.get_figure().savefig('test.pdf')"
   ]
  },
  {
   "cell_type": "code",
   "execution_count": null,
   "metadata": {},
   "outputs": [],
   "source": [
    "ax = df.plot(y=['ACI/Test', 'Ana/Test']) #  ,style='--'\n",
    "\n",
    "ax.set_ylim([0, 2])\n",
    "ax.axhline(y=1, lw=1, c='grey')\n",
    "\n",
    "# fig, ax = plt.subplots()\n",
    "# ax.plot(np.arange(len(df)), df['ACI/Test'], c='#CC0A00B2', label = 'ACI')\n",
    "# ax.plot(np.arange(len(df)), df['ACI/Test'], '.', c='#CC0A00B2')\n",
    "# ax.plot(np.arange(len(df)), df['Ana/Test'], c='#00000056', label = 'Ana')\n",
    "# ax.plot(np.arange(len(df)), df['Ana/Test'], '.', c='#00000056')\n",
    "# ax.legend()"
   ]
  },
  {
   "cell_type": "code",
   "execution_count": null,
   "metadata": {},
   "outputs": [],
   "source": [
    "x_axis_col = 'f_cm'\n",
    "df1 = df.sort_values(by=[x_axis_col])\n",
    "x_axis = df1[x_axis_col]\n",
    "ana_to_test = np.array(df1['Ana/Test'])\n",
    "aci_to_test = np.array(df1['ACI/Test'])\n",
    "fig, ax = plt.subplots()\n",
    "ax.plot(x_axis, ana_to_test, label='Ana') # or use , 'o'\n",
    "ax.plot(x_axis, aci_to_test, label='ACI')\n",
    "ax.legend()\n",
    "ax.axhline(y=1)"
   ]
  },
  {
   "cell_type": "code",
   "execution_count": null,
   "metadata": {},
   "outputs": [],
   "source": [
    "def get_mc(f_cm = 90, E_cm = EC2.get_E_cm(90-8), fctm_fl=None,\n",
    "           high_kappa = 0.00025, concrete_law='EC2',\n",
    "           B=200, H=150, A = None,\n",
    "           reinf = 'carbon',\n",
    "           E_nm=None, f_t=None, z=None,\n",
    "           grid_layers_spacing=[], grid_layers_area=[]):\n",
    "    \n",
    "    mc = MKappa(low_kappa = 0, high_kappa = high_kappa, n_kappa=300)\n",
    "    \n",
    "    mc.cs_design.matrix=concrete_law\n",
    "    \n",
    "    f_ck = EC2.get_f_ck_from_f_cm(f_cm)\n",
    "    if fctm_fl is None:\n",
    "        fctm_fl = EC2.get_f_ctm_fl(f_ck, H)\n",
    "        \n",
    "    mc.cs_design.matrix_.trait_set(f_cm = f_cm)\n",
    "#     mc.cs_design.matrix_.trait_set(E_cc=E_cm, \n",
    "#                                    E_ct=E_cm, \n",
    "#                                    eps_cr = fctm_fl/E_cm, \n",
    "#                                    eps_tu = fctm_fl/E_cm,\n",
    "#                                   )\n",
    "\n",
    "    mc.cross_section_shape_.B = B\n",
    "    mc.cross_section_shape_.H = H\n",
    "\n",
    "    # Carbon properties\n",
    "    E_nm=E_f_mat if E_nm is None else E_nm\n",
    "    f_t=f_t_mat if f_t is None else f_t\n",
    "    spacing = 38\n",
    "    rov_num = int(B/spacing) + 1\n",
    "    rov_cs_area = 3.62\n",
    "    if A is None:\n",
    "        A = rov_num * rov_cs_area\n",
    "    if z is None:\n",
    "        z = 10\n",
    "        \n",
    "    d = H - z\n",
    "    \n",
    "    grid_layers_n = len(grid_layers_area) if grid_layers_area else 1\n",
    "    if reinf == 'carbon':\n",
    "        if grid_layers_n == 1:\n",
    "            bl1 = ReinfLayer(name='grid', z=z, A=A, matmod='carbon')\n",
    "            bl1.matmod_.trait_set(E=E_nm, f_t=f_t)\n",
    "            mc.cross_section_layout.add_layer(bl1)\n",
    "        else:\n",
    "            for i in range(grid_layers_n):\n",
    "                bl1 = ReinfLayer(name='grid ' + str(i+1), \n",
    "                                 z=grid_layers_spacing[i] if grid_layers_spacing else 10, \n",
    "                                 A=grid_layers_area[i] if grid_layers_area else A, \n",
    "                                 matmod='carbon')\n",
    "                bl1.matmod_.trait_set(E=E_nm, f_t=f_t)\n",
    "                mc.cross_section_layout.add_layer(bl1)\n",
    "            A = grid_layers_n * A\n",
    "    else:\n",
    "        bl1 = ReinfLayer(name='rebars', z=z, A=A, matmod='steel')\n",
    "        bl1.matmod_.factor = 1 / 1.15 if design_mode else 1\n",
    "        mc.cross_section_layout.add_layer(bl1)\n",
    "    return mc"
   ]
  },
  {
   "cell_type": "code",
   "execution_count": null,
   "metadata": {},
   "outputs": [],
   "source": [
    "mc = get_mc(f_cm=60, E_nm=247468.92, f_t=3823.9, z=10, B=300, H=100)\n",
    "mc.interact()"
   ]
  },
  {
   "cell_type": "code",
   "execution_count": null,
   "metadata": {},
   "outputs": [],
   "source": [
    "AnaFRPBending(A_f=0.025*200*140, f_cm = 50, E_f = 70000, f_fu = 900, b=200, d=140).M_u"
   ]
  },
  {
   "cell_type": "code",
   "execution_count": null,
   "metadata": {},
   "outputs": [],
   "source": [
    "AnaFRPBending(A_f=3*np.pi*3**2, f_cm = 33.87*0.85/1.5, E_f = 148000, f_fu = 2000*0.85*0.9/1.5, b=110, d=300-20-6-6/2).M_u"
   ]
  },
  {
   "cell_type": "code",
   "execution_count": null,
   "metadata": {},
   "outputs": [],
   "source": [
    "AnaFRPBending(A_f=3*np.pi*3**2, f_cm = 33.87, E_f = 148000, f_fu = 2000, b=110, d=300-20-6-6/2).M_u"
   ]
  },
  {
   "cell_type": "code",
   "execution_count": null,
   "metadata": {},
   "outputs": [],
   "source": [
    "ACI440.get_M_n(A_f=0.025*200*140, f_fu=900, E_f=70000, f_c=50, b=200, d=140)"
   ]
  },
  {
   "cell_type": "code",
   "execution_count": null,
   "metadata": {},
   "outputs": [],
   "source": [
    "n_rho = 60\n",
    "n_1 = int(0.35 * n_rho)\n",
    "n_2 = int(0.25 * n_rho)\n",
    "n_3 = n_rho - n_1 - n_2\n",
    "rho_list = np.concatenate((np.linspace(0.0, 0.004, n_1, endpoint=False),\n",
    "                           np.linspace(0.004, 0.006, n_2, endpoint=False),\n",
    "                           np.linspace(0.006, 0.025, n_3)))\n",
    "\n",
    "fig4, axes = mc.plot_M_rho_and_util_factors(type='stress', n_rho = n_rho, rho_list=rho_list)\n",
    "ax1, ax2 = axes\n",
    "fig4.show()"
   ]
  },
  {
   "cell_type": "code",
   "execution_count": null,
   "metadata": {},
   "outputs": [],
   "source": [
    "AnaFRPBending(A_f=226.195, f_fu=1353.0, E_f=63252.0, f_cm=59.8, b=140.0, d=156.0).M_u"
   ]
  },
  {
   "cell_type": "code",
   "execution_count": null,
   "metadata": {},
   "outputs": [],
   "source": [
    "# bend = AnaFRPBending(f_cm = 90, E_f = 230000, f_fu = 1500)\n",
    "bend = AnaFRPBending(f_cm = 90, E_f = 247468.92, f_fu = 3823.9, b=300, d=90)\n",
    "# bend = AnaFRPBending(mc=mc)\n",
    "\n",
    "rho_f_list = np.linspace(0, 0.025, 300)\n",
    "psi_f_list = np.zeros_like(rho_f_list)\n",
    "psi_c_list = np.zeros_like(rho_f_list)\n",
    "M_u_list = np.zeros_like(rho_f_list)\n",
    "M_u_aci_list = np.zeros_like(rho_f_list)\n",
    "f_cms = np.linspace(20, 108, 10)\n",
    "ds = np.linspace(70, 200, 5)\n",
    "bs = np.linspace(100, 500, 6)\n",
    "\n",
    "rho_diff = np.zeros_like(f_cms)\n",
    "\n",
    "fig, (ax1, ax2) = plt.subplots(2, 1)\n",
    "\n",
    "for j, f_cm_ in enumerate(bs):\n",
    "#     bend.f_cm = f_cm_\n",
    "#     bend.d = f_cm_\n",
    "    bend.b = f_cm_\n",
    "\n",
    "    rho_diff[j] = bend.rho_fb - bend.rho_f_cy\n",
    "    for i, rho_f in enumerate(rho_f_list):\n",
    "        A_f = rho_f * bend.b * bend.d\n",
    "        bend.A_f = A_f\n",
    "        psi_f_list[i] = bend.psi_f\n",
    "        psi_c_list[i] = bend.psi_c\n",
    "        M_u_list[i] = bend.M_u\n",
    "        M_u_aci_list[i] = ACI440.get_M_n(A_f=bend.A_f, f_fu=bend.f_fu, E_f=bend.E_f, f_c=bend.f_cm, b=bend.b, d=bend.d)\n",
    "\n",
    "    ax1.plot(rho_f_list, M_u_aci_list, label = 'aci')\n",
    "    ax1.plot(rho_f_list, M_u_list, label = 'analytical')\n",
    "    ax1.legend()\n",
    "    \n",
    "    ax2.plot(rho_f_list, psi_f_list, label = r'$\\psi_\\mathrm{f}$ analytical')\n",
    "    ax2.plot(rho_f_list, psi_c_list, label = r'$\\psi_\\mathrm{c}$ analytical')\n",
    "    ax2.axvline(bend.rho_f_cy , ls='--', lw=1, c='black')\n",
    "    ax2.axvline(bend.rho_fb , ls='--', lw=1, c='black')\n",
    "    ax2.text(bend.rho_f_cy, 0, r'$\\rho_{f, cy}$', rotation=90)\n",
    "    ax2.text(bend.rho_fb, 0, r'$\\rho_{fb}$', rotation=90)\n",
    "    ax2.legend()\n",
    "\n",
    "# ax3.plot(f_cms, rho_diff)\n",
    "# fig"
   ]
  },
  {
   "cell_type": "code",
   "execution_count": null,
   "metadata": {},
   "outputs": [],
   "source": [
    "b, d, f_cm, E_f, f_fu"
   ]
  },
  {
   "cell_type": "code",
   "execution_count": null,
   "metadata": {},
   "outputs": [],
   "source": [
    "fig4.show()"
   ]
  },
  {
   "cell_type": "code",
   "execution_count": null,
   "metadata": {},
   "outputs": [],
   "source": [
    "# fig4.savefig('util_ratios_Mu_ACI_zoomed.pdf')"
   ]
  }
 ],
 "metadata": {
  "kernelspec": {
   "display_name": "Python 3 (ipykernel)",
   "language": "python",
   "name": "python3"
  },
  "language_info": {
   "codemirror_mode": {
    "name": "ipython",
    "version": 3
   },
   "file_extension": ".py",
   "mimetype": "text/x-python",
   "name": "python",
   "nbconvert_exporter": "python",
   "pygments_lexer": "ipython3"
  },
  "toc": {
   "base_numbering": 1,
   "nav_menu": {},
   "number_sections": true,
   "sideBar": true,
   "skip_h1_title": false,
   "title_cell": "Table of Contents",
   "title_sidebar": "Contents",
   "toc_cell": false,
   "toc_position": {},
   "toc_section_display": true,
   "toc_window_display": false
  }
 },
 "nbformat": 4,
 "nbformat_minor": 4
}
