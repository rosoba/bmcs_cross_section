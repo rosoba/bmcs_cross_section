{
 "cells": [
  {
   "cell_type": "code",
   "execution_count": null,
   "metadata": {},
   "outputs": [],
   "source": [
    "#%matplotlib widget\n",
    "from bmcs_cross_section.api import MKappa, EC2\n",
    "import sympy as sp\n",
    "import numpy as np\n",
    "import matplotlib.pyplot as plt"
   ]
  },
  {
   "cell_type": "code",
   "execution_count": null,
   "metadata": {},
   "outputs": [],
   "source": [
    "# EC2, eq. (3.14)\n",
    "\n",
    "sig_c1, sig_c2, sig_c3, eps_cu1, b, c, d, A_f, f_fu, E_f = \\\n",
    " sp.symbols('sigma_c1 sigma_c2 sigma_c3, varepsilon_cu1, b, c, d, A_f, f_{fu}, E_f', real=True, nonnegative=True)\n",
    "eps_cy, eps_cu, eps, E_cc, f_cm = \\\n",
    "sp.symbols('varepsilon_cy, varepsilon_cu, varepsilon, E_cc, f_cm', real=True, nonnegative=True)\n",
    "\n",
    "k = 1.05 * E_cc * eps_cy / f_cm\n",
    "eta = eps / eps_cy\n",
    "sig_c = f_cm * (k*eta - eta**2)/(1+eta*(k-2))\n",
    "\n",
    "sig_c_eps_ = sp.Piecewise(\n",
    "        (0, eps > eps_cu),\n",
    "        (sig_c, eps > 0),\n",
    "        (0, True)\n",
    ")"
   ]
  },
  {
   "cell_type": "code",
   "execution_count": null,
   "metadata": {},
   "outputs": [],
   "source": [
    "from scipy.optimize import minimize\n",
    "\n",
    "f_cms = np.array([ 20.,  24.,  28.,  33.,  38.,  43.,  48.,  53.,  58.,  63.,  68., 78.,  88.,  98., 108.])\n",
    "\n",
    "# f_cms = np.array([60])\n",
    "    \n",
    "def get_sig_eps(f_cm_, eps_trial_list, branch=1):\n",
    "    eps_cy_ = EC2.get_eps_c1(f_cm_ - 8)\n",
    "    eps_cu_ = EC2.get_eps_cu1(f_cm_- 8)\n",
    "    \n",
    "    # supress invalid solutions\n",
    "    for eps_val in eps_trial_list:\n",
    "        if eps_val < 0 or eps_val > 1:\n",
    "            return 9999999\n",
    "        \n",
    "#     for eps_val in eps_trial_list:\n",
    "#         if eps_val < 0 or eps_val > eps_cu_:\n",
    "#             return None\n",
    "    \n",
    "    sig_c_eps = sig_c_eps_.subs({E_cc:EC2.get_E_cm(f_cm_ - 8), eps_cy:eps_cy_, \n",
    "                                f_cm:EC2.get_f_cm(f_cm_ - 8), eps_cu:eps_cu_})\n",
    "    get_sig = sp.lambdify(eps, sig_c_eps, 'numpy')\n",
    "    if branch == 1:\n",
    "        eps_fine = np.linspace(0, eps_cy_, 500)\n",
    "        #     eps_coarse = np.concatenate(([0], [eps_trial_list[0]], [eps_cy_], [eps_trial_list[1]], [eps_cu_]))\n",
    "        eps_coarse = np.concatenate(([0], [eps_trial_list[0] * eps_cy_], [eps_cy_]))\n",
    "    elif branch == 2:\n",
    "        eps_fine = np.linspace(eps_cy_, eps_cu_, 300)\n",
    "        eps_coarse = np.concatenate(([eps_cy_], [eps_cu_]))\n",
    "    \n",
    "    sig_fine = get_sig(eps_fine)\n",
    "    sig_coarse = get_sig(eps_coarse)\n",
    "    \n",
    "    return eps_fine, sig_fine, eps_coarse, sig_coarse\n",
    "\n",
    "def area_diff_eps_mini(eps_trial_list, f_cm_=None, branch=1):\n",
    "    eps_sig = get_sig_eps(f_cm_, eps_trial_list, branch)\n",
    "    if eps_sig is None:\n",
    "        return 99999999\n",
    "    eps_fine, sig_fine, eps_coarse, sig_coarse = eps_sig\n",
    "    area_diff = np.abs(np.trapz(y=sig_fine, x=eps_fine) - np.trapz(y=sig_coarse, x=eps_coarse))\n",
    "\n",
    "    return area_diff\n",
    "\n",
    "def area_diff_sig_scale_mini(sig_scales, eps_trial_list=None, f_cm_=None, branch=1):\n",
    "    for sig_scale in sig_scales:\n",
    "        if sig_scale < 0 or sig_scale > 10:\n",
    "            return 9999999\n",
    "    \n",
    "    eps_fine, sig_fine, eps_coarse, sig_coarse = get_sig_eps(f_cm_, eps_trial_list, branch)\n",
    "    if branch == 1:\n",
    "        sig_coarse[1] *= sig_scales[0]\n",
    "        if sig_coarse[1] > f_cm_:\n",
    "            return 9999999\n",
    "    elif branch == 2:\n",
    "        sig_coarse[-1] *= sig_scales[0]\n",
    "        if sig_coarse[-1] > f_cm_:\n",
    "            return 9999999\n",
    "\n",
    "    area_diff = np.abs(np.trapz(y=sig_fine, x=eps_fine) - np.trapz(y=sig_coarse, x=eps_coarse))\n",
    "    \n",
    "#     print('area_diff=', area_diff)\n",
    "    return area_diff\n",
    " \n",
    "\n",
    "c_section, b_section = 150, 400\n",
    "\n",
    "def minimize_area_diff():\n",
    "    result = np.zeros((len(f_cms), 4))\n",
    "    \n",
    "    # branch 1\n",
    "    for i, f_cm_ in enumerate(f_cms):\n",
    "        branch = 1 \n",
    "        res1 = minimize(area_diff_eps_mini, np.array([0]), tol=1e-12, args=(f_cm_, branch))\n",
    "        smallest_diff1 = res1.fun\n",
    "        print('smallest_diff1=', smallest_diff1)\n",
    "        print('F_c_diff [N] ≈', np.round(smallest_diff1 * (c_section / EC2.get_eps_cu1(f_cm_ - 8)) * b_section, 3))\n",
    "        \n",
    "        res2 = minimize(area_diff_sig_scale_mini, np.array([1.]), tol=1e-12, args=(np.sort(res1.x), f_cm_, branch))\n",
    "        smallest_diff2 = res2.fun\n",
    "        print('smallest_diff2=', smallest_diff2)\n",
    "        print('F_c_diff [N] ≈', np.round(smallest_diff2 * (c_section / EC2.get_eps_cu1(f_cm_ - 8)) * b_section, 3))\n",
    "        \n",
    "        branch = 2\n",
    "        res3 = minimize(area_diff_sig_scale_mini, np.array([1.]), tol=1e-12, args=(np.sort(res1.x), f_cm_, branch))\n",
    "        smallest_diff3 = res3.fun\n",
    "        print('smallest_diff3=', smallest_diff3)\n",
    "        print('F_c_diff [N] ≈', np.round(smallest_diff2 * (c_section / EC2.get_eps_cu1(f_cm_ - 8)) * b_section, 3))\n",
    "        \n",
    "        print('-----------------------------')\n",
    "        sol1 = res1.x\n",
    "        sol2 = res2.x\n",
    "        sol3 = res3.x\n",
    "        print(sol1)\n",
    "        result[i:] = np.concatenate(([f_cm_], np.sort(sol1), np.sort(sol2), np.sort(sol3)))\n",
    "    return result\n",
    "\n",
    "result = minimize_area_diff()\n",
    "result"
   ]
  },
  {
   "cell_type": "code",
   "execution_count": null,
   "metadata": {},
   "outputs": [],
   "source": [
    "fig1, ax1 = plt.subplots()\n",
    "eps_diff = np.zeros(len(f_cms))\n",
    "for i, f_cm_val in enumerate(f_cms):\n",
    "#     eps_diff[i] = (3.5 if f_cm_val <50 else 2.8 + 27 * ((98 - f_cm_val) / 100) ** 4) - min(2.8, 0.7 * f_cm_val ** 0.31)\n",
    "    eps_diff[i] = EC2.get_eps_cu1(f_cm_val - 8) - EC2.get_eps_c1(f_cm_val - 8)\n",
    "\n",
    "eps_diff_scaled = (eps_diff - eps_diff[0])/(eps_diff[-1] - eps_diff[0]) * (1 - 1.25) + 1.25\n",
    "\n",
    "ax1.plot(result[:, 0], result[:, 3]) # sig_eps_cu_scaled / sig_eps_cu_exact\n",
    "ax1.plot(result[:, 0], eps_diff_scaled)\n",
    "# ax1.plot(result[:, 0], sig_eps_cu_scaled)"
   ]
  },
  {
   "cell_type": "code",
   "execution_count": null,
   "metadata": {},
   "outputs": [],
   "source": [
    "m1, p1 = np.polyfit(result[:, 0], result[:, 1], 1)\n",
    "eps_cy_p1_scale = m1 * f_cm + p1 # must be <= 1\n",
    "\n",
    "m2, p2 = np.polyfit(result[:, 0], result[:, 2], 1)\n",
    "sig_cy_p1_scale = m2 * f_cm + p2  # must be >= 1\n",
    "\n",
    "sig_eps_cu_scaled = 1.000964 + (1.235655 - 1.000964)/(1 + (f_cm/60.73773)**24.71828) # must be >= 1\n",
    "# last one obtained from https://mycurvefit.com/, by 4PL Symmetrical sigmoidal fitting"
   ]
  },
  {
   "cell_type": "code",
   "execution_count": null,
   "metadata": {},
   "outputs": [],
   "source": [
    "get_eps_cy_p1_scale = sp.lambdify(f_cm, eps_cy_p1_scale, 'numpy')\n",
    "get_sig_cy_p1_scale = sp.lambdify(f_cm, sig_cy_p1_scale, 'numpy')"
   ]
  },
  {
   "cell_type": "code",
   "execution_count": null,
   "metadata": {},
   "outputs": [],
   "source": [
    "fig1, ax1 = plt.subplots()\n",
    "f_cm_mid = (result[:, 0][-1] + result[:, 0][0])/2\n",
    "ax1.set_xlabel('f_cm')\n",
    "ax1.set_ylabel('eps_cy_p1_scale')\n",
    "\n",
    "ax1.plot(result[:, 0], result[:, 1]) # eps_cy_p1_scale / eps_cy\n",
    "ax1.plot(result[:, 0], get_eps_cy_p1_scale(result[:, 0]))\n",
    "eps_cy_p1_scale_mid = np.interp(f_cm_mid, result[:, 0], get_eps_cy_p1_scale(result[:, 0]))\n",
    "ax1.plot(f_cm_mid, eps_cy_p1_scale_mid, 'o')\n",
    "\n",
    "ax2 = ax1.twinx()\n",
    "ax2.plot(result[:, 0], result[:, 2]) # sig_cy_p1_scale, (sig_cy_p1_scaled = sig_cy_p1_scale * sig_cy_p1_exact)\n",
    "ax2.plot(result[:, 0], get_sig_cy_p1_scale(result[:, 0]))\n",
    "sig_cy_p1_scale_mid = np.interp(f_cm_mid, result[:, 0], get_sig_cy_p1_scale(result[:, 0]))\n",
    "ax2.plot(f_cm_mid, sig_cy_p1_scale_mid, 'o')\n",
    "ax2.set_ylabel('sig_cy_p1_scale')\n",
    "\n",
    "# ax1.plot(result[:, 0], result[:, 3]) # sig_eps_cu_scale, (sig_eps_cu_scaled = sig_eps_cu_scale * sig_eps_cu_exact)"
   ]
  },
  {
   "cell_type": "code",
   "execution_count": null,
   "metadata": {},
   "outputs": [],
   "source": [
    "eps_cy_p1_scale_mid, sig_cy_p1_scale_mid # Use these, easier than doing a linear equation"
   ]
  },
  {
   "cell_type": "code",
   "execution_count": null,
   "metadata": {},
   "outputs": [],
   "source": [
    "fig, ax = plt.subplots()\n",
    "\n",
    "for f_cm_ in [68]: # f_cms:\n",
    "    eps_cy_ = EC2.get_eps_c1(f_cm_ - 8)\n",
    "    eps_cu_ = EC2.get_eps_cu1(f_cm_ - 8)\n",
    "\n",
    "    eps_fine = np.linspace(0, eps_cu_, 500)\n",
    "\n",
    "    sig_c_eps = sig_c_eps_.subs({E_cc:EC2.get_E_cm(f_cm_ - 8), eps_cy:eps_cy_, \n",
    "                                f_cm:EC2.get_f_cm(f_cm_ - 8), eps_cu:eps_cu_})\n",
    "\n",
    "    get_sig = sp.lambdify(eps, sig_c_eps, 'numpy')\n",
    "    sig_fine = get_sig(eps_fine)\n",
    "\n",
    "    \n",
    "    ax.plot(eps_fine, sig_fine)\n",
    "    \n",
    "    result_for_f_ck = np.copy(result[np.argwhere(result[:, 0]==f_cm_)[0][0]])\n",
    "    result_for_f_ck[1] = eps_cy_p1_scale_mid\n",
    "    result_for_f_ck[2] = sig_cy_p1_scale_mid\n",
    "    \n",
    "    eps_coarse = np.concatenate(([0], [result_for_f_ck[1] * eps_cy_], [eps_cy_], [eps_cu_]))\n",
    "    sig_coarse = get_sig(eps_coarse)\n",
    "\n",
    "#     result_for_f_ck[3] = (sig_coarse[-2] + sig_coarse[-1]) / 2\n",
    "\n",
    "    sig_coarse[1] *= result_for_f_ck[2]\n",
    "    sig_coarse[-1] = (sig_coarse[-2] + sig_coarse[-1]) / 2.08 \n",
    "\n",
    "    ax.plot(eps_coarse, sig_coarse, 'o')\n",
    "    ax.plot(eps_coarse, sig_coarse)\n",
    "    \n",
    "    area_diff = np.abs(np.trapz(y=sig_fine, x=eps_fine) - np.trapz(y=sig_coarse, x=eps_coarse))\n",
    "    print(area_diff)\n",
    "    c, b = 150, 400\n",
    "    F_c_diff = np.round(area_diff * (c / EC2.get_eps_cu1(f_cm_ - 8)) * b/1000, 2)\n",
    "    F_c_total = np.trapz(y=sig_fine, x=eps_fine) * (c / EC2.get_eps_cu1(f_cm_ - 8)) * b/1000\n",
    "    print('F_c_diff [kN] ≈', F_c_diff)\n",
    "    print('F_c_diff [%] ≈', np.round(100 * F_c_diff/F_c_total, 2))\n",
    "    \n",
    "\n",
    "# fig.show()"
   ]
  },
  {
   "attachments": {
    "image-2.png": {
     "image/png": "[encoded data removed]"
    }
   },
   "cell_type": "markdown",
   "metadata": {},
   "source": [
    "## Deriving equations for the three linearized parts\n",
    "![image-2.png](attachment:image-2.png)"
   ]
  },
  {
   "cell_type": "code",
   "execution_count": null,
   "metadata": {},
   "outputs": [],
   "source": [
    "substitute_E_cc_and_eps_cy = False\n",
    "\n",
    "if substitute_E_cc_and_eps_cy:\n",
    "    E_cm = 22000 * (f_cm / 10) ** 0.3\n",
    "    # WARNING, TODO: Instead use 0.001 * sp.Min(0.7 * f_cm ** 0.31, 2.8) ??\n",
    "    eps_c1 = 0.001 * 0.7 * f_cm ** 0.31\n",
    "else:\n",
    "    E_cm = E_cc\n",
    "    eps_c1 = eps_cy\n",
    "    \n",
    "# eps_cy_p1 = eps_cy_p1_scale * eps_c1\n",
    "eps_cy_p1 = eps_cy_p1_scale_mid * eps_c1\n",
    "\n",
    "sig_cy_p1 = sp.simplify(sig_c.subs({eps:eps_cy_p1, E_cc:E_cm, eps_cy:eps_c1}))\n",
    "\n",
    "# sig_cy_p1 =  sig_cy_p1_scale * sig_cy_p1\n",
    "sig_cy_p1 = sig_cy_p1_scale_mid * sig_cy_p1\n",
    "sig_cy_p1"
   ]
  },
  {
   "cell_type": "code",
   "execution_count": null,
   "metadata": {},
   "outputs": [],
   "source": [
    "eps_cy_p1_scale.subs({f_cm:100})"
   ]
  },
  {
   "cell_type": "code",
   "execution_count": null,
   "metadata": {},
   "outputs": [],
   "source": [
    "sig_c_part_1_line = sp.Line(sp.Point(0, 0), sp.Point(eps_cy_p1, sig_cy_p1))\n",
    "\n",
    "sig_c1_eq = sig_c_part_1_line.equation(x=eps, y=sig_c1)\n",
    "sig_c1_ = sp.solve(sig_c1_eq, sig_c1)[0]\n",
    "sig_c1_"
   ]
  },
  {
   "cell_type": "code",
   "execution_count": null,
   "metadata": {},
   "outputs": [],
   "source": [
    "sig_c2_line = sp.Line(sp.Point(eps_cy_p1, sig_cy_p1), sp.Point(eps_c1, f_cm))\n",
    "sig_c2_eq = sig_c2_line.equation(x=eps, y=sig_c2)\n",
    "sig_c2_ = sp.solve(sig_c2_eq, sig_c2)[0]\n",
    "sig_c2_"
   ]
  },
  {
   "cell_type": "code",
   "execution_count": null,
   "metadata": {},
   "outputs": [],
   "source": [
    "sig_cy_p3 = sp.simplify(sig_c.subs({eps:eps_cu1, E_cc:E_cm, eps_cy:eps_c1}))\n",
    "sig_cy_p3 = (sig_cy_p3 + f_cm) / 2.08\n",
    "sig_cy_p3"
   ]
  },
  {
   "cell_type": "code",
   "execution_count": null,
   "metadata": {},
   "outputs": [],
   "source": [
    "sig_c3_line = sp.Line(sp.Point(eps_c1, f_cm), sp.Point(eps_cu1, sig_cy_p3))\n",
    "\n",
    "sig_c3_eq = sig_c3_line.equation(x=eps, y=sig_c3)\n",
    "sig_c3_ = sp.solve(sig_c3_eq, sig_c3)[0]\n",
    "sig_c3_"
   ]
  },
  {
   "cell_type": "code",
   "execution_count": null,
   "metadata": {},
   "outputs": [],
   "source": [
    "eq = sp.Piecewise(\n",
    "    (sig_c1_, eps <= eps_cy_p1), \n",
    "    (sig_c2_, eps <= eps_c1), \n",
    "    (sig_c3_, True)\n",
    ")\n",
    "eq"
   ]
  },
  {
   "cell_type": "code",
   "execution_count": null,
   "metadata": {},
   "outputs": [],
   "source": [
    "get_eq = sp.lambdify(eps, eq.subs({f_cm:50, E_cc:EC2.get_E_cm(50-8), eps_cy:EC2.get_eps_c1(50-8), eps_cu1:EC2.get_eps_cu1(50-8)}), 'numpy')\n",
    "eps_vals = np.linspace(0, EC2.get_eps_cu1(50-8), 100)\n",
    "sig_vals = get_eq(eps_vals)\n",
    "fig4, ax4 = plt.subplots()\n",
    "ax4.plot(eps_vals, sig_vals)"
   ]
  },
  {
   "cell_type": "code",
   "execution_count": null,
   "metadata": {},
   "outputs": [],
   "source": [
    "np.trapz(y=sig_vals, x=eps_vals)"
   ]
  },
  {
   "cell_type": "code",
   "execution_count": null,
   "metadata": {},
   "outputs": [],
   "source": [
    "eq_area = sp.integrate(sp.simplify(eq), eps)\n",
    "eq_area"
   ]
  },
  {
   "cell_type": "code",
   "execution_count": null,
   "metadata": {},
   "outputs": [],
   "source": [
    "get_eq_area = sp.lambdify(eps, eq_area.subs({f_cm:50, E_cc:EC2.get_E_cm(50-8), eps_cy:EC2.get_eps_c1(50-8), eps_cu1:EC2.get_eps_cu1(50-8)}), 'numpy')\n",
    "eps_vals2 = np.linspace(0, EC2.get_eps_cu1(50-8), 100)\n",
    "sig_vals2 = get_eq_area(eps_vals2)\n",
    "fig4, ax4 = plt.subplots()\n",
    "ax4.plot(eps_vals2, sig_vals2)"
   ]
  },
  {
   "cell_type": "code",
   "execution_count": null,
   "metadata": {},
   "outputs": [],
   "source": [
    "sig_1_area_up_to_eps = eq_area.args[0][0]\n",
    "sig_2_area_up_to_eps = eq_area.args[1][0]\n",
    "sig_3_area_up_to_eps = eq_area.args[2][0]\n",
    "sig_1_area_up_to_eps"
   ]
  },
  {
   "cell_type": "code",
   "execution_count": null,
   "metadata": {},
   "outputs": [],
   "source": [
    "# Compare F_t = A_f * f_fu with F_c_1, if F_t <= F_c_1, then you can use sig_c_part_1\n",
    "eps_fu = f_fu/E_f\n",
    "c_1 = d * (eps_cy_p1 / (eps_cy_p1 + eps_fu))\n",
    "F_c_1 = sig_1_area_up_to_eps.subs({eps:eps_cy_p1}) * (c_1 / eps_cy_p1) * b\n",
    "F_c_1 = sp.simplify(F_c_1)\n",
    "F_c_1"
   ]
  },
  {
   "cell_type": "code",
   "execution_count": null,
   "metadata": {},
   "outputs": [],
   "source": [
    "20*2500"
   ]
  },
  {
   "cell_type": "code",
   "execution_count": null,
   "metadata": {},
   "outputs": [],
   "source": [
    "sp.N(F_c_1.subs({f_cm:50, b:400, d:180, f_fu:2500, E_f:200000, E_cc:EC2.get_E_cm(50-8), eps_cy:EC2.get_eps_c1(50-8)}))"
   ]
  },
  {
   "cell_type": "code",
   "execution_count": null,
   "metadata": {},
   "outputs": [],
   "source": [
    "# Compare F_t = A_f * f_fu with F_c_1, if F_t <= F_c_1, then you can use sig_c_part_1\n",
    "eps_fu = f_fu/E_f\n",
    "c_2 = d * (eps_c1 / (eps_c1 + eps_fu))\n",
    "F_c_2 = sig_2_area_up_to_eps.subs({eps:eps_c1}) * (c_2 / eps_c1) * b\n",
    "F_c_2 = sp.simplify(F_c_2)\n",
    "F_c_2\n",
    "\n",
    "# You don't need F_c_3 because if F_t > F_c_2, then the user will use last equation directly"
   ]
  },
  {
   "cell_type": "code",
   "execution_count": null,
   "metadata": {},
   "outputs": [],
   "source": [
    "# Solving eps top for part 1\n",
    "def get_eps_top_solved(index):\n",
    "    c = d * eps/(eps + eps_fu)\n",
    "\n",
    "    F_t = A_f * f_fu\n",
    "    sig_z_area = eq_area.args[index][0] * (c / eps)\n",
    "    F_c = sig_z_area * b\n",
    "    eps_top_solved = sp.solve(F_t - F_c, eps)[1] # TODO, this the positive solution, make sure you don't want the negative\n",
    "    eps_top_solved = sp.simplify(eps_top_solved)\n",
    "    return eps_top_solved"
   ]
  },
  {
   "cell_type": "code",
   "execution_count": null,
   "metadata": {},
   "outputs": [],
   "source": [
    "eps_part_1 = get_eps_top_solved(0)\n",
    "eps_part_1"
   ]
  },
  {
   "cell_type": "code",
   "execution_count": null,
   "metadata": {},
   "outputs": [],
   "source": [
    "def get_psi(index):\n",
    "    if index >= 2:\n",
    "        return 1\n",
    "    else:\n",
    "        eps_top_solved = get_eps_top_solved(index)\n",
    "        sig_c_eq = eq.args[index][0]\n",
    "        f_c_max = sig_c_eq.subs({eps: eps_top_solved})\n",
    "        psi_c = f_c_max/f_cm\n",
    "        psi_c = sp.simplify(psi_c)\n",
    "        return psi_c"
   ]
  },
  {
   "cell_type": "code",
   "execution_count": null,
   "metadata": {},
   "outputs": [],
   "source": [
    "psi_c_part_1 = get_psi(0)\n",
    "# sp.cse(psi_c_part_1)\n",
    "psi_c_part_1"
   ]
  },
  {
   "cell_type": "code",
   "execution_count": null,
   "metadata": {},
   "outputs": [],
   "source": [
    "sp.N(psi_c_part_1.subs({f_cm:50, b:400, d:180, f_fu:2500, E_f:200000, A_f:20, E_cc:EC2.get_E_cm(50-8), eps_cy:EC2.get_eps_c1(50-8)}))"
   ]
  },
  {
   "cell_type": "code",
   "execution_count": null,
   "metadata": {},
   "outputs": [],
   "source": [
    "# Because first part is triangle, the center of it is\n",
    "ce1 = c.subs({eps: eps_part_1}) / 3\n",
    "ce1 = sp.simplify(ce1)\n",
    "ce1"
   ]
  },
  {
   "cell_type": "code",
   "execution_count": null,
   "metadata": {},
   "outputs": [],
   "source": [
    "M_n_1 = sp.simplify(A_f * f_fu * (d - ce1))\n",
    "M_n_1\n",
    "# packaging common terms\n",
    "# sp.cse(M_n)"
   ]
  },
  {
   "cell_type": "code",
   "execution_count": null,
   "metadata": {},
   "outputs": [],
   "source": [
    "sp.N(M_n_1.subs({f_cm:50, b:400, d:180, f_fu:2500, E_f:200000, A_f:20, E_cc:EC2.get_E_cm(50-8), eps_cy:EC2.get_eps_c1(50-8)}) / 1e6)"
   ]
  },
  {
   "cell_type": "code",
   "execution_count": null,
   "metadata": {},
   "outputs": [],
   "source": [
    "# Not solvable directly if eps_cy and E_cc are substituted, it's solved below, but it's very complex formula!\n",
    "psi_c_part_2 = get_psi(1)\n",
    "psi_c_part_2"
   ]
  },
  {
   "cell_type": "code",
   "execution_count": null,
   "metadata": {},
   "outputs": [],
   "source": [
    "psi_c_part_2_reduced = sp.cse(psi_c_part_2)\n",
    "psi_c_part_2_reduced"
   ]
  },
  {
   "cell_type": "code",
   "execution_count": null,
   "metadata": {},
   "outputs": [],
   "source": [
    "psi_c_part_3 = get_psi(2)\n",
    "psi_c_part_3"
   ]
  },
  {
   "cell_type": "markdown",
   "metadata": {},
   "source": [
    "## Solving psi and Mn for part 2 if it's not solvable because eps_cy and E_cc are substituted"
   ]
  },
  {
   "cell_type": "code",
   "execution_count": null,
   "metadata": {},
   "outputs": [],
   "source": [
    "eps_part_2 = get_eps_top_solved(1)\n",
    "eps_part_2"
   ]
  },
  {
   "cell_type": "code",
   "execution_count": null,
   "metadata": {},
   "outputs": [],
   "source": [
    "c = d * eps/(eps + eps_fu)\n",
    "\n",
    "F_t = A_f * f_fu\n",
    "sig_z_area = eq_area.args[1][0] * (c / eps)\n",
    "factors, sig_z_area = sp.cse(sig_z_area)[:-1][0], sp.cse(sig_z_area)[-1][0]\n",
    "sig_z_area"
   ]
  },
  {
   "cell_type": "code",
   "execution_count": null,
   "metadata": {},
   "outputs": [],
   "source": [
    "F_c = sig_z_area * b\n",
    "eps_top_solved = sp.solve(F_t - F_c, eps)[0] # TODO, this the positive solution, make sure you don't want the negative\n",
    "eps_top_solved"
   ]
  },
  {
   "cell_type": "code",
   "execution_count": null,
   "metadata": {},
   "outputs": [],
   "source": [
    "sig_c_eq = eq.args[1][0]\n",
    "f_c_max = sig_c_eq.subs({eps: eps_top_solved})\n",
    "psi_c = f_c_max/f_cm\n",
    "psi_c"
   ]
  },
  {
   "cell_type": "code",
   "execution_count": null,
   "metadata": {},
   "outputs": [],
   "source": [
    "# substitute factors in each others\n",
    "# convert factors list of tuples to list of lists so that expressions can be modified\n",
    "\n",
    "factors = [[symb, value] for (symb, value) in factors]\n",
    "for i in range(len(factors)):\n",
    "    factors[i][1] = factors[i][1].subs({symb:value for (symb, value) in factors})\n",
    "factors"
   ]
  },
  {
   "cell_type": "code",
   "execution_count": null,
   "metadata": {},
   "outputs": [],
   "source": [
    "psi_c = psi_c.subs({symb:value for (symb, value) in factors})\n",
    "psi_c = sp.simplify(psi_c)\n",
    "psi_c"
   ]
  },
  {
   "cell_type": "code",
   "execution_count": null,
   "metadata": {},
   "outputs": [],
   "source": [
    "psi_c_reduced = sp.cse(psi_c)\n",
    "psi_c_reduced[-1][0]"
   ]
  },
  {
   "cell_type": "code",
   "execution_count": null,
   "metadata": {},
   "outputs": [],
   "source": []
  },
  {
   "cell_type": "code",
   "execution_count": null,
   "metadata": {},
   "outputs": [],
   "source": []
  }
 ],
 "metadata": {
  "kernelspec": {
   "display_name": "Python 3 (ipykernel)",
   "language": "python",
   "name": "python3"
  },
  "language_info": {
   "codemirror_mode": {
    "name": "ipython",
    "version": 3
   },
   "file_extension": ".py",
   "mimetype": "text/x-python",
   "name": "python",
   "nbconvert_exporter": "python",
   "pygments_lexer": "ipython3"
  }
 },
 "nbformat": 4,
 "nbformat_minor": 4
}
