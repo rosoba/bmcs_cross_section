{
 "cells": [
  {
   "cell_type": "markdown",
   "metadata": {},
   "source": [
    "# M-Kappa Parametric Study"
   ]
  },
  {
   "cell_type": "code",
   "execution_count": null,
   "metadata": {},
   "outputs": [],
   "source": [
    "%matplotlib widget"
   ]
  },
  {
   "cell_type": "code",
   "execution_count": null,
   "metadata": {},
   "outputs": [],
   "source": [
    "from bmcs_cross_section.api import MKappa, TShape, MKappaParamsStudy, BarLayer\n",
    "import numpy as np\n",
    "import matplotlib.pyplot as plt\n",
    "import bmcs_utils.api as bu\n",
    "import pandas as pd"
   ]
  },
  {
   "cell_type": "markdown",
   "metadata": {},
   "source": [
    "## Verification with Von der Heid. et al. (2020), [link](https://www.heringinternational.com/fileadmin/media/archive1/downloads/architekturbeton/Bauingenieur_06_2020_S.210-219.pdf), Carbon reinforcement"
   ]
  },
  {
   "cell_type": "code",
   "execution_count": null,
   "metadata": {},
   "outputs": [],
   "source": [
    "# HB-SU-0-1 to HB-SU-0-6\n",
    "excel_file = './verification_data/Von_der_Heid_2020/fig.xlsx'\n",
    "data = pd.read_excel(excel_file, engine='openpyxl')\n",
    "k_data= [data['HB-SU-0-1_Curvature'], data['HB-SU-0-2_Curvature'], \n",
    "         data['HB-SU-0-3_Curvature'], data['HB-SU-0-4_Curvature'], \n",
    "         data['HB-SU-0-5_Curvature'], data['HB-SU-0-6_Curvature']]\n",
    "\n",
    "m_data= [data['HB-SU-0-1_Moment'], data['HB-SU-0-2_Moment'],\n",
    "         data['HB-SU-0-3_Moment'], data['HB-SU-0-4_Moment'],\n",
    "         data['HB-SU-0-5_Moment'], data['HB-SU-0-6_Moment']]\n",
    "\n",
    "# E = 35786.7\n",
    "E = 39500\n",
    "\n",
    "# from bending test from σ_c,Riss\n",
    "eps_cr = ((6.365 + 6.306 + 5.635 + 5.627 + 5.452 + 5.627)/6)/E\n",
    "\n",
    "mc = MKappa(low_kappa = 0,\n",
    "            high_kappa = 0.0007)\n",
    "\n",
    "            # E_cc = E,\n",
    "            # E_ct = E,\n",
    "            # eps_cr = eps_cr, # 0.000163\n",
    "            # eps_tu = 9.02/E, \n",
    "            # eps_cy = 72/E, # 0.0019 from EC2 for C60\n",
    "            # eps_cu = (72/E)*2, # 0.0029 from EC2 for C60\n",
    "            # mu = 0.0)\n",
    "\n",
    "mc.cross_section_shape_.B = 90\n",
    "mc.cross_section_shape_.H = 30\n",
    "bl1 = BarLayer(name='carbon', z=8, count=2)#, ds=1, eps_0 =  )\n",
    "#bl1.matmod_.trait_set(f_sy = 435, f_st = 435)\n",
    "mc.cross_section_layout.add_layer(bl1)\n",
    "\n",
    "# mc.cross_section_layout.reinforcement = [Reinforcement(eps_sy=2712/240000, E=240000, z=8, A=2*3.62),\n",
    "#                                          Reinforcement(eps_sy=2712/240000, E=240000, z=22, A=2*3.62),]\n",
    "\n",
    "mc.interact()"
   ]
  },
  {
   "cell_type": "code",
   "execution_count": null,
   "metadata": {},
   "outputs": [],
   "source": [
    "%matplotlib widget\n",
    "params_config = [\n",
    "        ['B',      mc.cross_section_shape_, [70, 90, 110]],\n",
    "        ['H',      mc.cross_section_shape_, [20, 30, 40]],\n",
    "        ['E_ct',   mc.cs_design.concrete.tension_, [35000, 39500]],\n",
    "        ['E_cc',   mc.cs_design.concrete.compression_, [35000, 39500]],\n",
    "#         ['eps_cr', mc, [0.0001, 0.000147, 0.0002]],\n",
    "#         ['eps_cy', mc, [0.0015, 0.00182, 0.002]],\n",
    "#         ['eps_cu', mc, [0.003, 0.0035, 0.004]],\n",
    "#         ['eps_tu', mc, [0.0001, 0.000228, 0.0004]],\n",
    "#         ['mu',     mc, [0, 1]],\n",
    "#         ['z',      mc.cross_section_layout.reinforcement[0], [1, 29]],\n",
    "#         ['A',      mc.cross_section_layout.reinforcement[0], [70.14, 2* 70.14]],\n",
    "#         ['E',      mc.cross_section_layout.reinforcement[0], [130000, 135121, 140000]],\n",
    "#         ['eps_sy', mc.cross_section_layout.reinforcement[0], [0.010, 0.014, 0.018]],\n",
    "#         ['n_kappa',mc, [10, 100, 1000]],\n",
    "]\n",
    "\n",
    "MKappaParamsStudy(mc).run(params_config, [k_data[0], m_data[0]])"
   ]
  },
  {
   "cell_type": "code",
   "execution_count": null,
   "metadata": {},
   "outputs": [],
   "source": []
  }
 ],
 "metadata": {
  "kernelspec": {
   "display_name": "bmcs_env2",
   "language": "python",
   "name": "python3"
  },
  "language_info": {
   "codemirror_mode": {
    "name": "ipython",
    "version": 3
   },
   "file_extension": ".py",
   "mimetype": "text/x-python",
   "name": "python",
   "nbconvert_exporter": "python",
   "pygments_lexer": "ipython3"
  }
 },
 "nbformat": 4,
 "nbformat_minor": 4
}
