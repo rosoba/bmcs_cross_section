{
 "cells": [
  {
   "cell_type": "markdown",
   "metadata": {},
   "source": [
    "# Moment-Curvature Verification\n",
    "This notebook is a verification report for the calculation of the Moment-Curvature with \"mkappa.py\" of the [bmcs_cross_section](https://github.com/bmcs-group/bmcs_cross_section) package.\n"
   ]
  },
  {
   "cell_type": "code",
   "execution_count": null,
   "metadata": {
    "pycharm": {
     "name": "#%%\n"
    }
   },
   "outputs": [],
   "source": [
    "%matplotlib widget\n",
    "from bmcs_cross_section.api import ReinfLayer, BarLayer, EC2, MKappa, TShape\n",
    "import bmcs_utils.api as bu\n",
    "import matplotlib.pyplot as plt\n",
    "from os.path import join\n",
    "import pandas as pd\n",
    "import numpy as np"
   ]
  },
  {
   "cell_type": "code",
   "execution_count": null,
   "metadata": {
    "pycharm": {
     "name": "#%%\n"
    }
   },
   "outputs": [],
   "source": [
    "bu.set_latex_mpl_format()\n",
    "plot_colors = bu.plot_colors\n",
    "\n",
    "def plot_mk_ver(mc, ver_data, test_name, title=None, ax=None, color_i=0):\n",
    "    if ax is None:\n",
    "        fig, ax = plt.subplots(figsize=(5, 5))\n",
    "    mc.plot_mk(ax, dashed=True, color=plot_colors[color_i])\n",
    "    k = ver_data[0]\n",
    "    m = ver_data[1]\n",
    "    ax.plot(k, m, c=plot_colors[color_i], label= 'Exp. (' + test_name + ')')\n",
    "    if title is not None:\n",
    "        ax.set_title(title)\n",
    "    ax.legend()\n",
    "    if 'fig' in locals():\n",
    "        return fig, ax\n",
    "\n",
    "def make_mc(form='rectangular', B=200, H=200, \n",
    "            material_r1='steel', E_r1=200000, high_kappa = 0.00005,\n",
    "            f_cm=40, matrix = 'EC2', eps_cr = None, eps_cy=None, eps_cu=None, eps_tu=None, mu=None, E_cc=None, E_ct=None,\n",
    "            f_ctm=None,\n",
    "            z_r1=10,\n",
    "            A_r1=100,\n",
    "            f_t_r1=None,\n",
    "            f_sy_r1=500,\n",
    "            f_st_r1=None,\n",
    "            eps_ud_r1=0.025,\n",
    "            material_r2=None, \n",
    "            z_r2=None, \n",
    "            A_r2=None,\n",
    "            E_r2=None,\n",
    "            f_t_r2=None,\n",
    "            f_sy_r2=None,\n",
    "            f_st_r2=None,\n",
    "            eps_ud_r2=0.025,\n",
    "            n_kappa=200, n_m = 200, slider=None):\n",
    "    \n",
    "    mc = MKappa(low_kappa=0, \n",
    "                high_kappa=high_kappa,\n",
    "                n_m=n_m,\n",
    "                n_kappa=n_kappa)\n",
    "    \n",
    "    mc.cs_design.matrix = matrix\n",
    "    if slider is not None:\n",
    "        mc.kappa_slider = slider\n",
    "    \n",
    "    if form=='rectangular':\n",
    "        mc.cross_section_shape_.B = B\n",
    "        mc.cross_section_shape_.H = H\n",
    "    \n",
    "    if matrix == 'piecewise linear':\n",
    "        mc.cs_design.matrix_.trait_set(\n",
    "        eps_cy = eps_cy,\n",
    "        eps_cu = eps_cu,\n",
    "    )\n",
    "    else:\n",
    "        mc.cs_design.matrix_.f_cm=f_cm\n",
    "        \n",
    "    if eps_tu is not None:\n",
    "        mc.cs_design.matrix_.eps_tu = eps_tu\n",
    "    if eps_cr is not None:\n",
    "        mc.cs_design.matrix_.eps_cr = eps_cr\n",
    "    if mu is not None:\n",
    "        mc.cs_design.matrix_.mu = mu\n",
    "    if E_cc is not None:\n",
    "        mc.cs_design.matrix_.E_cc = E_cc\n",
    "    if E_ct is not None:\n",
    "        mc.cs_design.matrix_.E_ct = E_ct\n",
    "    \n",
    "    bl1 = ReinfLayer(name='layer1', z=z_r1, A=A_r1, matmod=material_r1)\n",
    "    if material_r1 == 'carbon':\n",
    "        bl1.matmod_.trait_set(E=E_r1,f_t=f_t_r1)\n",
    "    if material_r1 == 'steel':\n",
    "        bl1.matmod_.trait_set(E_s=E_r1, f_sy=f_sy_r1, eps_ud = eps_ud_r1, f_st=1.05*f_sy_r1 if f_st_r1 is None else f_st_r1)\n",
    "    mc.cross_section_layout.add_layer(bl1)\n",
    "    \n",
    "    if material_r2 is not None:\n",
    "        bl2 = ReinfLayer(name='layer2', z=z_r2, A=A_r2, matmod=material_r2)\n",
    "        if material_r2 == 'carbon':\n",
    "            bl2.matmod_.trait_set(E=E_r2,f_t=f_t_r2)\n",
    "        if material_r2 == 'steel':\n",
    "            bl2.matmod_.trait_set(E_s=E_r2, f_sy=f_sy_r2, eps_ud = eps_ud_r2, f_st=1.05*f_sy_r2 if f_st_r2 is None else f_st_r2)\n",
    "        mc.cross_section_layout.add_layer(bl2)\n",
    "    \n",
    "    return mc\n",
    "\n",
    "def get_data(element1, xlsx_file, k, m, element2=False, k_faktor=False):\n",
    "    if element2 == False:\n",
    "        excel_file = join(element1, xlsx_file)\n",
    "    else: excel_file = join(element1, element2, xlsx_file)\n",
    "    data = pd.read_excel(excel_file, engine='openpyxl')\n",
    "    if(k_faktor==False):\n",
    "        k_faktor = 1\n",
    "    k = data[k]*k_faktor\n",
    "    m = data[m]\n",
    "    ver_data = [k, m]\n",
    "    \n",
    "    return ver_data"
   ]
  },
  {
   "cell_type": "markdown",
   "metadata": {},
   "source": [
    "## 1. Checking the model with its default parameters"
   ]
  },
  {
   "cell_type": "code",
   "execution_count": null,
   "metadata": {
    "pycharm": {
     "name": "#%%\n"
    }
   },
   "outputs": [],
   "source": [
    "mc = MKappa()\n",
    "bl1 = ReinfLayer(name='steel 1', z=10, A=100, count=2 )\n",
    "csl = mc.cross_section_layout\n",
    "csl.add_layer(bl1)"
   ]
  },
  {
   "cell_type": "code",
   "execution_count": null,
   "metadata": {},
   "outputs": [],
   "source": [
    "mc.interact()"
   ]
  },
  {
   "cell_type": "markdown",
   "metadata": {},
   "source": [
    "## 2. Model validation with experimental results"
   ]
  },
  {
   "cell_type": "markdown",
   "metadata": {},
   "source": [
    "### Rectangluar cross sections"
   ]
  },
  {
   "attachments": {
    "ver_rec_2.jpg": {
     "image/jpeg": "[encoded data removed]"
    }
   },
   "cell_type": "markdown",
   "metadata": {
    "pycharm": {
     "name": "#%% md\n"
    }
   },
   "source": [
    "### Gribniak et al. (2012) (FRC with Steel reinforcement), https://doi.org/10.1016/j.engstruct.2012.04.032\n",
    "![ver_rec_2.jpg](attachment:ver_rec_2.jpg)"
   ]
  },
  {
   "cell_type": "code",
   "execution_count": null,
   "metadata": {},
   "outputs": [],
   "source": [
    "# Beam S3-1-F15\n",
    "ver_data = get_data(element1='verification_data',\n",
    "                    xlsx_file='fig_6.xlsx',\n",
    "                    k='S3_1_F15_Curvature',\n",
    "                    m='S3_1_F15_Moment',\n",
    "                    element2='Gribniak2012')\n",
    "mc = make_mc(form='rectangular', high_kappa=12e-6, B=279, H=300,\n",
    "             mu=0.61, eps_cr=0.000132, eps_tu=0.0023,\n",
    "             f_cm=52.2,\n",
    "#              eps_cy=0.00175, eps_cu=0.0035, \n",
    "             material_r1='steel', z_r1=(300-272), A_r1=235, E_r1=202800, f_sy_r1=560,\n",
    "             material_r2='steel', z_r2=(300-26), A_r2=56, E_r2=202800, f_sy_r2=560)\n",
    "fig, ax = plot_mk_ver(mc, ver_data, r'$V_\\mathrm{f}$=1.5%, $\\rho$=0.3%', title='Gribniak et al. 2012', color_i=0)\n",
    "# mc.interact()"
   ]
  },
  {
   "cell_type": "code",
   "execution_count": null,
   "metadata": {},
   "outputs": [],
   "source": [
    "# Beam S3_1_F05\n",
    "ver_data = get_data(element1='./verification_data/Gribniak2012/', xlsx_file='fig_6.xlsx', k='S3_1_F05_Curvature', m='S3_1_F05_Moment')\n",
    "mc = make_mc(form='rectangular', high_kappa=14e-6, B=278, H=302,\n",
    "             mu=0.42, eps_cr=0.000132, eps_tu=0.0025,\n",
    "             f_cm=55.6,\n",
    "#              eps_cy=0.00175, eps_cu=0.0035, \n",
    "             material_r1='steel', z_r1=(302-278), A_r1=235, E_r1=202800, f_sy_r1=560,\n",
    "             material_r2='steel', z_r2=(302-29), A_r2=56, E_r2=202800, f_sy_r2=560)\n",
    "plot_mk_ver(mc, ver_data, r'$V_\\mathrm{f}$=0.5%, $\\rho$=0.3%', ax=ax, color_i=1)\n",
    "fig\n",
    "# mc.interact()"
   ]
  },
  {
   "cell_type": "code",
   "execution_count": null,
   "metadata": {},
   "outputs": [],
   "source": [
    "# fig.savefig('MK_Gribniak_S3-1-F15_S3-1-F05.pdf')"
   ]
  },
  {
   "attachments": {
    "yang_2010.jpg": {
     "image/jpeg": "[encoded data removed]"
    }
   },
   "cell_type": "markdown",
   "metadata": {},
   "source": [
    "### Yang et al. (2010) (FRC with steel reinforcement), http://dx.doi.org/10.1016/j.engstruct.2010.07.017\n",
    "![yang_2010.jpg](attachment:yang_2010.jpg)"
   ]
  },
  {
   "cell_type": "code",
   "execution_count": null,
   "metadata": {},
   "outputs": [],
   "source": [
    "# R12-1,2 (rho = 0.6%)\n",
    "ver_data = get_data(element1='./verification_data/yang2010', element2='fig_18', xlsx_file='yang2010.xlsx', k='beam_R12_2_Curvature', m='beam_R12_2_Moment')\n",
    "mc = make_mc(\n",
    "            form='rectangular', high_kappa=0.00005, B=180, H=270,\n",
    "            matrix='piecewise linear',\n",
    "            E_cc=46418, E_ct=46418,\n",
    "            mu=0.55,\n",
    "            eps_cr=0.000384,\n",
    "            eps_tu = 24 * 0.000384,\n",
    "            eps_cy = 190.9/46418,\n",
    "            eps_cu = EC2.get_eps_cu3(190.9-8),\n",
    "            material_r1='steel', z_r1=35, A_r1=253.4, E_r1=200000, f_sy_r1=600,\n",
    "            )\n",
    "fig, ax = plot_mk_ver(mc, ver_data, r'$V_\\mathrm{f}$=2%, $\\rho$=0.6%', title='Yang et al. 2010', color_i=0)\n",
    "fig.show()\n",
    "# mc.interact()"
   ]
  },
  {
   "cell_type": "code",
   "execution_count": null,
   "metadata": {
    "pycharm": {
     "name": "#%%\n"
    }
   },
   "outputs": [],
   "source": [
    "# R13-2 (rho = 0.9%)\n",
    "ver_data = get_data(element1='./verification_data/yang2010', element2='fig_18', xlsx_file='yang2010.xlsx', k='beam_R13_2_Curvature', m='beam_R13_2_Moment')\n",
    "mc = make_mc(form='rectangular', high_kappa=0.00005, B=180, H=270,\n",
    "            matrix='piecewise linear',\n",
    "            E_cc=46680, E_ct=46680,\n",
    "            mu=0.55,\n",
    "            eps_cr=0.000384,\n",
    "            eps_tu = 24 * 0.000384,\n",
    "            eps_cy = 192.2/46680,\n",
    "            eps_cu = EC2.get_eps_cu3(192.2-8),\n",
    "            material_r1='steel', z_r1=35, A_r1=380.1, E_r1=200000, f_sy_r1=600,\n",
    "            )\n",
    "plot_mk_ver(mc, ver_data, r'$V_\\mathrm{f}$=2%, $\\rho$=0.9%', ax=ax, color_i=1)\n",
    "fig\n",
    "# mc.interact()"
   ]
  },
  {
   "cell_type": "code",
   "execution_count": null,
   "metadata": {},
   "outputs": [],
   "source": [
    "fig.savefig('MK_Yang_R12-1_R13-2.pdf')"
   ]
  },
  {
   "cell_type": "markdown",
   "metadata": {},
   "source": [
    "### Aiello 2002 (rect. cross-section, hybrid reinf.)  - skipped!\n",
    "https://www.researchgate.net/publication/248879121_Structural_Performances_of_Concrete_Beams_with_Hybrid_Fiber-Reinforced_Polymer-Steel_Reinforcements"
   ]
  },
  {
   "cell_type": "code",
   "execution_count": null,
   "metadata": {},
   "outputs": [],
   "source": [
    "# A1 (Steel + AFRP):\n",
    "ver_data = get_data(element1='./verification_data/Aiello2002', xlsx_file='fig_3.xlsx', k='A1_Curvature', m='A1_Moment')\n",
    "mc = make_mc(form='rectangular', high_kappa=0.0002, B=150, H=200,\n",
    "             eps_cy=None, eps_cu=None, eps_tu=None,\n",
    "             f_cm=45.7,\n",
    "             eps_cr=4.03/EC2.get_E_cm(45.7-8),\n",
    "            material_r1='steel',\n",
    "             material_r2 = 'steel',\n",
    "             A_r1 = 100.48, E_r1 = 200000, z_r1=50, f_sy_r1=465,\n",
    "             A_r2 = 100.48,  E_r2 = 200000, z_r2=200-25, f_sy_r2=465\n",
    "            )\n",
    "\n",
    "l1 = ReinfLayer(name='carbon', z=25, A=88.31, matmod='carbon')\n",
    "l1.matmod_.trait_set(E=49000, f_t=1674)\n",
    "mc.cross_section_layout.add_layer(l1)\n",
    "\n",
    "fig, ax = plot_mk_ver(mc, ver_data, r'A1 - Hybrid reinf. [Steel + AFRP]', title='Aiello et. al. 2002', color_i=0)\n",
    "# mc.interact()"
   ]
  },
  {
   "cell_type": "code",
   "execution_count": null,
   "metadata": {},
   "outputs": [],
   "source": [
    "# A2:\n",
    "ver_data = get_data(element1='./verification_data/Aiello2002', xlsx_file='fig_3.xlsx', k='A2_Curvature', m='A2_Moment')\n",
    "mc = make_mc(form='rectangular', high_kappa=0.0002, B=150, H=200,\n",
    "             eps_cy=None, eps_cu=None, eps_tu=None,\n",
    "             f_cm=45.7,\n",
    "             eps_cr=4.03/EC2.get_E_cm(45.7-8),\n",
    "            material_r1='steel',\n",
    "             material_r2 = 'steel',\n",
    "             A_r1 = 100.48, E_r1 = 200000, z_r1=50, f_sy_r1=465,\n",
    "             A_r2 = 100.48,  E_r2 = 200000, z_r2=200-25, f_sy_r2=465\n",
    "            )\n",
    "\n",
    "l1 = ReinfLayer(name='carbon', z=25, A=157, matmod='carbon')\n",
    "l1.matmod_.trait_set(E=50100, f_t=1366)\n",
    "mc.cross_section_layout.add_layer(l1)\n",
    "\n",
    "plot_mk_ver(mc, ver_data, r'A2 - Hybrid reinf. [Steel + AFRP]', ax=ax, color_i=1)\n",
    "fig\n",
    "# mc.interact()"
   ]
  },
  {
   "cell_type": "code",
   "execution_count": null,
   "metadata": {},
   "outputs": [],
   "source": [
    "# B2:\n",
    "ver_data = get_data(element1='./verification_data/Aiello2002', xlsx_file='fig_3.xlsx', k='B2_Curvature', m='B2_Moment')\n",
    "mc = make_mc(form='rectangular', high_kappa=0.0003, B=150, H=200,\n",
    "             eps_cy=None, eps_cu=None, eps_tu=None,\n",
    "             f_cm=45.7,\n",
    "             eps_cr=4.03/EC2.get_E_cm(45.7-8),\n",
    "            material_r1='carbon',\n",
    "             material_r2 = 'steel',\n",
    "             A_r1 = 88.31, E_r1 = 49000, z_r1=25, f_t_r1=1674,\n",
    "             A_r2 = 100.48,  E_r2 = 200000, z_r2=200-25, f_sy_r2=465\n",
    "            )\n",
    "plot_mk_ver(mc, ver_data, 'Aiello et. al. (2002) B2')\n",
    "mc.interact()"
   ]
  },
  {
   "cell_type": "code",
   "execution_count": null,
   "metadata": {},
   "outputs": [],
   "source": [
    "# B1:\n",
    "ver_data = get_data(element1='./verification_data/Aiello2002', xlsx_file='fig_3.xlsx', k='B1_Curvature', m='B1_Moment')\n",
    "mc = make_mc(form='rectangular', high_kappa=0.0003, B=150, H=200,\n",
    "             eps_cy=None, eps_cu=None, eps_tu=None,\n",
    "             f_cm=45.7,\n",
    "            material_r1='steel',\n",
    "             material_r2 = 'steel',\n",
    "             A_r1 = 226.08, E_r1 = 200000, z_r1=25, f_sy_r1=465,\n",
    "             A_r2 = 100.48,  E_r2 = 200000, z_r2=200-25, f_sy_r2=465\n",
    "            )\n",
    "plot_mk_ver(mc, ver_data, 'Almusallam (1997) Group 2')\n",
    "mc.interact()"
   ]
  },
  {
   "cell_type": "markdown",
   "metadata": {},
   "source": [
    "###  Almusallam1997 (Steel, GFRP) https://journals.sagepub.com/doi/pdf/10.1177/002199839703100701"
   ]
  },
  {
   "cell_type": "code",
   "execution_count": null,
   "metadata": {},
   "outputs": [],
   "source": [
    "# Group 1 (Steel):\n",
    "ver_data = get_data(element1='./verification_data/Almusallam1997', xlsx_file='fig_9_10_11.xlsx', k='Group_1_Curvature', m='Group_1_Moment')\n",
    "mc = make_mc(form='rectangular', high_kappa=0.000065, B=200, H=210,\n",
    "             eps_cy=None, eps_cu=None, eps_tu=None,\n",
    "             f_cm=31.3,\n",
    "            material_r1='steel',\n",
    "             material_r2 = 'steel',\n",
    "             A_r1 = 3*np.pi*7**2, E_r1 = 200000, z_r1=50, f_sy_r1=553,\n",
    "             A_r2 = 1*np.pi*(6.25/2)**2,  E_r2 = 200000, z_r2=210-50, f_sy_r2=553\n",
    "            )\n",
    "fig, ax = plot_mk_ver(mc, ver_data, r'Group 1 - Steel', title='Almusallam 1997', color_i=0)\n",
    "# mc.interact()"
   ]
  },
  {
   "cell_type": "code",
   "execution_count": null,
   "metadata": {},
   "outputs": [],
   "source": [
    "# Group 2 (GFRP):\n",
    "ver_data = get_data(element1='./verification_data/Almusallam1997', xlsx_file='fig_9_10_11.xlsx', k='Group_2_Curvature', m='Group_2_Moment')\n",
    "mc = make_mc(form='rectangular', high_kappa=0.000066, B=200, H=210,\n",
    "             eps_cy=None, eps_cu=None, eps_tu=None,\n",
    "             f_cm=31.3,\n",
    "            material_r1='carbon',\n",
    "             material_r2 = 'steel',\n",
    "             A_r1 = 4*np.pi*(19/2)**2, E_r1 = 35630, z_r1=210-158, f_t_r1=700,\n",
    "             A_r2 = 1*np.pi*(6.25/2)**2,  E_r2 = 200000, z_r2=210-50, f_sy_r2=553\n",
    "            )\n",
    "plot_mk_ver(mc, ver_data, r'Group 2 - GFRP', ax=ax, color_i=1)\n",
    "fig\n",
    "# mc.interact()"
   ]
  },
  {
   "cell_type": "code",
   "execution_count": null,
   "metadata": {},
   "outputs": [],
   "source": [
    "# Group 3 (GFRP):\n",
    "ver_data = get_data(element1='./verification_data/Almusallam1997', xlsx_file='fig_9_10_11.xlsx', k='Group_3_Curvature', m='Group_3_Moment')\n",
    "mc = make_mc(form='rectangular', high_kappa=0.00007, B=200, H=260,\n",
    "             eps_cy=None, eps_cu=None, eps_tu=None,\n",
    "             f_cm=31.3,\n",
    "            material_r1='carbon',\n",
    "             material_r2 = 'steel',\n",
    "             A_r1 = 4*np.pi*(12.7/2)**2, E_r1 = 43370, z_r1=260-211, f_t_r1=886,\n",
    "             A_r2 = 1*np.pi*(6.25/2)**2,  E_r2 = 200000, z_r2=210-50, f_sy_r2=553\n",
    "            )\n",
    "plot_mk_ver(mc, ver_data, r'Group 3 - GFRP', ax=ax, color_i=2)\n",
    "fig\n",
    "# mc.interact()"
   ]
  },
  {
   "cell_type": "code",
   "execution_count": null,
   "metadata": {},
   "outputs": [],
   "source": [
    "# fig.savefig('MK_Almusallam1997.pdf')"
   ]
  },
  {
   "cell_type": "markdown",
   "metadata": {},
   "source": [
    "### Bazan2020 (Steel reinf. strengthened with CFRP sheet )"
   ]
  },
  {
   "cell_type": "code",
   "execution_count": null,
   "metadata": {},
   "outputs": [],
   "source": [
    "# SC-01:\n",
    "ver_data = get_data(element1='./verification_data/Bazan2020', xlsx_file='fig_7.xlsx', k='SC-01_Curvature', m='SC-01_Moment')\n",
    "mc = make_mc(form='rectangular', high_kappa=0.000037, B=200, H=400,\n",
    "             eps_cy=None, eps_cu=None, eps_tu=None,\n",
    "             f_cm=30,\n",
    "            material_r1='steel',\n",
    "             material_r2 = 'steel',\n",
    "             A_r1 = 3*np.pi*(16/2)**2, E_r1 = 200000, z_r1=400-342, f_sy_r1=500, # f_sy =420 acc. to paper\n",
    "             A_r2 = 2*np.pi*(8/2)**2,  E_r2 = 200000, z_r2=342, f_sy_r2=500\n",
    "             \n",
    "            )\n",
    "l1 = ReinfLayer(name='carbon', z=0, A=200, matmod='carbon')\n",
    "l1.matmod_.trait_set(E=95800,f_t=985)\n",
    "mc.cross_section_layout.add_layer(l1)\n",
    "\n",
    "fig, ax = plot_mk_ver(mc, ver_data, 'SC-01 - [Steel + CFRP]', title='Bazan et al. 2020', color_i=0)\n",
    "# mc.interact()"
   ]
  },
  {
   "cell_type": "code",
   "execution_count": null,
   "metadata": {},
   "outputs": [],
   "source": [
    "# SC-02:\n",
    "ver_data = get_data(element1='./verification_data/Bazan2020', xlsx_file='fig_7.xlsx', k='SC-02_Curvature', m='SC-02_Moment')\n",
    "mc = make_mc(form='rectangular', high_kappa=0.000037, B=200, H=400,\n",
    "             eps_cy=None, eps_cu=None, eps_tu=None,\n",
    "             f_cm=30,\n",
    "            material_r1='steel',\n",
    "             material_r2 = 'steel',\n",
    "             A_r1 = 4*np.pi*(16/2)**2 + 1*np.pi*(12/2)**2, E_r1 = 200000, z_r1=400-329, f_sy_r1=500, # f_sy =420 acc. to paper\n",
    "             A_r2 = 2*np.pi*(8/2)**2,  E_r2 = 200000, z_r2=329, f_sy_r2=500\n",
    "            )\n",
    "l1 = ReinfLayer(name='carbon', z=0, A=200, matmod='carbon')\n",
    "l1.matmod_.trait_set(E=95800,f_t=985)\n",
    "mc.cross_section_layout.add_layer(l1)\n",
    "\n",
    "plot_mk_ver(mc, ver_data, 'SC-02 - [Steel + CFRP]', ax=ax, color_i=1)\n",
    "fig\n",
    "# mc.interact()"
   ]
  },
  {
   "cell_type": "code",
   "execution_count": null,
   "metadata": {},
   "outputs": [],
   "source": [
    "# fig.savefig('MK_Bazan2020.pdf')"
   ]
  },
  {
   "cell_type": "markdown",
   "metadata": {
    "pycharm": {
     "name": "#%% md\n"
    }
   },
   "source": [
    "### Verification with T-sections"
   ]
  },
  {
   "cell_type": "markdown",
   "metadata": {},
   "source": [
    "### Joshi 2018\n",
    "http://dx.doi.org/10.15224/978-1-63248-079-8-50, Steel reinforcement"
   ]
  },
  {
   "cell_type": "code",
   "execution_count": null,
   "metadata": {},
   "outputs": [],
   "source": [
    "# Beam: 1S5R12\n",
    "\n",
    "mc = make_mc(high_kappa=0.00007, eps_cy=None, eps_cu=None, eps_tu=None,\n",
    "             f_cm=25,\n",
    "             material_r1='steel',\n",
    "             A_r1 = 3*np.pi*(12/2)**2,  E_r1 = 200000, z_r1=40, f_sy_r1=500,\n",
    "             A_r2 = 1*np.pi*(10/2)**2,  E_r2 = 200000, z_r2=174-40, f_sy_r2=500,\n",
    "            )\n",
    "mc.cross_section_shape = 'T-shape'\n",
    "mc.cross_section_shape_.B_f = 770\n",
    "mc.cross_section_shape_.B_w = 230\n",
    "mc.cross_section_shape_.H = 174\n",
    "mc.cross_section_shape_.H_w = 174-50\n",
    "\n",
    "mc.interact()"
   ]
  },
  {
   "cell_type": "markdown",
   "metadata": {},
   "source": [
    "### Qiu et al. (2020)\n",
    "https://doi.org/10.1186/s40069-019-0380-x, Steel reinforcement"
   ]
  },
  {
   "cell_type": "code",
   "execution_count": null,
   "metadata": {},
   "outputs": [],
   "source": [
    "# B-S65-20:\n",
    "ver_data = get_data(element1='./verification_data/yao20_yao_mobasher/table_4', xlsx_file='qui20.xlsx', k='B-S65-20_k', m='B-S65-20_m', k_faktor=1e-6)\n",
    "mc = make_mc(form='rectangular', high_kappa=0.0003, B=200, H=220,\n",
    "             eps_tu=0.0015,\n",
    "             eps_cr=0.00018,\n",
    "             mu=0.9,\n",
    "#              f_cm=131.6,\n",
    "#              eps_cy=None,\n",
    "#              eps_cu=None, \n",
    "             eps_cy = 131.6/44000,\n",
    "             eps_cu = EC2.get_eps_cu3(131.6-8),\n",
    "             matrix = 'piecewise linear',\n",
    "             \n",
    "             E_cc=44000, E_ct=44000,\n",
    "             material_r1='steel',\n",
    "             material_r2 = 'steel',\n",
    "             A_r1 = 3*np.pi*(20/2)**2, E_r1 = 200000, z_r1=35, f_sy_r1=460, f_st_r1=583,\n",
    "             A_r2 = 4*np.pi*(20/2)**2,  E_r2 = 200000, z_r2=220-35, f_sy_r2=460, f_st_r2=583,\n",
    "            )\n",
    "mc.cross_section_layout.items[0].matmod_.eps_ud = 0.265\n",
    "mc.cross_section_layout.items[1].matmod_.eps_ud = 0.265\n",
    "mc.cross_section_shape = 'T-shape'\n",
    "mc.cross_section_shape_.B_f = 700\n",
    "mc.cross_section_shape_.B_w = 190\n",
    "mc.cross_section_shape_.H = 220\n",
    "mc.cross_section_shape_.H_w = 140\n",
    "\n",
    "plot_mk_ver(mc, ver_data, 'B-S65-20')\n",
    "mc.interact()"
   ]
  },
  {
   "cell_type": "code",
   "execution_count": null,
   "metadata": {},
   "outputs": [],
   "source": [
    "# B-S65-16:\n",
    "ver_data = get_data(element1='./verification_data/yao20_yao_mobasher/table_4', xlsx_file='qui20.xlsx', k='B-S65-16_k', m='B-S65-16_m', k_faktor=1e-6)\n",
    "mc = make_mc(form='rectangular', high_kappa=0.0002, B=200, H=220,\n",
    "             eps_tu=0.0015,\n",
    "             eps_cr=0.0004,\n",
    "             mu=0.5,\n",
    "#              f_cm=131.6,\n",
    "#              eps_cy=None,\n",
    "#              eps_cu=None, \n",
    "             eps_cy = 131.6/44000,\n",
    "             eps_cu = EC2.get_eps_cu3(131.6-8),\n",
    "             matrix = 'piecewise linear',\n",
    "             \n",
    "             E_cc=44000, E_ct=44000,\n",
    "             material_r1='steel',\n",
    "             material_r2 = 'steel',\n",
    "             A_r1 = 3*np.pi*(16/2)**2, E_r1 = 200000, z_r1=35, f_sy_r1=412, f_st_r1=519,\n",
    "             A_r2 = 4*np.pi*(16/2)**2,  E_r2 = 200000, z_r2=220-35, f_sy_r2=412, f_st_r2=519,\n",
    "            )\n",
    "mc.cross_section_layout.items[0].matmod_.eps_ud = 0.023\n",
    "mc.cross_section_layout.items[1].matmod_.eps_ud = 0.023\n",
    "mc.cross_section_shape = 'T-shape'\n",
    "mc.cross_section_shape_.B_f = 700\n",
    "mc.cross_section_shape_.B_w = 190\n",
    "mc.cross_section_shape_.H = 220\n",
    "mc.cross_section_shape_.H_w = 140\n",
    "\n",
    "            # Not sure where beta_tu is from, all other values match Mobasher\n",
    "            # E = 46680, according to Yang paper, according to Mobasher 45500\n",
    "plot_mk_ver(mc, ver_data, 'Almusallam (1997) Group 3')\n",
    "mc.interact()"
   ]
  },
  {
   "cell_type": "code",
   "execution_count": null,
   "metadata": {},
   "outputs": [],
   "source": []
  }
 ],
 "metadata": {
  "kernelspec": {
   "display_name": "Python 3 (ipykernel)",
   "language": "python",
   "name": "python3"
  },
  "language_info": {
   "codemirror_mode": {
    "name": "ipython",
    "version": 3
   },
   "file_extension": ".py",
   "mimetype": "text/x-python",
   "name": "python",
   "nbconvert_exporter": "python",
   "pygments_lexer": "ipython3"
  },
  "toc": {
   "base_numbering": 1,
   "nav_menu": {},
   "number_sections": true,
   "sideBar": true,
   "skip_h1_title": true,
   "title_cell": "Table of Contents",
   "title_sidebar": "Contents",
   "toc_cell": false,
   "toc_position": {},
   "toc_section_display": true,
   "toc_window_display": false
  }
 },
 "nbformat": 4,
 "nbformat_minor": 1
}
