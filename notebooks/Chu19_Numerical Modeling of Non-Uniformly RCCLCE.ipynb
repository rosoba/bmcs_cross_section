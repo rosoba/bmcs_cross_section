{
 "cells": [
  {
   "cell_type": "markdown",
   "metadata": {},
   "source": [
    "# Numerical Modeling of Non-Uniformly Reinforced Carbon Concrete Lightweight Ceiling Elements"
   ]
  },
  {
   "cell_type": "markdown",
   "metadata": {},
   "source": [
    "This notebook presents equations in the : \"Numerical Modeling of Non-Uniformly Reinforced\n",
    "Carbon Concrete Lightweight Ceiling Elements\" by Rostislav Chudoba, Ehsan Sharei, Tilo Senckpiel-Peters and Frank Schladitz\n",
    "\n",
    "https://doi.org/10.3390/app9112348"
   ]
  },
  {
   "cell_type": "markdown",
   "metadata": {},
   "source": [
    "The paper focuses on the specifics of macro-scale modeling of thin-walled textile-reinforced concrete shells. Application of layered shell finite elements requires systematic procedures for\n",
    "identification of material characteristics associated with the individual layers within the cross section. The identification of the material parameters describing the tensile behavior of a composite cross section is done using data obtained from the tensile test. Such test is usually performed only for a reference configurations with a simple layup of fabrics and a chosen thickness. The question is how to derive the strain-hardening response from the tensile test that is relevant for a changed cross-sectional configuration. We describe and discuss scaling and mixture rules that can be used to modify the material parameters for modified cross-sectional layups. The rules are examined in the context of the test results obtained on a shell that was reinforced non-uniformly, with varying types of textile\n",
    "fabrics and varying thickness within the shell surface."
   ]
  },
  {
   "cell_type": "code",
   "execution_count": null,
   "metadata": {
    "pycharm": {
     "name": "#%%\n"
    }
   },
   "outputs": [],
   "source": [
    "%matplotlib inline\n",
    "import matplotlib.pyplot as plt\n",
    "import numpy as np\n",
    "import sympy as sp"
   ]
  },
  {
   "cell_type": "markdown",
   "metadata": {},
   "source": [
    "#### 3.2. Calibration of a Smeared Cross Section Model Using a Tensile Test"
   ]
  },
  {
   "cell_type": "markdown",
   "metadata": {},
   "source": [
    "##### eq 1: "
   ]
  },
  {
   "cell_type": "markdown",
   "metadata": {},
   "source": [
    "$$\\rho^\\mathrm{test}  = a_\\mathrm{f} / d^\\mathrm{test}$$"
   ]
  },
  {
   "cell_type": "markdown",
   "metadata": {},
   "source": [
    "| Symbol | Unit | Description\n",
    "| :-: | :-: | :- |\n",
    "| $\\rho^\\mathrm{test}$ | % | Reinforcement ratio|\n",
    "| $a_\\mathrm{f}$ | $\\frac{m^{2}}{m}$ | Fabric area per unit width |\n",
    "| $d^\\mathrm{test}$ | m | Cross-sectional thickness |"
   ]
  },
  {
   "cell_type": "code",
   "execution_count": null,
   "metadata": {
    "pycharm": {
     "name": "#%%\n"
    }
   },
   "outputs": [],
   "source": [
    "def get_rho_test(a_f, d_test):\n",
    "    rho_test = np.divide(a_f, d_test) \n",
    "    return rho_test"
   ]
  },
  {
   "cell_type": "code",
   "execution_count": null,
   "metadata": {},
   "outputs": [],
   "source": [
    "a_f = [0.616e-4, 1.713e-4]\n",
    "d_test = 0.01\n",
    "rho_test = get_rho_test(a_f,d_test)\n",
    "rho_test"
   ]
  },
  {
   "cell_type": "markdown",
   "metadata": {},
   "source": [
    "### 4. Resolved Model of a Cross Section"
   ]
  },
  {
   "cell_type": "markdown",
   "metadata": {},
   "source": [
    "#### 4.1. Decomposition of the Composite Stress"
   ]
  },
  {
   "cell_type": "markdown",
   "metadata": {},
   "source": [
    "##### eq 2:"
   ]
  },
  {
   "cell_type": "markdown",
   "metadata": {},
   "source": [
    "$$\\sigma^\\mathrm{test}_\\mathrm{c}  = \\sigma^\\mathrm{test}_\\mathrm{cf} + \\sigma^\\mathrm{test}_\\mathrm{cm} = \\rho^\\mathrm{test}  \\sigma_\\mathrm{f} +  (1-\\rho^\\mathrm{test})  \\sigma_\\mathrm{m}$$"
   ]
  },
  {
   "cell_type": "markdown",
   "metadata": {},
   "source": [
    "| Symbol | Unit | Description\n",
    "| :-: | :-: | :- |\n",
    "| $\\sigma^\\mathrm{test}_\\mathrm{c}$ | MPa | Stress of composite related to the unit area of the composite |\n",
    "| $\\sigma^\\mathrm{test}_\\mathrm{cf}$ | MPa | Stress of fiber related to the unit area of the composite |\n",
    "| $\\sigma^\\mathrm{test}_\\mathrm{cm}$ | MPa | Stress of matrix related to the unit area of the composite |\n",
    "| $\\rho^\\mathrm{test}$ | % | Reinforcement ratio|\n",
    "| $\\sigma_\\mathrm{f}$ | MPa | Stress of fiber related to the area of the of fabrics |\n",
    "| $\\sigma_\\mathrm{m}$ | MPa | Stress of matrix related to the area of the of matrix |"
   ]
  },
  {
   "cell_type": "code",
   "execution_count": null,
   "metadata": {
    "pycharm": {
     "name": "#%%\n"
    }
   },
   "outputs": [],
   "source": [
    "def get_sig_test_c(rho_test, sig_m, sig_f):   \n",
    "    sig_test_cm = (1 - rho_test) * np.array(sig_m)\n",
    "    sig_test_cf = rho_test * np.array(sig_f)\n",
    "    sig_test_c = sig_test_cf + sig_test_cm\n",
    "    return sig_test_c, sig_test_cm, sig_test_cf"
   ]
  },
  {
   "cell_type": "code",
   "execution_count": null,
   "metadata": {},
   "outputs": [],
   "source": [
    "sig_m = [0,20]\n",
    "sig_f = [0,200]\n",
    "sig_test_c, sig_test_cm, sig_test_cf = get_sig_test_c(rho_test[0], sig_m, sig_f)\n",
    "sig_test_c, sig_test_cm, sig_test_cf"
   ]
  },
  {
   "cell_type": "markdown",
   "metadata": {},
   "source": [
    "##### eq 3: "
   ]
  },
  {
   "cell_type": "markdown",
   "metadata": {},
   "source": [
    "$$\\sigma_\\mathrm{f} =  E^\\mathrm{yarn}_\\mathrm{f}\\varepsilon_\\mathrm{c}$$\n",
    "\n",
    "$$\\sigma^\\mathrm{test}_\\mathrm{cf}(\\varepsilon_\\mathrm{c})  = \\rho^\\mathrm{test}  E^\\mathrm{yarn}_\\mathrm{f}\\varepsilon_\\mathrm{c}$$"
   ]
  },
  {
   "cell_type": "markdown",
   "metadata": {},
   "source": [
    "| Symbol | Unit | Description\n",
    "| :-: | :-: | :- |\n",
    "| $\\sigma_\\mathrm{cf}$ | MPa | Stress of fiber related to the area of the of fabrics |\n",
    "| $\\sigma^\\mathrm{test}_\\mathrm{cf}$ | MPa | Stress of fiber related to the unit area of the fa |\n",
    "| $\\varepsilon_\\mathrm{c}$ | - | Strain of the composite |\n",
    "| $\\rho^\\mathrm{test}$ | % | Reinforcement ratio|\n",
    "| $E^\\mathrm{yarn}_\\mathrm{f}$ | MPa | Elasticity modulus of the fiber determined in a yarn tensile test|"
   ]
  },
  {
   "cell_type": "code",
   "execution_count": null,
   "metadata": {
    "pycharm": {
     "name": "#%%\n"
    }
   },
   "outputs": [],
   "source": [
    "def get_sig_test_cf(E_yarn_f, eps_c, rho_test):\n",
    "    sig_f = np.array(E_yarn_f) * np.array(eps_c)\n",
    "    sig_test_cf = rho_test * sig_f\n",
    "    return sig_test_cf, sig_f"
   ]
  },
  {
   "cell_type": "code",
   "execution_count": null,
   "metadata": {
    "pycharm": {
     "name": "#%%\n"
    }
   },
   "outputs": [],
   "source": [
    "E_yarn_f = [300e3, 200e3] # MPa\n",
    "eps_c = 0.003\n",
    "sig_test_cf, sig_f = get_sig_test_cf(E_yarn_f, eps_c, rho_test)\n",
    "sig_test_cf, sig_f"
   ]
  },
  {
   "cell_type": "markdown",
   "metadata": {},
   "source": [
    "##### eq 3-1:"
   ]
  },
  {
   "cell_type": "markdown",
   "metadata": {},
   "source": [
    "$$E^\\mathrm{test}_\\mathrm{f} = E^\\mathrm{test}_\\mathrm{cf} /  \\rho^\\mathrm{test}$$"
   ]
  },
  {
   "cell_type": "markdown",
   "metadata": {
    "pycharm": {
     "name": "#%% md\n"
    }
   },
   "source": [
    "| Symbol | Unit | Description\n",
    "| :-: | :-: | :- |\n",
    "| $E^\\mathrm{test}_\\mathrm{f}$ | MPa | Effective fabric stffness |\n",
    "| $E^\\mathrm{test}_\\mathrm{cf}$ | MPa | Final comosite stifness|\n",
    "| $\\rho^\\mathrm{test}$ | % | Reinforcement ratio|"
   ]
  },
  {
   "cell_type": "code",
   "execution_count": null,
   "metadata": {
    "pycharm": {
     "name": "#%%\n"
    }
   },
   "outputs": [],
   "source": [
    "def get_E_test_f(E_test_cf, rho_test):   \n",
    "    E_test_f = E_test_cf / rho_test\n",
    "    return E_test_f"
   ]
  },
  {
   "cell_type": "code",
   "execution_count": null,
   "metadata": {
    "pycharm": {
     "name": "#%%\n"
    }
   },
   "outputs": [],
   "source": [
    "E_test_cf = [1.48e3, 3.22e3]\n",
    "get_E_test_f(E_test_cf, rho_test)"
   ]
  },
  {
   "cell_type": "markdown",
   "metadata": {},
   "source": [
    "##### eq 4:"
   ]
  },
  {
   "cell_type": "markdown",
   "metadata": {
    "pycharm": {
     "name": "#%% md\n"
    }
   },
   "source": [
    "$$\\sigma^\\mathrm{test}_\\mathrm{cm}(\\varepsilon_\\mathrm{c})  = \\sigma^\\mathrm{test}_\\mathrm{c}(\\varepsilon_\\mathrm{c}) - \\sigma^\\mathrm{test}_\\mathrm{cf}(\\varepsilon_\\mathrm{c})$$"
   ]
  },
  {
   "cell_type": "markdown",
   "metadata": {},
   "source": [
    "| Symbol | Unit | Description\n",
    "| :-: | :-: | :- |\n",
    "| $\\sigma^\\mathrm{test}_\\mathrm{cm}$ | MPa | Stress of matrix related to the unit area of the composite |\n",
    "| $\\sigma^\\mathrm{test}_\\mathrm{c}$ | MPa | Stress of composite |\n",
    "| $\\sigma^\\mathrm{test}_\\mathrm{cf}$ | MPa | Stress of fiber related to the unit area of the composite |\n",
    "| $\\varepsilon_\\mathrm{c}$ | - | Strain of the composite |"
   ]
  },
  {
   "cell_type": "code",
   "execution_count": null,
   "metadata": {
    "pycharm": {
     "name": "#%%\n"
    }
   },
   "outputs": [],
   "source": [
    "def get_sig_test_cm(sig_test_c, sig_test_cf):   \n",
    "    sig_test_cm = sig_test_c - sig_test_cf\n",
    "    return sig_test_cm"
   ]
  },
  {
   "cell_type": "code",
   "execution_count": null,
   "metadata": {
    "pycharm": {
     "name": "#%%\n"
    }
   },
   "outputs": [],
   "source": [
    "sig_test_cm = get_sig_test_cm(sig_test_c, sig_test_cf)\n",
    "sig_test_cm"
   ]
  },
  {
   "cell_type": "markdown",
   "metadata": {},
   "source": [
    "#### 4.2. Mixture Rule for Hybrid Fabric Reinforcement\n"
   ]
  },
  {
   "cell_type": "markdown",
   "metadata": {},
   "source": [
    "To combine the behavior of the fabrics in a hybrid cross\n",
    "section, the composite stress of each test j must first be decomposed using the procedure described in\n",
    "Section 4.1 into the fractions associated with fabrics and matrix (sf(j), sm(j)). Then, the fabrics stresses sf(j)\n",
    "can be mixed into a single hybrid reinforcement layer using the area fractions of each reinforcement\n",
    "type in the total reinforcement area a¯f = ∑mj af(j) with the weight factors"
   ]
  },
  {
   "cell_type": "markdown",
   "metadata": {
    "pycharm": {
     "name": "#%% md\n"
    }
   },
   "source": [
    "##### eq 5:"
   ]
  },
  {
   "cell_type": "markdown",
   "metadata": {},
   "source": [
    "$$\\bar{a}_\\mathrm{f}  =  \\sum_{j}^{m} a_\\mathrm{f}^\\mathrm{(j)}$$\n",
    "\n",
    "$$\\eta^\\mathrm{(j)} = \\dfrac{a_\\mathrm{f}^\\mathrm{(j)}}{\\bar{a}_\\mathrm{f}}$$"
   ]
  },
  {
   "cell_type": "markdown",
   "metadata": {},
   "source": [
    "| Symbol | Unit | Description\n",
    "| :-: | :-: | :- |\n",
    "| $a_\\mathrm{f}^\\mathrm{(j)}$ | $m^2$ | Reinforcement j cross section area|\n",
    "| $\\bar{a}_\\mathrm{f}$ | $m^2$ | Total reinforcement area |\n",
    "| $\\eta^\\mathrm{(j)}$ | - | Weigh factor |\n"
   ]
  },
  {
   "cell_type": "code",
   "execution_count": null,
   "metadata": {
    "pycharm": {
     "name": "#%%\n"
    }
   },
   "outputs": [],
   "source": [
    "def get_eta_j(a_f, a_j_f):\n",
    "    a_bar_f = sum (a_f)\n",
    "    eta_j = np.array(a_j_f) / a_bar_f\n",
    "    return eta_j, a_bar_f"
   ]
  },
  {
   "cell_type": "code",
   "execution_count": null,
   "metadata": {
    "pycharm": {
     "name": "#%%\n"
    }
   },
   "outputs": [],
   "source": [
    "a_j_f = a_f\n",
    "eta_j, a_bar_f = get_eta_j(a_f, a_j_f)\n",
    "eta_j"
   ]
  },
  {
   "cell_type": "markdown",
   "metadata": {
    "pycharm": {
     "name": "#%% md\n"
    }
   },
   "source": [
    "The effective fabric stress within the hybrid fabric cross section is then given as\n"
   ]
  },
  {
   "cell_type": "markdown",
   "metadata": {},
   "source": [
    "##### eq 6:"
   ]
  },
  {
   "cell_type": "markdown",
   "metadata": {},
   "source": [
    "$$\\bar{\\sigma}_\\mathrm{f}  = \\sum_{i}^{m}\\eta^\\mathrm{(j)} \\sigma_\\mathrm{f}^\\mathrm{(j)}$$"
   ]
  },
  {
   "cell_type": "markdown",
   "metadata": {},
   "source": [
    "| Symbol | Unit | Description\n",
    "| :-: | :-: | :- |\n",
    "| $\\bar{\\sigma}_\\mathrm{f}$ | MPa | Effective fabric stress|\n",
    "| $\\sigma_\\mathrm{f}^\\mathrm{(j)}$ | MPa | Fabric j stress |\n",
    "| $\\eta^\\mathrm{(j)}$ | - | Weigh factor |"
   ]
  },
  {
   "cell_type": "code",
   "execution_count": null,
   "metadata": {
    "pycharm": {
     "name": "#%%\n"
    }
   },
   "outputs": [],
   "source": [
    "def get_sig_bar_f(eta_j, sig_j_f):   \n",
    "    sig_bar_f = sum (eta_j * sig_j_f)\n",
    "    return sig_bar_f"
   ]
  },
  {
   "cell_type": "code",
   "execution_count": null,
   "metadata": {},
   "outputs": [],
   "source": [
    "sig_j_f = sig_f\n",
    "sig_bar_f = get_sig_bar_f(eta_j, sig_j_f)\n",
    "sig_bar_f"
   ]
  },
  {
   "cell_type": "markdown",
   "metadata": {},
   "source": [
    "The matrix stress is obtained by averaging the contributions determined in the individual tests"
   ]
  },
  {
   "cell_type": "markdown",
   "metadata": {},
   "source": [
    "##### eq 7:"
   ]
  },
  {
   "cell_type": "markdown",
   "metadata": {},
   "source": [
    "$$\\bar{\\sigma}_\\mathrm{m}  = \\dfrac{1}{m}\\sum_{i}^{m} \\sigma_\\mathrm{m}^\\mathrm{(j)}$$"
   ]
  },
  {
   "cell_type": "markdown",
   "metadata": {},
   "source": [
    "| Symbol | Unit | Description\n",
    "| :-: | :-: | :- |\n",
    "| $\\bar{\\sigma}_\\mathrm{m}$ | MPa | Effective matrix stress|\n",
    "| $\\sigma_\\mathrm{f}^\\mathrm{(j)}$ | MPa | Matrix j stress |\n",
    "| m | - | Number of matrices/layers |"
   ]
  },
  {
   "cell_type": "code",
   "execution_count": null,
   "metadata": {
    "pycharm": {
     "name": "#%%\n"
    }
   },
   "outputs": [],
   "source": [
    "def get_sig_bar_m(m, sig_j_m):   \n",
    "    sig_bar_m = 1 / m * sum (sig_j_m)\n",
    "    return sig_bar_m"
   ]
  },
  {
   "cell_type": "code",
   "execution_count": null,
   "metadata": {
    "pycharm": {
     "name": "#%%\n"
    }
   },
   "outputs": [],
   "source": [
    "m = 1\n",
    "sig_j_m = sig_m\n",
    "sig_bar_m = get_sig_bar_m(m, sig_j_m)\n",
    "sig_bar_m"
   ]
  },
  {
   "cell_type": "markdown",
   "metadata": {},
   "source": [
    "The matrix stress is obtained by averaging the contributions determined in the individual tests"
   ]
  },
  {
   "cell_type": "markdown",
   "metadata": {},
   "source": [
    "##### eq 8:"
   ]
  },
  {
   "cell_type": "markdown",
   "metadata": {},
   "source": [
    "$$\\bar{\\rho}  = \\bar{a_\\mathrm{f}} / \\bar{d}$$\n",
    "\n",
    "$$\\bar{\\sigma}_\\mathrm{c}  = (1 - \\bar{\\rho}) \\bar{\\sigma}_\\mathrm{m} + \\bar{\\rho}\\bar{\\sigma}_\\mathrm{f}$$"
   ]
  },
  {
   "cell_type": "markdown",
   "metadata": {},
   "source": [
    "| Symbol | Unit | Description\n",
    "| :-: | :-: | :- |\n",
    "| $\\bar{\\sigma}_\\mathrm{c}$ | MPa | Composite stress in a cross section of thickness $\\bar{d}$ |\n",
    "| $\\bar{\\rho}$ | % | Reinforcement ratio|\n",
    "| $\\bar{a_\\mathrm{f}}$ | $m^2$ | Fabric area |\n",
    "| $\\bar{d}$ | $m$ | Total specimen thickness |\n",
    "| $\\bar{\\sigma}_\\mathrm{m}$ | MPa | Effective atrix stress |\n",
    "| $\\bar{\\sigma}_\\mathrm{f}$ | MPa | Effective fabric stress |\n"
   ]
  },
  {
   "cell_type": "code",
   "execution_count": null,
   "metadata": {
    "pycharm": {
     "name": "#%%\n"
    }
   },
   "outputs": [],
   "source": [
    "def get_sig_bar_c(a_bar_f, d_bar, sig_bar_m, sig_bar_f):   \n",
    "    rho_bar = a_bar_f / d_bar\n",
    "    sig_bar_c = (1 - rho_bar) * sig_bar_m + rho_bar * sig_bar_f\n",
    "    return sig_bar_c"
   ]
  },
  {
   "cell_type": "code",
   "execution_count": null,
   "metadata": {},
   "outputs": [],
   "source": [
    "d_bar = d_test\n",
    "sig_bar_c = get_sig_bar_c(a_bar_f, d_bar, sig_bar_m, sig_bar_f)\n",
    "sig_bar_c"
   ]
  },
  {
   "cell_type": "markdown",
   "metadata": {},
   "source": [
    "#### 4.3. Scaling of Composite Response for a Layer of a Shell Element"
   ]
  },
  {
   "cell_type": "markdown",
   "metadata": {},
   "source": [
    "To identify the amount of stress corresponding to a layer of a finite element shell with a given layer thickness and its reinforcement ratio, the scaling formula can be used:"
   ]
  },
  {
   "cell_type": "markdown",
   "metadata": {},
   "source": [
    "##### eq 13:"
   ]
  },
  {
   "cell_type": "markdown",
   "metadata": {},
   "source": [
    "$$\\sigma^\\mathrm{(i)}_\\mathrm{c}  = \\dfrac{(1-\\rho^\\mathrm{(i)})}{(1-\\rho^\\mathrm{test})}\\sigma^\\mathrm{test}_\\mathrm{cm} + \\dfrac{(\\rho^\\mathrm{(i)})}{(\\rho^\\mathrm{test})}\\sigma^\\mathrm{test}_\\mathrm{cf}$$"
   ]
  },
  {
   "cell_type": "markdown",
   "metadata": {},
   "source": [
    "| Symbol | Unit | Description\n",
    "| :-: | :-: | :- |\n",
    "| $\\sigma^\\mathrm{(i)}_\\mathrm{c}$ | MPa | -|\n",
    "| $\\rho^\\mathrm{(i)}$ | % | - |\n",
    "| $\\rho^\\mathrm{test}$ | % | - |\n",
    "| $\\sigma^\\mathrm{test}_\\mathrm{cm}$ | MPa | - |\n",
    "| $\\sigma^\\mathrm{test}_\\mathrm{cf}$ | MPa | - |"
   ]
  },
  {
   "cell_type": "code",
   "execution_count": null,
   "metadata": {
    "pycharm": {
     "name": "#%%\n"
    }
   },
   "outputs": [],
   "source": [
    "def get_sig_i_c(rho_i, rho_test, sig_test_cm, sig_test_cf):   \n",
    "    sig_i_c = (1 - rho_i) / (1 - rho_test) * sig_test_cm +  rho_i / rho_test * sig_test_cf\n",
    "    return sig_i_c"
   ]
  },
  {
   "cell_type": "code",
   "execution_count": null,
   "metadata": {},
   "outputs": [],
   "source": [
    "rho_i_m = np.array([0, 0])\n",
    "rho_i_f = np.array([1, 1])\n",
    "\n",
    "sig_i_c_m = get_sig_i_c(rho_i_m, rho_test, sig_test_cm, sig_test_cf)\n",
    "sig_i_c_f = get_sig_i_c(rho_i_f, rho_test, sig_test_cm, sig_test_cf)\n",
    "\n",
    "sig_i_c_m, sig_i_c_f"
   ]
  },
  {
   "cell_type": "code",
   "execution_count": null,
   "metadata": {},
   "outputs": [],
   "source": [
    "class ResolvedModel(InteractiveModel):\n",
    "    \n",
    "    '''\n",
    "    Resolved model of a BMCS beam\n",
    "    '''\n",
    "\n",
    "    name = 'Resolved Model'\n",
    "\n",
    "    ipw_view = View(\n",
    "        Item('a', latex='n_{\\mathrm{a}}')\n",
    "    )\n",
    "\n",
    "    def get_rho_test(a_f, d_test):\n",
    "        rho_test = np.divide(a_f, d_test) \n",
    "        return rho_test\n",
    "\n",
    "    def get_sig_test_c(rho_test, sig_m, sig_f):   \n",
    "        sig_test_cm = (1 - rho_test) * np.array(sig_m)\n",
    "        sig_test_cf = rho_test * np.array(sig_f)\n",
    "        sig_test_c = sig_test_cf + sig_test_cm\n",
    "        return sig_test_c, sig_test_cm, sig_test_cf\n",
    "\n",
    "    def get_sig_test_cf(E_yarn_f, eps_c, rho_test):\n",
    "        sig_f = np.array(E_yarn_f) * np.array(eps_c)\n",
    "        sig_test_cf = rho_test * sig_f\n",
    "        return sig_test_cf, sig_f\n",
    "\n",
    "    def get_E_test_f(E_test_cf, rho_test):   \n",
    "        E_test_f = E_test_cf / rho_test\n",
    "        return E_test_f\n",
    "\n",
    "    def get_sig_test_cm(sig_test_c, sig_test_cf):   \n",
    "        sig_test_cm = sig_test_c - sig_test_cf\n",
    "        return sig_test_cm\n",
    "\n",
    "    def get_eta_j(a_f, a_j_f):\n",
    "        a_bar_f = sum (a_f)\n",
    "        eta_j = np.array(a_j_f) / a_bar_f\n",
    "        return eta_j, a_bar_f\n",
    "\n",
    "    def get_sig_bar_f(eta_j, sig_j_f):   \n",
    "        sig_bar_f = sum (eta_j * sig_j_f)\n",
    "        return sig_bar_f\n",
    "\n",
    "    def get_sig_bar_m(m, sig_j_m):   \n",
    "        sig_bar_m = 1 / m * sum (sig_j_m)\n",
    "        return sig_bar_m\n",
    "\n",
    "    def get_sig_bar_c(a_bar_f, d_bar, sig_bar_m, sig_bar_f):   \n",
    "        rho_bar = a_bar_f / d_bar\n",
    "        sig_bar_c = (1 - rho_bar) * sig_bar_m + rho_bar * sig_bar_f\n",
    "        return sig_bar_c\n",
    "\n",
    "    def get_sig_i_c(rho_i, rho_test, sig_test_cm, sig_test_cf):   \n",
    "        sig_i_c = (1 - rho_i) / (1 - rho_test) * sig_test_cm + rho_i / rho_test * sig_test_cf\n",
    "        return sig_i_c\n",
    "\n",
    "    def subplots(self, fig):\n",
    "        pass\n",
    "\n",
    "    def update_plot(self, axes):\n",
    "        pass"
   ]
  },
  {
   "cell_type": "code",
   "execution_count": null,
   "metadata": {},
   "outputs": [],
   "source": []
  }
 ],
 "metadata": {
  "kernelspec": {
   "display_name": "Python 3 (ipykernel)",
   "language": "python",
   "name": "python3"
  },
  "language_info": {
   "codemirror_mode": {
    "name": "ipython",
    "version": 3
   },
   "file_extension": ".py",
   "mimetype": "text/x-python",
   "name": "python",
   "nbconvert_exporter": "python",
   "pygments_lexer": "ipython3"
  }
 },
 "nbformat": 4,
 "nbformat_minor": 4
}
