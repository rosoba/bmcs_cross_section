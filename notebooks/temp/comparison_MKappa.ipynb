{
 "cells": [
  {
   "cell_type": "code",
   "execution_count": 4,
   "metadata": {},
   "outputs": [
    {
     "data": {
      "application/vnd.jupyter.widget-view+json": {
       "model_id": "fc131cb57bb345cfb52f976511e4780c",
       "version_major": 2,
       "version_minor": 0
      },
      "text/plain": [
       "Output()"
      ]
     },
     "metadata": {},
     "output_type": "display_data"
    },
    {
     "data": {
      "application/vnd.jupyter.widget-view+json": {
       "model_id": "416ee64acc004b0d9272e8cadec030fc",
       "version_major": 2,
       "version_minor": 0
      },
      "text/plain": [
       "VBox(children=(HBox(children=(VBox(children=(Tree(layout=Layout(align_items='stretch', border_bottom='solid 1p…"
      ]
     },
     "metadata": {},
     "output_type": "display_data"
    },
    {
     "name": "stdout",
     "output_type": "stream",
     "text": [
      "23.620868971985367\n"
     ]
    }
   ],
   "source": [
    "\n",
    "%matplotlib widget\n",
    "from bmcs_cross_section.api import ReinfLayer, BarLayer, EC2, MKappa, TShape\n",
    "import bmcs_utils.api as bu\n",
    "import matplotlib.pyplot as plt\n",
    "from os.path import join\n",
    "import pandas as pd\n",
    "import numpy as np\n",
    "from bmcs_beam.api import DeflectionProfile\n",
    "\n",
    "mc = MKappa(low_kappa=0, \n",
    "                high_kappa=0.0001,\n",
    "                n_m=200,\n",
    "                n_kappa=200)\n",
    "\n",
    "\n",
    "# Cross- Section\n",
    "mc.cross_section_shape_.B = 200\n",
    "mc.cross_section_shape_.H = 400\n",
    "\n",
    "# Concrete Law\n",
    "mc.cs_design.concrete.compression = 'EC2 with plateau'\n",
    "\n",
    "# Tension\n",
    "mc.cs_design.concrete.tension_.eps_tu = 0.00025\n",
    "mc.cs_design.concrete.tension_.eps_cr =  0.000132\n",
    "mc.cs_design.concrete.tension_.mu = 0.42\n",
    "mc.cs_design.concrete.tension_.E_ct = 37800\n",
    "\n",
    "# Compression\n",
    "mc.cs_design.concrete.compression_.eps_cy = -0.0022\n",
    "mc.cs_design.concrete.compression_.eps_cu = -0.0031\n",
    "mc.cs_design.concrete.compression_.E_cc = 37800\n",
    "mc.cs_design.concrete.compression_.f_c= ((55*0.85/1.5))\n",
    "mc.cs_design.concrete.compression_.n=1.75\n",
    "\n",
    "# Carbon reinforcement\n",
    "l1 = ReinfLayer(name='carbon', z=30, A=0.01624, matmod='carbon')\n",
    "l1.matmod_.trait_set(E=102000, f_t=1250*0.83/1.3)\n",
    "mc.cross_section_layout.add_layer(l1)\n",
    "\n",
    "#mc.interact()\n",
    "dp = DeflectionProfile(mc=mc)\n",
    "dp.interact()\n",
    "\n",
    "print((mc.M_t.max())/1e6)"
   ]
  }
 ],
 "metadata": {
  "kernelspec": {
   "display_name": "bmcs_env",
   "language": "python",
   "name": "python3"
  },
  "language_info": {
   "codemirror_mode": {
    "name": "ipython",
    "version": 3
   },
   "file_extension": ".py",
   "mimetype": "text/x-python",
   "name": "python",
   "nbconvert_exporter": "python",
   "pygments_lexer": "ipython3",
   "version": "3.12.3"
  }
 },
 "nbformat": 4,
 "nbformat_minor": 2
}
